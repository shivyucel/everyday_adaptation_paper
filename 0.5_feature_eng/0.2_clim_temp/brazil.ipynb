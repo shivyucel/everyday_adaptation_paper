{
 "cells": [
  {
   "cell_type": "code",
   "execution_count": 65,
   "id": "573448d3-bff1-4c76-95ab-66e2c0ffcf5e",
   "metadata": {},
   "outputs": [
    {
     "name": "stderr",
     "output_type": "stream",
     "text": [
      "/var/folders/8g/qp1k_1g91m5f2m9pypxwxdhh0000gn/T/ipykernel_34746/3471708860.py:8: DeprecationWarning: Please use `pearsonr` from the `scipy.stats` namespace, the `scipy.stats.stats` namespace is deprecated.\n",
      "  from scipy.stats.stats import pearsonr\n"
     ]
    }
   ],
   "source": [
    "import pandas as pd\n",
    "import geopandas as gpd\n",
    "import matplotlib.pyplot as plt\n",
    "import seaborn as sns\n",
    "sns.set_style('darkgrid')\n",
    "from scipy.stats import ttest_ind\n",
    "import numpy as np\n",
    "from scipy.stats.stats import pearsonr\n",
    "from IPython.display import display, Markdown, Latex\n",
    "plt.style.use('ggplot')\n",
    "from datetime import date\n",
    "data_path = '/Users/shivyucel/Documents/projects/DPhil/Code_Data/data/'\n",
    "import dask.dataframe as dd\n",
    "from scipy.stats import norm\n",
    "from sklearn.cluster import KMeans\n",
    "import numpy as np\n",
    "\n",
    "import pandas\n",
    "\n"
   ]
  },
  {
   "cell_type": "code",
   "execution_count": 66,
   "id": "b570e2d6-13d2-4644-ab17-30cd153c4369",
   "metadata": {},
   "outputs": [],
   "source": [
    "#load mobility and temperature data\n",
    "#load heatwave - control dataframe\n",
    "mobility_heat = pd.read_csv('/Users/shivyucel/Documents/projects/DPhil/Code_Data/data/paper2/Brazil/THI_mobility_heat_clean_90.csv')\n",
    "heatwave_control = pd.read_csv('/Users/shivyucel/Documents/projects/DPhil/Code_Data/data/paper2/Brazil/THI_heatwave_control_90.csv')"
   ]
  },
  {
   "cell_type": "code",
   "execution_count": 68,
   "id": "0a0612c3-8ab4-4bde-860c-62d0852ca83c",
   "metadata": {},
   "outputs": [
    {
     "data": {
      "text/plain": [
       "3618"
      ]
     },
     "execution_count": 68,
     "metadata": {},
     "output_type": "execute_result"
    }
   ],
   "source": [
    "len(heatwave_control['location'].unique())"
   ]
  },
  {
   "cell_type": "markdown",
   "id": "d6383384-1d4f-4263-be2a-131c912ea065",
   "metadata": {},
   "source": [
    "## Build Intensity Variable\n"
   ]
  },
  {
   "cell_type": "code",
   "execution_count": 69,
   "id": "644b8382-82e3-4fcd-8caa-a3190d453c20",
   "metadata": {},
   "outputs": [],
   "source": [
    "full_df = pd.read_csv('/Users/shivyucel/Documents/projects/DPhil/Code_Data/data/THI/brazil/daily_max_THI.csv')\n",
    "\n",
    "full_df.rename(columns={'time': 'datetime'}, inplace=True)\n",
    "full_df['datetime'] = pd.to_datetime(full_df['datetime'])\n",
    "full_df['day'] = pd.DatetimeIndex(full_df['datetime']).day\n",
    "full_df['month'] = pd.DatetimeIndex(full_df['datetime']).month\n",
    "full_df['year'] = pd.DatetimeIndex(full_df['datetime']).year\n",
    "full_df.month.unique()\n",
    "full_df = full_df[~full_df['month'].isin([9, 10, 4])]\n",
    "\n",
    "full_df['location'] = full_df['adm2'] + ', ' + full_df['adm1']\n",
    "full_df['datetime_ord'] = [date(x,y,z).toordinal() for x,y,z in zip(full_df['year'], full_df['month'], full_df['day'])]\n"
   ]
  },
  {
   "cell_type": "code",
   "execution_count": 70,
   "id": "41695105-3df0-4c36-b405-04acc57cc6bd",
   "metadata": {},
   "outputs": [],
   "source": [
    "mobility_heat['control_day'] = pd.to_datetime(mobility_heat['control_day'])"
   ]
  },
  {
   "cell_type": "code",
   "execution_count": 72,
   "id": "f36ddc97-0791-494e-8523-4de93ed6d6fe",
   "metadata": {},
   "outputs": [],
   "source": [
    "#merge temperatures from control day onto mobility heat\n",
    "mobility_heat = mobility_heat.merge(full_df[['datetime', 'thi', 'location']], left_on=['location', 'control_day'], right_on=['location', 'datetime'], suffixes=('_heat', '_control'))"
   ]
  },
  {
   "cell_type": "markdown",
   "id": "d7130df5-e000-4a2e-a594-631f56bc5c77",
   "metadata": {},
   "source": [
    "### Create/explore temperature difference variable"
   ]
  },
  {
   "cell_type": "code",
   "execution_count": 75,
   "id": "47677fbc-1454-40f6-a047-2e68c997f606",
   "metadata": {},
   "outputs": [],
   "source": [
    "mobility_heat['temp_diff'] = mobility_heat['thi_heat'] - mobility_heat['thi_control']"
   ]
  },
  {
   "cell_type": "code",
   "execution_count": 76,
   "id": "b3c0a5e6-f864-4450-816d-66bd2fbbae57",
   "metadata": {},
   "outputs": [
    {
     "data": {
      "text/plain": [
       "count    11792.000000\n",
       "mean         5.313386\n",
       "std          3.297456\n",
       "min          0.358634\n",
       "25%          2.662994\n",
       "50%          4.843039\n",
       "75%          7.124650\n",
       "max         17.831355\n",
       "Name: temp_diff, dtype: float64"
      ]
     },
     "execution_count": 76,
     "metadata": {},
     "output_type": "execute_result"
    }
   ],
   "source": [
    "mobility_heat['temp_diff'].describe()"
   ]
  },
  {
   "cell_type": "code",
   "execution_count": 77,
   "id": "42d6fcfa-7267-47e5-8c96-e77b6364e6e1",
   "metadata": {},
   "outputs": [
    {
     "data": {
      "image/png": "[encoded data removed]",
      "text/plain": [
       "<Figure size 640x480 with 1 Axes>"
      ]
     },
     "metadata": {},
     "output_type": "display_data"
    }
   ],
   "source": [
    "sns.histplot(mobility_heat, x='temp_diff')\n",
    "plt.title(\"Temperature Difference (heat wave vs. control)\")\n",
    "plt.tight_layout()\n",
    "plt.savefig(data_path + '/img/12_09_2023/india_temp_diff_dist.png')"
   ]
  },
  {
   "cell_type": "markdown",
   "id": "5def7819-8612-414f-976c-8a4043ec787f",
   "metadata": {
    "tags": []
   },
   "source": [
    "### Build Duration Variable\n",
    "* Duration of heat wave (in days)\n",
    "* Build variable showing which day of a heatwave it is (stage)"
   ]
  },
  {
   "cell_type": "code",
   "execution_count": 78,
   "id": "d9105895-1d37-4d91-97c8-02b7188d419e",
   "metadata": {},
   "outputs": [],
   "source": [
    "# Formatting column names and merging dataframes"
   ]
  },
  {
   "cell_type": "code",
   "execution_count": 79,
   "id": "a190b76f-9394-4ecf-a43e-57f7a7cac312",
   "metadata": {},
   "outputs": [],
   "source": [
    "heatwave_control.sort_values(by='Heat Wave Duration', inplace=True)"
   ]
  },
  {
   "cell_type": "code",
   "execution_count": 80,
   "id": "8d2491a0-f94c-4e93-ad5a-3c1daeaaeb79",
   "metadata": {},
   "outputs": [],
   "source": [
    "duration_IDs = heatwave_control.drop_duplicates('heat_ID')[['heat_ID', 'Heat Wave Duration']  ]             "
   ]
  },
  {
   "cell_type": "code",
   "execution_count": 81,
   "id": "75c2f0a9-8fd4-4260-8ecc-7e97980c1fef",
   "metadata": {},
   "outputs": [],
   "source": [
    "duration_IDs.columns = ['heat_ID', 'Heat Wave Duration']"
   ]
  },
  {
   "cell_type": "code",
   "execution_count": 84,
   "id": "f5fada8c-2478-45b2-b050-bfb23300e333",
   "metadata": {
    "tags": []
   },
   "outputs": [],
   "source": [
    "#drop original heatwave duration variable\n",
    "heatwave_control.drop('Heat Wave Duration', axis=1, inplace=True)"
   ]
  },
  {
   "cell_type": "code",
   "execution_count": 85,
   "id": "979fcf86-2759-4356-87f9-03925a00b9c6",
   "metadata": {},
   "outputs": [],
   "source": [
    "#merge duration ID dataframe onto heatwave control\n",
    "heatwave_control = heatwave_control.merge(duration_IDs, on='heat_ID', how='left')"
   ]
  },
  {
   "cell_type": "code",
   "execution_count": 86,
   "id": "52f9f8cc-fd15-413b-994b-b532a8e45faf",
   "metadata": {},
   "outputs": [],
   "source": [
    "heatwave_control.drop_duplicates(['location', 'datetime'], inplace=True)"
   ]
  },
  {
   "cell_type": "code",
   "execution_count": 87,
   "id": "98e3a920-36f4-454c-93ea-d1131685ab33",
   "metadata": {},
   "outputs": [],
   "source": [
    "heatwave_control['dur_ranking'] = heatwave_control['Heat Wave Duration'].rank(pct=True)"
   ]
  },
  {
   "cell_type": "code",
   "execution_count": 88,
   "id": "4a8a55c4-94f0-4efd-8a11-7e166ad6754c",
   "metadata": {},
   "outputs": [],
   "source": [
    "#groupby each heatwave, sort by date, assign increasing rank for each passing day\n",
    "heat_stage = heatwave_control.groupby('heat_ID').apply(lambda x: x.datetime.sort_values().rank()).reset_index()"
   ]
  },
  {
   "cell_type": "code",
   "execution_count": 89,
   "id": "0495cb2a-bd15-4e98-b997-9fdf49b4b849",
   "metadata": {},
   "outputs": [],
   "source": [
    "heat_stage.columns=['heat_ID', 'index', 'stage']"
   ]
  },
  {
   "cell_type": "code",
   "execution_count": 90,
   "id": "01a515c7-6e28-4408-80d9-9e36c4fca182",
   "metadata": {},
   "outputs": [
    {
     "data": {
      "text/plain": [
       "15.0"
      ]
     },
     "execution_count": 90,
     "metadata": {},
     "output_type": "execute_result"
    }
   ],
   "source": [
    "heat_stage['stage'].max()"
   ]
  },
  {
   "cell_type": "code",
   "execution_count": 91,
   "id": "0ab53057-d715-4dd1-ae96-b01c01d0ccee",
   "metadata": {},
   "outputs": [],
   "source": [
    "x = heat_stage.merge(duration_IDs, on='heat_ID')"
   ]
  },
  {
   "cell_type": "code",
   "execution_count": 92,
   "id": "1d4ad086-2ef3-48e5-bc63-0be7f4f5b472",
   "metadata": {},
   "outputs": [],
   "source": [
    "heatwave_control.drop('index', axis=1, inplace=True)"
   ]
  },
  {
   "cell_type": "code",
   "execution_count": 93,
   "id": "a97e7df5-7bb5-42f4-ae0d-e4d9ec795dde",
   "metadata": {},
   "outputs": [],
   "source": [
    "heatwave_control.reset_index(inplace=True)"
   ]
  },
  {
   "cell_type": "code",
   "execution_count": 94,
   "id": "75e63e58-4766-4ac3-955c-1dde116b33a9",
   "metadata": {},
   "outputs": [],
   "source": [
    "heatwave_control = heatwave_control.merge(heat_stage, on=['index', 'heat_ID'])"
   ]
  },
  {
   "cell_type": "code",
   "execution_count": 95,
   "id": "f662f787-bb98-4c68-b027-c998aaf82e91",
   "metadata": {},
   "outputs": [],
   "source": [
    "heatwave_control['datetime'] = pd.to_datetime(heatwave_control['datetime'])"
   ]
  },
  {
   "cell_type": "code",
   "execution_count": 96,
   "id": "ca136192-f7fa-4040-b563-a1f14949ce3c",
   "metadata": {},
   "outputs": [
    {
     "data": {
      "text/plain": [
       "15.0"
      ]
     },
     "execution_count": 96,
     "metadata": {},
     "output_type": "execute_result"
    }
   ],
   "source": [
    "heatwave_control['stage'].max()"
   ]
  },
  {
   "cell_type": "code",
   "execution_count": 97,
   "id": "6add04bb-cfde-4052-a3fd-ab0e9267cc23",
   "metadata": {},
   "outputs": [],
   "source": [
    "mobility_heat['date_heat'] = pd.to_datetime(mobility_heat['date_heat'])"
   ]
  },
  {
   "cell_type": "code",
   "execution_count": 98,
   "id": "87fb8d5f-80f7-4c6f-9167-471a2e6a58d1",
   "metadata": {},
   "outputs": [],
   "source": [
    "#merge temporal variables into mobility_heat\n",
    "\n",
    "mobility_heat = mobility_heat.merge(heatwave_control[['location', 'datetime', 'Heat Wave Duration', 'dur_ranking', 'stage']], left_on=['location', 'date_heat'], right_on=['location', 'datetime'])"
   ]
  },
  {
   "cell_type": "code",
   "execution_count": 99,
   "id": "ceaefe1e-46fa-4937-afe2-a81c4d51f74c",
   "metadata": {},
   "outputs": [],
   "source": [
    "mobility_heat.reset_index(inplace=True)"
   ]
  },
  {
   "cell_type": "code",
   "execution_count": 100,
   "id": "492c5f4a-9f62-49ba-be5f-eec51a786fc8",
   "metadata": {},
   "outputs": [],
   "source": [
    "mobility_heat['month'] = [x.month for x in mobility_heat['datetime']]"
   ]
  },
  {
   "cell_type": "code",
   "execution_count": 101,
   "id": "6961097a-136d-431c-b7f0-01edbc712cf1",
   "metadata": {},
   "outputs": [
    {
     "data": {
      "text/plain": [
       "array([11, 12,  1,  2,  3])"
      ]
     },
     "execution_count": 101,
     "metadata": {},
     "output_type": "execute_result"
    }
   ],
   "source": [
    "mobility_heat['month'].unique()"
   ]
  },
  {
   "cell_type": "code",
   "execution_count": null,
   "id": "8a15bb0e",
   "metadata": {},
   "outputs": [],
   "source": [
    "#sorts heatwaves together\n",
    "unique_IDs = heatwave_control.drop_duplicates('heat_ID')\n",
    "unique_IDs = unique_IDs[['heat_ID']]\n",
    "\n",
    "mobility_heat = mobility_heat.merge(unique_IDs, on='heat_ID')"
   ]
  },
  {
   "cell_type": "code",
   "execution_count": 105,
   "id": "53bd61d8-7321-4892-b7ce-ef18722faa9a",
   "metadata": {},
   "outputs": [],
   "source": [
    "# format final variables\n",
    "mobility_heat['stage_frac'] = (mobility_heat['stage'] / mobility_heat['Heat Wave Duration'] )\n",
    "mobility_heat['heatwave_dur'] = mobility_heat['Heat Wave Duration'] >= 4"
   ]
  },
  {
   "cell_type": "code",
   "execution_count": 106,
   "id": "b091eccc-8e9d-48d3-8f61-af83ee290451",
   "metadata": {},
   "outputs": [],
   "source": [
    "mobility_heat['month'] = [x.month for x in pd.to_datetime(mobility_heat['date_control'])]"
   ]
  },
  {
   "cell_type": "code",
   "execution_count": 107,
   "id": "c1fb8bc8-a088-481f-bd6d-65beed388bda",
   "metadata": {},
   "outputs": [],
   "source": [
    "mobility_heat['date_control'] = pd.to_datetime(mobility_heat['date_control'])"
   ]
  },
  {
   "cell_type": "code",
   "execution_count": 108,
   "id": "30b10977-b5b4-45b3-9b5d-415d096e6a9a",
   "metadata": {},
   "outputs": [
    {
     "data": {
      "text/plain": [
       "0       2021-11-15\n",
       "1       2021-11-09\n",
       "2       2021-12-17\n",
       "3       2021-12-11\n",
       "4       2021-11-21\n",
       "           ...    \n",
       "11787   2022-01-12\n",
       "11788   2022-01-13\n",
       "11789   2022-01-15\n",
       "11790   2022-01-16\n",
       "11791   2022-01-17\n",
       "Name: date_control, Length: 11792, dtype: datetime64[ns]"
      ]
     },
     "execution_count": 108,
     "metadata": {},
     "output_type": "execute_result"
    }
   ],
   "source": [
    "mobility_heat['date_control']"
   ]
  },
  {
   "cell_type": "markdown",
   "id": "103a2649-4ccd-40a1-bd89-9784b7922e84",
   "metadata": {},
   "source": [
    "## Merge social and physical variables"
   ]
  },
  {
   "cell_type": "code",
   "execution_count": 109,
   "id": "a83c2911-910e-4669-b103-ffa0d340a7dc",
   "metadata": {},
   "outputs": [],
   "source": [
    "soc_phys = gpd.read_file('/Users/shivyucel/Documents/projects/DPhil/Code_Data/data/physical/brazil/merged.shp')"
   ]
  },
  {
   "cell_type": "code",
   "execution_count": 110,
   "id": "8bb2a2d5-567e-40ef-ba66-86abfb2d589a",
   "metadata": {},
   "outputs": [],
   "source": [
    "mobility_heat= mobility_heat.merge(soc_phys[['location', 'mean_elev', 'coast', 'HDI_dec', 'popdens_de', 'over60_dec']], on='location')"
   ]
  },
  {
   "cell_type": "code",
   "execution_count": 111,
   "id": "0b34c369-3842-405c-8b65-3c0a40117aea",
   "metadata": {},
   "outputs": [],
   "source": [
    "mobility_heat['elev_1500m'] = mobility_heat['mean_elev'] >= 1500"
   ]
  },
  {
   "cell_type": "code",
   "execution_count": 112,
   "id": "23834e4d-75ec-4d86-bba6-1b1e55f1ca8b",
   "metadata": {},
   "outputs": [],
   "source": [
    "mobility_heat['elev_1500m'] = mobility_heat['elev_1500m'] * 1"
   ]
  },
  {
   "cell_type": "markdown",
   "id": "181d61d0-6c52-4d57-867e-f82066326015",
   "metadata": {},
   "source": [
    "### Remove holidays "
   ]
  },
  {
   "cell_type": "code",
   "execution_count": 114,
   "id": "65655f52-b378-4f05-933b-b1b6be7d66a9",
   "metadata": {},
   "outputs": [],
   "source": [
    "import requests"
   ]
  },
  {
   "cell_type": "code",
   "execution_count": 115,
   "id": "399f7342-be5e-43d2-a608-3ec62db1b528",
   "metadata": {},
   "outputs": [],
   "source": [
    "hols_2021 = pd.DataFrame(requests.get(\"https://date.nager.at/api/v3/publicholidays/2021/BR\").json())\n",
    "hols_2022 = pd.DataFrame(requests.get(\"https://date.nager.at/api/v3/publicholidays/2022/BR\").json())\n",
    "hols = pd.concat([hols_2021, hols_2022])\n",
    "hols['date'] = pd.to_datetime(hols['date'])"
   ]
  },
  {
   "cell_type": "code",
   "execution_count": 116,
   "id": "b09fcf24-cd8a-4416-b545-db8e7f6a9127",
   "metadata": {},
   "outputs": [],
   "source": [
    "mobility_heat = mobility_heat[~mobility_heat['datetime_heat'].isin(hols['date'].values)]\n",
    "mobility_heat = mobility_heat[~mobility_heat['datetime_control'].isin(hols['date'].values)]"
   ]
  },
  {
   "cell_type": "markdown",
   "id": "0407d77a",
   "metadata": {},
   "source": [
    "## Normalized rain variable for heatwave and control day"
   ]
  },
  {
   "cell_type": "code",
   "execution_count": 117,
   "id": "5cd57ebe",
   "metadata": {},
   "outputs": [],
   "source": [
    "precip = pd.read_csv('/Users/shivyucel/Documents/projects/DPhil/Code_Data/data/precipitation/brazil/daily_sum_precipitation.csv')\n",
    "precip.rename(columns={'valid_time': 'time'}, inplace=True)\n",
    "precip['time'] = pd.to_datetime(precip['time'])"
   ]
  },
  {
   "cell_type": "code",
   "execution_count": 118,
   "id": "ddc31b81",
   "metadata": {},
   "outputs": [],
   "source": [
    "gdf = gpd.read_file('/Users/shivyucel/Documents/projects/DPhil/Code_Data/data/adm0_shp/brazil/clean_shp.shp')\n",
    "gdf.set_crs(epsg='4326', inplace=True)\n",
    "gdf['location'] = gdf['adm2'] + ', ' + gdf['adm1']\n",
    "gdf.to_crs(epsg='3857', inplace=True)\n",
    "gdf['area'] = [x.area for x in gdf['geometry']]"
   ]
  },
  {
   "cell_type": "code",
   "execution_count": 119,
   "id": "a8176592",
   "metadata": {},
   "outputs": [],
   "source": [
    "#rain from m --> mm\n",
    "precip['daily_precipitation'] = precip['daily_precipitation'] * 1000"
   ]
  },
  {
   "cell_type": "code",
   "execution_count": 120,
   "id": "d7e0c924",
   "metadata": {},
   "outputs": [],
   "source": [
    "#area from m --> km\n",
    "\n",
    "gdf['area'] = gdf['area'] / 1000"
   ]
  },
  {
   "cell_type": "code",
   "execution_count": 121,
   "id": "e4ac7b9d",
   "metadata": {},
   "outputs": [],
   "source": [
    "precip = precip.merge(gdf[['location', 'area']], on='location')\n",
    "precip['rain_normed'] = (precip['daily_precipitation'] / precip['area']) "
   ]
  },
  {
   "cell_type": "code",
   "execution_count": 122,
   "id": "1efaf7f6",
   "metadata": {},
   "outputs": [],
   "source": [
    "precip['rain_standard'] = precip.groupby('location')['rain_normed'].rank(pct=True) * 100"
   ]
  },
  {
   "cell_type": "markdown",
   "id": "1433cb39",
   "metadata": {},
   "source": [
    "### Control day rain dummy"
   ]
  },
  {
   "cell_type": "code",
   "execution_count": 123,
   "id": "c299ca5b",
   "metadata": {},
   "outputs": [],
   "source": [
    "mobility_heat = mobility_heat.merge(precip[['time', 'adm1', 'adm2', 'rain_standard']], left_on=['control_day', 'adm1', 'adm2'], right_on=['time', 'adm1', 'adm2'])"
   ]
  },
  {
   "cell_type": "code",
   "execution_count": 124,
   "id": "4cc13140",
   "metadata": {},
   "outputs": [],
   "source": [
    "mobility_heat.rename(columns={'rain_standard': \"rain_standard_control\"}, inplace=True)"
   ]
  },
  {
   "cell_type": "markdown",
   "id": "815b258b",
   "metadata": {},
   "source": [
    "### Heatwave day rain dummy"
   ]
  },
  {
   "cell_type": "code",
   "execution_count": 125,
   "id": "15adcbf5",
   "metadata": {},
   "outputs": [],
   "source": [
    "mobility_heat = mobility_heat.merge(precip[['time', 'adm1', 'adm2', 'rain_standard']], left_on=['date_heat', 'adm1', 'adm2'], right_on=['time', 'adm1', 'adm2'])"
   ]
  },
  {
   "cell_type": "code",
   "execution_count": 126,
   "id": "184723fd",
   "metadata": {},
   "outputs": [],
   "source": [
    "mobility_heat.rename(columns={'rain_standard': \"rain_standard_heat\"}, inplace=True)"
   ]
  },
  {
   "cell_type": "markdown",
   "id": "05ef18b3-e9fa-4f81-bcb3-9b43bf128536",
   "metadata": {},
   "source": [
    "### Prepare final dataset"
   ]
  },
  {
   "cell_type": "code",
   "execution_count": 127,
   "id": "2ed26977-1fe9-4add-982a-9ce73fd5cb82",
   "metadata": {},
   "outputs": [],
   "source": [
    "df = mobility_heat.copy()"
   ]
  },
  {
   "cell_type": "code",
   "execution_count": 128,
   "id": "9d6f99f0-db62-4471-8bb1-cde1740c1b53",
   "metadata": {},
   "outputs": [],
   "source": [
    "df = df[df['mean_elev'] <= 2500]"
   ]
  },
  {
   "cell_type": "code",
   "execution_count": 129,
   "id": "874a979c-49e1-46e1-9d3c-bcbf31b0ccb7",
   "metadata": {},
   "outputs": [],
   "source": [
    "#set outlier cutoff (how many SDs away from mean)\n",
    "SD = 4"
   ]
  },
  {
   "cell_type": "code",
   "execution_count": 130,
   "id": "a428df5f-4683-4d2f-a80d-b39bcb432a8d",
   "metadata": {},
   "outputs": [],
   "source": [
    "for variable in ['workplaces_difference', 'residential_difference', 'grocery_pharm_difference', 'parks_difference', 'retail_rec_difference', 'transit_difference']:\n",
    "    df[variable] = [np.nan if (x >= df[variable].mean() + (SD * df[variable].std())) | (x <= df[variable].mean() - (SD * df[variable].std())) else x for x in df[variable] ]\n",
    "\n",
    "    #v13\n",
    "df.dropna(how='all', subset=['workplaces_difference', 'residential_difference', 'transit_difference', 'grocery_pharm_difference', 'parks_difference', 'retail_rec_difference'], inplace=True)"
   ]
  },
  {
   "cell_type": "code",
   "execution_count": 131,
   "id": "1aa67b56-2c53-413e-ab9f-83df01a3a87c",
   "metadata": {},
   "outputs": [],
   "source": [
    "df = df.iloc[:, 3:]"
   ]
  },
  {
   "cell_type": "code",
   "execution_count": 132,
   "id": "53cd46f8-a52b-44ab-b782-5f2b4a59a339",
   "metadata": {},
   "outputs": [],
   "source": [
    "df.reset_index(inplace=True)"
   ]
  },
  {
   "cell_type": "code",
   "execution_count": 133,
   "id": "8f3fbcf9",
   "metadata": {},
   "outputs": [
    {
     "data": {
      "text/html": [
       "<div>\n",
       "<style scoped>\n",
       "    .dataframe tbody tr th:only-of-type {\n",
       "        vertical-align: middle;\n",
       "    }\n",
       "\n",
       "    .dataframe tbody tr th {\n",
       "        vertical-align: top;\n",
       "    }\n",
       "\n",
       "    .dataframe thead th {\n",
       "        text-align: right;\n",
       "    }\n",
       "</style>\n",
       "<table border=\"1\" class=\"dataframe\">\n",
       "  <thead>\n",
       "    <tr style=\"text-align: right;\">\n",
       "      <th></th>\n",
       "      <th>count</th>\n",
       "      <th>mean</th>\n",
       "      <th>std</th>\n",
       "      <th>min</th>\n",
       "      <th>max</th>\n",
       "    </tr>\n",
       "  </thead>\n",
       "  <tbody>\n",
       "    <tr>\n",
       "      <th>residential_difference</th>\n",
       "      <td>5230.0</td>\n",
       "      <td>0.299044</td>\n",
       "      <td>2.303526</td>\n",
       "      <td>-9.0</td>\n",
       "      <td>10.0</td>\n",
       "    </tr>\n",
       "    <tr>\n",
       "      <th>workplaces_difference</th>\n",
       "      <td>11069.0</td>\n",
       "      <td>-0.027825</td>\n",
       "      <td>14.202106</td>\n",
       "      <td>-69.0</td>\n",
       "      <td>68.0</td>\n",
       "    </tr>\n",
       "    <tr>\n",
       "      <th>transit_difference</th>\n",
       "      <td>2416.0</td>\n",
       "      <td>-3.572848</td>\n",
       "      <td>16.728983</td>\n",
       "      <td>-88.0</td>\n",
       "      <td>69.0</td>\n",
       "    </tr>\n",
       "    <tr>\n",
       "      <th>grocery_pharm_difference</th>\n",
       "      <td>3825.0</td>\n",
       "      <td>-3.128889</td>\n",
       "      <td>15.408010</td>\n",
       "      <td>-81.0</td>\n",
       "      <td>72.0</td>\n",
       "    </tr>\n",
       "    <tr>\n",
       "      <th>retail_rec_difference</th>\n",
       "      <td>4128.0</td>\n",
       "      <td>-3.220203</td>\n",
       "      <td>13.867723</td>\n",
       "      <td>-65.0</td>\n",
       "      <td>60.0</td>\n",
       "    </tr>\n",
       "    <tr>\n",
       "      <th>parks_difference</th>\n",
       "      <td>3352.0</td>\n",
       "      <td>-2.017900</td>\n",
       "      <td>25.379477</td>\n",
       "      <td>-121.0</td>\n",
       "      <td>115.0</td>\n",
       "    </tr>\n",
       "  </tbody>\n",
       "</table>\n",
       "</div>"
      ],
      "text/plain": [
       "                            count      mean        std    min    max\n",
       "residential_difference     5230.0  0.299044   2.303526   -9.0   10.0\n",
       "workplaces_difference     11069.0 -0.027825  14.202106  -69.0   68.0\n",
       "transit_difference         2416.0 -3.572848  16.728983  -88.0   69.0\n",
       "grocery_pharm_difference   3825.0 -3.128889  15.408010  -81.0   72.0\n",
       "retail_rec_difference      4128.0 -3.220203  13.867723  -65.0   60.0\n",
       "parks_difference           3352.0 -2.017900  25.379477 -121.0  115.0"
      ]
     },
     "execution_count": 133,
     "metadata": {},
     "output_type": "execute_result"
    }
   ],
   "source": [
    "df[['residential_difference', 'workplaces_difference', 'transit_difference', 'grocery_pharm_difference', 'retail_rec_difference', 'parks_difference']].describe().transpose()[['count', 'mean', 'std', 'min', 'max']]"
   ]
  },
  {
   "cell_type": "code",
   "execution_count": 134,
   "id": "31aa1b78-c1ed-4363-a823-73c1795c4167",
   "metadata": {},
   "outputs": [
    {
     "data": {
      "text/html": [
       "<div>\n",
       "<style scoped>\n",
       "    .dataframe tbody tr th:only-of-type {\n",
       "        vertical-align: middle;\n",
       "    }\n",
       "\n",
       "    .dataframe tbody tr th {\n",
       "        vertical-align: top;\n",
       "    }\n",
       "\n",
       "    .dataframe thead th {\n",
       "        text-align: right;\n",
       "    }\n",
       "</style>\n",
       "<table border=\"1\" class=\"dataframe\">\n",
       "  <thead>\n",
       "    <tr style=\"text-align: right;\">\n",
       "      <th></th>\n",
       "      <th>count</th>\n",
       "      <th>mean</th>\n",
       "      <th>std</th>\n",
       "      <th>min</th>\n",
       "      <th>max</th>\n",
       "    </tr>\n",
       "  </thead>\n",
       "  <tbody>\n",
       "    <tr>\n",
       "      <th>residential_difference</th>\n",
       "      <td>5230.0</td>\n",
       "      <td>0.299044</td>\n",
       "      <td>2.303526</td>\n",
       "      <td>-9.0</td>\n",
       "      <td>10.0</td>\n",
       "    </tr>\n",
       "    <tr>\n",
       "      <th>workplaces_difference</th>\n",
       "      <td>11069.0</td>\n",
       "      <td>-0.027825</td>\n",
       "      <td>14.202106</td>\n",
       "      <td>-69.0</td>\n",
       "      <td>68.0</td>\n",
       "    </tr>\n",
       "    <tr>\n",
       "      <th>transit_difference</th>\n",
       "      <td>2416.0</td>\n",
       "      <td>-3.572848</td>\n",
       "      <td>16.728983</td>\n",
       "      <td>-88.0</td>\n",
       "      <td>69.0</td>\n",
       "    </tr>\n",
       "    <tr>\n",
       "      <th>grocery_pharm_difference</th>\n",
       "      <td>3825.0</td>\n",
       "      <td>-3.128889</td>\n",
       "      <td>15.408010</td>\n",
       "      <td>-81.0</td>\n",
       "      <td>72.0</td>\n",
       "    </tr>\n",
       "    <tr>\n",
       "      <th>retail_rec_difference</th>\n",
       "      <td>4128.0</td>\n",
       "      <td>-3.220203</td>\n",
       "      <td>13.867723</td>\n",
       "      <td>-65.0</td>\n",
       "      <td>60.0</td>\n",
       "    </tr>\n",
       "    <tr>\n",
       "      <th>parks_difference</th>\n",
       "      <td>3352.0</td>\n",
       "      <td>-2.017900</td>\n",
       "      <td>25.379477</td>\n",
       "      <td>-121.0</td>\n",
       "      <td>115.0</td>\n",
       "    </tr>\n",
       "  </tbody>\n",
       "</table>\n",
       "</div>"
      ],
      "text/plain": [
       "                            count      mean        std    min    max\n",
       "residential_difference     5230.0  0.299044   2.303526   -9.0   10.0\n",
       "workplaces_difference     11069.0 -0.027825  14.202106  -69.0   68.0\n",
       "transit_difference         2416.0 -3.572848  16.728983  -88.0   69.0\n",
       "grocery_pharm_difference   3825.0 -3.128889  15.408010  -81.0   72.0\n",
       "retail_rec_difference      4128.0 -3.220203  13.867723  -65.0   60.0\n",
       "parks_difference           3352.0 -2.017900  25.379477 -121.0  115.0"
      ]
     },
     "execution_count": 134,
     "metadata": {},
     "output_type": "execute_result"
    }
   ],
   "source": [
    "df[['residential_difference', 'workplaces_difference', 'transit_difference', 'grocery_pharm_difference', 'retail_rec_difference', 'parks_difference']].describe().transpose()[['count', 'mean', 'std', 'min', 'max']]"
   ]
  },
  {
   "cell_type": "code",
   "execution_count": 135,
   "id": "952c859f-a114-46f4-8d46-fc1d8f900feb",
   "metadata": {},
   "outputs": [
    {
     "data": {
      "text/plain": [
       "Timestamp('2022-03-25 00:00:00')"
      ]
     },
     "execution_count": 135,
     "metadata": {},
     "output_type": "execute_result"
    }
   ],
   "source": [
    "df['date_heat'].max()"
   ]
  },
  {
   "cell_type": "code",
   "execution_count": 136,
   "id": "096a3e22-08c9-41b4-a62e-1193f4ca42b4",
   "metadata": {},
   "outputs": [],
   "source": [
    "df.to_csv(f'/Users/shivyucel/Documents/projects/DPhil/Code_Data/data/paper2/brazil/THI_mobility_heat_w_vars_90_{SD}SD_precip.csv')"
   ]
  }
 ],
 "metadata": {
  "kernelspec": {
   "display_name": "ox",
   "language": "python",
   "name": "python3"
  },
  "language_info": {
   "codemirror_mode": {
    "name": "ipython",
    "version": 3
   },
   "file_extension": ".py",
   "mimetype": "text/x-python",
   "name": "python",
   "nbconvert_exporter": "python",
   "pygments_lexer": "ipython3",
   "version": "3.11.0"
  }
 },
 "nbformat": 4,
 "nbformat_minor": 5
}

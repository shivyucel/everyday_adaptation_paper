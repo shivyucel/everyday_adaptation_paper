{
 "cells": [
  {
   "cell_type": "code",
   "execution_count": 1,
   "id": "573448d3-bff1-4c76-95ab-66e2c0ffcf5e",
   "metadata": {},
   "outputs": [
    {
     "name": "stderr",
     "output_type": "stream",
     "text": [
      "/var/folders/8g/qp1k_1g91m5f2m9pypxwxdhh0000gn/T/ipykernel_57759/1208524283.py:8: DeprecationWarning: Please use `pearsonr` from the `scipy.stats` namespace, the `scipy.stats.stats` namespace is deprecated.\n",
      "  from scipy.stats.stats import pearsonr\n"
     ]
    }
   ],
   "source": [
    "import pandas as pd\n",
    "import geopandas as gpd\n",
    "import matplotlib.pyplot as plt\n",
    "import seaborn as sns\n",
    "sns.set_style('darkgrid')\n",
    "from scipy.stats import ttest_ind\n",
    "import numpy as np\n",
    "from scipy.stats.stats import pearsonr\n",
    "from IPython.display import display, Markdown, Latex\n",
    "plt.style.use('ggplot')\n",
    "from datetime import date\n",
    "data_path = '/Users/shivyucel/Documents/projects/DPhil/Code_Data/data/'\n",
    "import dask.dataframe as dd\n",
    "from scipy.stats import norm\n",
    "\n",
    "from sklearn.cluster import KMeans\n",
    "import numpy as np\n",
    "\n",
    "import pandas\n",
    "\n"
   ]
  },
  {
   "cell_type": "code",
   "execution_count": 2,
   "id": "b570e2d6-13d2-4644-ab17-30cd153c4369",
   "metadata": {},
   "outputs": [],
   "source": [
    "#load mobility and temperature data\n",
    "#load heatwave - control dataframe\n",
    "mobility_heat = pd.read_csv('/Users/shivyucel/Documents/projects/DPhil/Code_Data/data/paper2/united_states/THI_mobility_heat_clean_90.csv')\n",
    "heatwave_control = pd.read_csv('/Users/shivyucel/Documents/projects/DPhil/Code_Data/data/paper2/united_states/THI_heatwave_control_90.csv')"
   ]
  },
  {
   "cell_type": "markdown",
   "id": "d6383384-1d4f-4263-be2a-131c912ea065",
   "metadata": {},
   "source": [
    "## Build Intensity Variable\n"
   ]
  },
  {
   "cell_type": "code",
   "execution_count": 3,
   "id": "644b8382-82e3-4fcd-8caa-a3190d453c20",
   "metadata": {},
   "outputs": [],
   "source": [
    "full_df = pd.read_csv('/Users/shivyucel/Documents/projects/DPhil/Code_Data/data/THI/united_states/daily_max_THI.csv')\n",
    "\n",
    "full_df.rename(columns={'time': 'datetime'}, inplace=True)\n",
    "full_df['datetime'] = pd.to_datetime(full_df['datetime'])\n",
    "full_df['day'] = pd.DatetimeIndex(full_df['datetime']).day\n",
    "full_df['month'] = pd.DatetimeIndex(full_df['datetime']).month\n",
    "full_df['year'] = pd.DatetimeIndex(full_df['datetime']).year\n",
    "full_df = full_df[~full_df['month'].isin([4, 10])]\n",
    "full_df['location'] = full_df['adm2'] + ', ' + full_df['adm1']\n",
    "full_df['datetime_ord'] = [date(x,y,z).toordinal() for x,y,z in zip(full_df['year'], full_df['month'], full_df['day'])]\n"
   ]
  },
  {
   "cell_type": "code",
   "execution_count": 4,
   "id": "bbcf40b0-c677-4b00-9ccb-2e72c33546ad",
   "metadata": {},
   "outputs": [],
   "source": [
    "mobility_heat['control_day'] = pd.to_datetime(mobility_heat['control_day'])"
   ]
  },
  {
   "cell_type": "code",
   "execution_count": 5,
   "id": "f36ddc97-0791-494e-8523-4de93ed6d6fe",
   "metadata": {},
   "outputs": [],
   "source": [
    "#merge temperatures from control day onto mobility heat\n",
    "mobility_heat = mobility_heat.merge(full_df[['datetime', 'thi', 'location']], left_on=['location', 'control_day'], right_on=['location', 'datetime'], suffixes=('_heat', '_control'))"
   ]
  },
  {
   "cell_type": "code",
   "execution_count": 6,
   "id": "7f63c0c4-5b53-486c-99dd-20d83ea0ca1e",
   "metadata": {},
   "outputs": [
    {
     "data": {
      "text/plain": [
       "19.68433122623494"
      ]
     },
     "execution_count": 6,
     "metadata": {},
     "output_type": "execute_result"
    }
   ],
   "source": [
    "(mobility_heat['thi_heat'] - mobility_heat['thi_control']).max()"
   ]
  },
  {
   "cell_type": "code",
   "execution_count": 7,
   "id": "bf3baeb4-ea3f-412e-8823-da06167a80ae",
   "metadata": {},
   "outputs": [
    {
     "data": {
      "text/plain": [
       "array([[1.        , 0.70161434],\n",
       "       [0.70161434, 1.        ]])"
      ]
     },
     "execution_count": 7,
     "metadata": {},
     "output_type": "execute_result"
    }
   ],
   "source": [
    "np.corrcoef(mobility_heat['thi_heat'], mobility_heat['thi_control'])\n"
   ]
  },
  {
   "cell_type": "markdown",
   "id": "d7130df5-e000-4a2e-a594-631f56bc5c77",
   "metadata": {},
   "source": [
    "### Create/explore temperature difference variable"
   ]
  },
  {
   "cell_type": "code",
   "execution_count": 8,
   "id": "47677fbc-1454-40f6-a047-2e68c997f606",
   "metadata": {},
   "outputs": [],
   "source": [
    "mobility_heat['thi_diff'] = mobility_heat['thi_heat'] - mobility_heat['thi_control']"
   ]
  },
  {
   "cell_type": "code",
   "execution_count": 9,
   "id": "b3c0a5e6-f864-4450-816d-66bd2fbbae57",
   "metadata": {},
   "outputs": [
    {
     "data": {
      "text/plain": [
       "count    35127.000000\n",
       "mean         6.805378\n",
       "std          3.218647\n",
       "min          0.867800\n",
       "25%          4.232981\n",
       "50%          6.369885\n",
       "75%          8.976771\n",
       "max         19.684331\n",
       "Name: thi_diff, dtype: float64"
      ]
     },
     "execution_count": 9,
     "metadata": {},
     "output_type": "execute_result"
    }
   ],
   "source": [
    "mobility_heat['thi_diff'].describe()"
   ]
  },
  {
   "cell_type": "code",
   "execution_count": 10,
   "id": "42d6fcfa-7267-47e5-8c96-e77b6364e6e1",
   "metadata": {},
   "outputs": [
    {
     "data": {
      "image/png": "[encoded data removed]",
      "text/plain": [
       "<Figure size 640x480 with 1 Axes>"
      ]
     },
     "metadata": {},
     "output_type": "display_data"
    }
   ],
   "source": [
    "sns.histplot(mobility_heat, x='thi_diff')\n",
    "plt.title(\"THI Difference (heat wave vs. control)\")\n",
    "plt.tight_layout()\n",
    "plt.savefig(data_path + '/img/12_09_2023/india_temp_diff_dist.png')"
   ]
  },
  {
   "cell_type": "markdown",
   "id": "5e4e9c4f-4b35-4af8-85e9-0b9c73febc6b",
   "metadata": {
    "tags": []
   },
   "source": [
    "### Build Duration Variable\n",
    "* Duration of heat wave (in days)\n",
    "* Build variable showing which day of a heatwave it is"
   ]
  },
  {
   "cell_type": "code",
   "execution_count": 11,
   "id": "e8503f89-de65-4b25-b23d-955a764bf396",
   "metadata": {},
   "outputs": [],
   "source": [
    "# Formatting column names and merging dataframes"
   ]
  },
  {
   "cell_type": "code",
   "execution_count": 12,
   "id": "0fa340fd-86a1-4572-8886-a9613b77fd0a",
   "metadata": {},
   "outputs": [],
   "source": [
    "heatwave_control.sort_values(by='Heat Wave Duration', inplace=True)"
   ]
  },
  {
   "cell_type": "code",
   "execution_count": 13,
   "id": "ddcb491e-4217-4a86-bb5d-a0778cb7e8cf",
   "metadata": {},
   "outputs": [],
   "source": [
    "duration_IDs = heatwave_control.drop_duplicates('heat_ID')[['heat_ID', 'Heat Wave Duration']  ]             "
   ]
  },
  {
   "cell_type": "code",
   "execution_count": 14,
   "id": "d203f54f-03ac-437f-85f4-e2af59984400",
   "metadata": {},
   "outputs": [],
   "source": [
    "duration_IDs.columns = ['heat_ID', 'Heat Wave Duration']"
   ]
  },
  {
   "cell_type": "code",
   "execution_count": 15,
   "id": "a6a7d5e4-00b9-4725-b1bf-0e9d943c4ddb",
   "metadata": {},
   "outputs": [
    {
     "data": {
      "text/html": [
       "<div>\n",
       "<style scoped>\n",
       "    .dataframe tbody tr th:only-of-type {\n",
       "        vertical-align: middle;\n",
       "    }\n",
       "\n",
       "    .dataframe tbody tr th {\n",
       "        vertical-align: top;\n",
       "    }\n",
       "\n",
       "    .dataframe thead th {\n",
       "        text-align: right;\n",
       "    }\n",
       "</style>\n",
       "<table border=\"1\" class=\"dataframe\">\n",
       "  <thead>\n",
       "    <tr style=\"text-align: right;\">\n",
       "      <th></th>\n",
       "      <th>heat_ID</th>\n",
       "      <th>Heat Wave Duration</th>\n",
       "    </tr>\n",
       "  </thead>\n",
       "  <tbody>\n",
       "    <tr>\n",
       "      <th>0</th>\n",
       "      <td>63c76922-7346-4379-a835-658676278125</td>\n",
       "      <td>2.0</td>\n",
       "    </tr>\n",
       "    <tr>\n",
       "      <th>21452</th>\n",
       "      <td>bcc46dc9-bb53-4190-a5c2-a87a293d3847</td>\n",
       "      <td>2.0</td>\n",
       "    </tr>\n",
       "    <tr>\n",
       "      <th>21444</th>\n",
       "      <td>24a5d7fb-79d7-454f-a473-b8e0dd646eec</td>\n",
       "      <td>2.0</td>\n",
       "    </tr>\n",
       "    <tr>\n",
       "      <th>21442</th>\n",
       "      <td>f46f3a1f-f6d3-4928-b1e1-db042ef315a0</td>\n",
       "      <td>2.0</td>\n",
       "    </tr>\n",
       "    <tr>\n",
       "      <th>21440</th>\n",
       "      <td>370353f0-0e19-4e72-a1e8-812b9c99681c</td>\n",
       "      <td>2.0</td>\n",
       "    </tr>\n",
       "  </tbody>\n",
       "</table>\n",
       "</div>"
      ],
      "text/plain": [
       "                                    heat_ID  Heat Wave Duration\n",
       "0      63c76922-7346-4379-a835-658676278125                 2.0\n",
       "21452  bcc46dc9-bb53-4190-a5c2-a87a293d3847                 2.0\n",
       "21444  24a5d7fb-79d7-454f-a473-b8e0dd646eec                 2.0\n",
       "21442  f46f3a1f-f6d3-4928-b1e1-db042ef315a0                 2.0\n",
       "21440  370353f0-0e19-4e72-a1e8-812b9c99681c                 2.0"
      ]
     },
     "execution_count": 15,
     "metadata": {},
     "output_type": "execute_result"
    }
   ],
   "source": [
    "duration_IDs.head()"
   ]
  },
  {
   "cell_type": "code",
   "execution_count": 16,
   "id": "631d8f79-ff89-47ad-b3c8-9ee5328207d0",
   "metadata": {},
   "outputs": [
    {
     "data": {
      "text/plain": [
       "count    14108.000000\n",
       "mean         3.065707\n",
       "std          1.497336\n",
       "min          2.000000\n",
       "25%          2.000000\n",
       "50%          2.000000\n",
       "75%          4.000000\n",
       "max         13.000000\n",
       "Name: Heat Wave Duration, dtype: float64"
      ]
     },
     "execution_count": 16,
     "metadata": {},
     "output_type": "execute_result"
    }
   ],
   "source": [
    "duration_IDs['Heat Wave Duration'].describe()"
   ]
  },
  {
   "cell_type": "code",
   "execution_count": 17,
   "id": "f60ff376-ab55-485d-9612-f44178c0d76c",
   "metadata": {
    "tags": []
   },
   "outputs": [],
   "source": [
    "#drop original heatwave duration variable\n",
    "heatwave_control.drop('Heat Wave Duration', axis=1, inplace=True)"
   ]
  },
  {
   "cell_type": "code",
   "execution_count": 18,
   "id": "84973549-1665-43d3-bcbb-f8b86db085d8",
   "metadata": {},
   "outputs": [],
   "source": [
    "#merge duration ID dataframe onto heatwave control\n",
    "heatwave_control = heatwave_control.merge(duration_IDs, on='heat_ID', how='left')"
   ]
  },
  {
   "cell_type": "code",
   "execution_count": 19,
   "id": "5fa83dec-a895-4d72-ad13-5bbe552e6945",
   "metadata": {},
   "outputs": [],
   "source": [
    "heatwave_control.drop_duplicates(['location', 'datetime'], inplace=True)"
   ]
  },
  {
   "cell_type": "code",
   "execution_count": 20,
   "id": "bf3a23e7-5241-4a31-86f3-15d8cc85e96d",
   "metadata": {},
   "outputs": [],
   "source": [
    "heatwave_control['dur_ranking'] = heatwave_control['Heat Wave Duration'].rank(pct=True)"
   ]
  },
  {
   "cell_type": "code",
   "execution_count": 21,
   "id": "6cb7f85f-1559-43b7-982f-3a20bc83c37b",
   "metadata": {},
   "outputs": [],
   "source": [
    "#groupby each heatwave, sort by date, assign increasing rank for each passing day\n",
    "heat_stage = heatwave_control.groupby('heat_ID').apply(lambda x: x.datetime.sort_values().rank()).reset_index()"
   ]
  },
  {
   "cell_type": "code",
   "execution_count": 22,
   "id": "0830d5c2-8340-49cb-9c7f-d5a079b4f800",
   "metadata": {},
   "outputs": [],
   "source": [
    "heat_stage.columns=['heat_ID', 'index', 'stage']"
   ]
  },
  {
   "cell_type": "code",
   "execution_count": 23,
   "id": "b6e7b701-18b2-4bfb-92da-bba15079d85a",
   "metadata": {},
   "outputs": [
    {
     "data": {
      "text/plain": [
       "13.0"
      ]
     },
     "execution_count": 23,
     "metadata": {},
     "output_type": "execute_result"
    }
   ],
   "source": [
    "heat_stage['stage'].max()"
   ]
  },
  {
   "cell_type": "code",
   "execution_count": 24,
   "id": "14ef83ae-70f6-47f3-b5bb-9d96ecc02e2b",
   "metadata": {},
   "outputs": [],
   "source": [
    "x = heat_stage.merge(duration_IDs, on='heat_ID')"
   ]
  },
  {
   "cell_type": "code",
   "execution_count": 25,
   "id": "a85ba1ed-105d-434a-87dc-f7efeba082cf",
   "metadata": {},
   "outputs": [],
   "source": [
    "heatwave_control.drop('index', axis=1, inplace=True)"
   ]
  },
  {
   "cell_type": "code",
   "execution_count": 26,
   "id": "37704ce0-15ce-4c7a-b44e-60ed01d9da93",
   "metadata": {},
   "outputs": [],
   "source": [
    "heatwave_control.reset_index(inplace=True)"
   ]
  },
  {
   "cell_type": "code",
   "execution_count": 27,
   "id": "0e209216-5c89-49a7-9346-ee3e9281c20e",
   "metadata": {},
   "outputs": [],
   "source": [
    "heatwave_control = heatwave_control.merge(heat_stage, on=['index', 'heat_ID'])"
   ]
  },
  {
   "cell_type": "code",
   "execution_count": 28,
   "id": "d88d0c2c-6ea1-4c03-acc1-1f30c73fc3dd",
   "metadata": {},
   "outputs": [],
   "source": [
    "heatwave_control['datetime'] = pd.to_datetime(heatwave_control['datetime'])"
   ]
  },
  {
   "cell_type": "code",
   "execution_count": 29,
   "id": "91bb398b-b49f-4ea7-9faa-3d2d3a3b2b90",
   "metadata": {},
   "outputs": [
    {
     "data": {
      "text/plain": [
       "13.0"
      ]
     },
     "execution_count": 29,
     "metadata": {},
     "output_type": "execute_result"
    }
   ],
   "source": [
    "heatwave_control['stage'].max()"
   ]
  },
  {
   "cell_type": "code",
   "execution_count": 30,
   "id": "ffb37c87-221b-440d-9e45-57e75753d4ad",
   "metadata": {},
   "outputs": [],
   "source": [
    "mobility_heat['date_heat'] = pd.to_datetime(mobility_heat['date_heat'])"
   ]
  },
  {
   "cell_type": "code",
   "execution_count": 31,
   "id": "96b3e956-cfa4-4e28-a228-000910e87ef2",
   "metadata": {},
   "outputs": [],
   "source": [
    "#merge temporal variables into mobility_heat\n",
    "\n",
    "mobility_heat = mobility_heat.merge(heatwave_control[['location', 'datetime', 'Heat Wave Duration', 'dur_ranking', 'stage']], left_on=['location', 'date_heat'], right_on=['location', 'datetime'])"
   ]
  },
  {
   "cell_type": "code",
   "execution_count": 32,
   "id": "0c637f61-401c-4349-9080-7f658510148e",
   "metadata": {},
   "outputs": [],
   "source": [
    "mobility_heat.reset_index(inplace=True, drop=True)"
   ]
  },
  {
   "cell_type": "code",
   "execution_count": 33,
   "id": "2dbcb789-c5eb-4efa-bde7-b693842c2b3f",
   "metadata": {},
   "outputs": [],
   "source": [
    "mobility_heat['month'] = [x.month for x in mobility_heat['datetime']]"
   ]
  },
  {
   "cell_type": "code",
   "execution_count": 34,
   "id": "84f97670-1bd5-412e-8839-84ee3b11707f",
   "metadata": {},
   "outputs": [
    {
     "data": {
      "text/plain": [
       "array([7, 8, 9, 6, 5])"
      ]
     },
     "execution_count": 34,
     "metadata": {},
     "output_type": "execute_result"
    }
   ],
   "source": [
    "mobility_heat['month'].unique()"
   ]
  },
  {
   "cell_type": "code",
   "execution_count": 39,
   "id": "d5bd33fd-5001-4200-90cb-c845c2b3c63f",
   "metadata": {},
   "outputs": [],
   "source": [
    "# format final variables\n",
    "mobility_heat['stage_frac'] = (mobility_heat['stage'] / mobility_heat['Heat Wave Duration_y'] )\n"
   ]
  },
  {
   "cell_type": "code",
   "execution_count": 40,
   "id": "8bf8aeb7",
   "metadata": {},
   "outputs": [
    {
     "data": {
      "text/plain": [
       "count    11922.000000\n",
       "mean         3.114662\n",
       "std          1.531052\n",
       "min          2.000000\n",
       "25%          2.000000\n",
       "50%          2.000000\n",
       "75%          4.000000\n",
       "max         13.000000\n",
       "Name: Heat Wave Duration_y, dtype: float64"
      ]
     },
     "execution_count": 40,
     "metadata": {},
     "output_type": "execute_result"
    }
   ],
   "source": [
    "mobility_heat.drop_duplicates('heat_ID')['Heat Wave Duration_y'].describe()"
   ]
  },
  {
   "cell_type": "code",
   "execution_count": 41,
   "id": "537677fe",
   "metadata": {},
   "outputs": [],
   "source": [
    "mobility_heat['heatwave_dur'] = mobility_heat['Heat Wave Duration_y'] >= 4"
   ]
  },
  {
   "cell_type": "code",
   "execution_count": 42,
   "id": "f80fe89e-0820-49c6-aac9-0378622f78b5",
   "metadata": {},
   "outputs": [],
   "source": [
    "mobility_heat['month'] = [x.month for x in pd.to_datetime(mobility_heat['date_control'])]"
   ]
  },
  {
   "cell_type": "code",
   "execution_count": 43,
   "id": "b3ac3d3b-c208-45ce-9f43-61f9d862ff53",
   "metadata": {},
   "outputs": [],
   "source": [
    "mobility_heat['date_control'] = pd.to_datetime(mobility_heat['date_control'])"
   ]
  },
  {
   "cell_type": "code",
   "execution_count": 44,
   "id": "6019765b-37e7-4c9c-b330-9aa1fd770258",
   "metadata": {},
   "outputs": [
    {
     "data": {
      "text/plain": [
       "0       2022-07-18\n",
       "1       2022-07-18\n",
       "2       2022-07-19\n",
       "3       2022-07-13\n",
       "4       2022-07-14\n",
       "           ...    \n",
       "35122   2022-08-28\n",
       "35123   2022-08-29\n",
       "35124   2022-08-30\n",
       "35125   2022-08-31\n",
       "35126   2022-09-01\n",
       "Name: date_control, Length: 35127, dtype: datetime64[ns]"
      ]
     },
     "execution_count": 44,
     "metadata": {},
     "output_type": "execute_result"
    }
   ],
   "source": [
    "mobility_heat['date_control']"
   ]
  },
  {
   "cell_type": "markdown",
   "id": "9560c74a-4c5f-40cb-ad3a-6cdc8ab88131",
   "metadata": {},
   "source": [
    "## Merge social and physical variables"
   ]
  },
  {
   "cell_type": "code",
   "execution_count": 45,
   "id": "64f468fb-9baf-491e-b5a0-ad294092e41f",
   "metadata": {},
   "outputs": [],
   "source": [
    "soc_phys = gpd.read_file('/Users/shivyucel/Documents/projects/DPhil/Code_Data/data/physical/united_states/merged.shp')"
   ]
  },
  {
   "cell_type": "code",
   "execution_count": 46,
   "id": "7a40763c-2dc3-44ef-970a-2480b8754774",
   "metadata": {},
   "outputs": [],
   "source": [
    "mobility_heat= mobility_heat.merge(soc_phys[['location', 'mean_elev', 'coast', 'HDI_dec', 'popden_dec', 'over60_dec']], on='location')"
   ]
  },
  {
   "cell_type": "code",
   "execution_count": 47,
   "id": "6ba58129-b3ab-44ac-96e5-4c827cb57010",
   "metadata": {},
   "outputs": [],
   "source": [
    "mobility_heat['elev_1500m'] = mobility_heat['mean_elev'] >= 1500"
   ]
  },
  {
   "cell_type": "code",
   "execution_count": 48,
   "id": "e813cf16-c3e4-4c8a-b70e-c23579058820",
   "metadata": {},
   "outputs": [],
   "source": [
    "mobility_heat['elev_1500m'] = mobility_heat['elev_1500m'] * 1"
   ]
  },
  {
   "cell_type": "markdown",
   "id": "322d430c-a781-4ba2-8f71-e011e7e83a27",
   "metadata": {},
   "source": [
    "### Prepare final dataset"
   ]
  },
  {
   "cell_type": "markdown",
   "id": "6e1f5140-e00d-46f3-acec-8c701a306188",
   "metadata": {},
   "source": [
    "### Remove holidays "
   ]
  },
  {
   "cell_type": "code",
   "execution_count": 50,
   "id": "e58293a4-ddf1-44ba-960e-9a6df2676bc7",
   "metadata": {},
   "outputs": [],
   "source": [
    "#remove days on American holidays for heatwave and control days\n",
    "\n",
    "us_hols = pd.read_csv('/Users/shivyucel/Downloads/archive/400_Years_of_Generated_Dates_and_Holidays.csv')\n",
    "us_hols = us_hols[us_hols['IS_HOLIDAY'] == 1]\n",
    "us_hols['A_DATE'] = pd.to_datetime(us_hols['A_DATE'])\n",
    "\n"
   ]
  },
  {
   "cell_type": "code",
   "execution_count": 51,
   "id": "62b8de7a-286d-485f-8e95-5bbacdddab85",
   "metadata": {},
   "outputs": [],
   "source": [
    "holiday_array = us_hols['A_DATE'].unique()"
   ]
  },
  {
   "cell_type": "code",
   "execution_count": 52,
   "id": "d63cf2a3-89bf-4601-a48f-e9e01830496f",
   "metadata": {},
   "outputs": [],
   "source": [
    "mobility_heat = mobility_heat[~mobility_heat['datetime_heat'].isin(holiday_array)]\n",
    "mobility_heat = mobility_heat[~mobility_heat['datetime_control'].isin(holiday_array)]"
   ]
  },
  {
   "cell_type": "markdown",
   "id": "d3e7e764",
   "metadata": {},
   "source": [
    "## Normalized rain variable for heatwave and control day"
   ]
  },
  {
   "cell_type": "code",
   "execution_count": 53,
   "id": "8795fe1c",
   "metadata": {},
   "outputs": [],
   "source": [
    "precip = pd.read_csv('/Users/shivyucel/Documents/projects/DPhil/Code_Data/data/THI/united_states/daily_sum_precipitation.csv')\n",
    "precip.rename(columns={'valid_time': 'time'}, inplace=True)\n",
    "precip['time'] = pd.to_datetime(precip['time'])"
   ]
  },
  {
   "cell_type": "code",
   "execution_count": 54,
   "id": "4ee9fc56",
   "metadata": {},
   "outputs": [],
   "source": [
    "gdf = gpd.read_file('/Users/shivyucel/Documents/projects/DPhil/Code_Data/data/adm0_shp/united_states/clean_shp.shp')\n",
    "gdf['location'] = gdf['adm2'] + ', ' + gdf['adm1']\n",
    "gdf.to_crs(epsg='3857', inplace=True)\n",
    "gdf['area'] = [x.area for x in gdf['geometry']]"
   ]
  },
  {
   "cell_type": "code",
   "execution_count": 55,
   "id": "294d12d0",
   "metadata": {},
   "outputs": [],
   "source": [
    "#area from m --> km\n",
    "#rain from m --> mm\n",
    "precip['daily_precipitation'] = precip['daily_precipitation'] * 1000\n",
    "gdf['area'] = gdf['area'] / 1000"
   ]
  },
  {
   "cell_type": "code",
   "execution_count": 56,
   "id": "caafac26",
   "metadata": {},
   "outputs": [],
   "source": [
    "precip = precip.merge(gdf[['location', 'area']], on='location')\n",
    "precip['rain_normed'] = (precip['daily_precipitation'] / precip['area']) "
   ]
  },
  {
   "cell_type": "code",
   "execution_count": 57,
   "id": "7cf84087",
   "metadata": {},
   "outputs": [],
   "source": [
    "precip['rain_standard'] = precip.groupby('location')['rain_normed'].rank(pct=True) * 100"
   ]
  },
  {
   "cell_type": "markdown",
   "id": "762c79b7",
   "metadata": {},
   "source": [
    "### Control day rain dummy"
   ]
  },
  {
   "cell_type": "code",
   "execution_count": 58,
   "id": "62bd6de4",
   "metadata": {},
   "outputs": [],
   "source": [
    "mobility_heat = mobility_heat.merge(precip[['time', 'adm1', 'adm2', 'rain_standard']], left_on=['control_day', 'adm1', 'adm2'], right_on=['time', 'adm1', 'adm2'])"
   ]
  },
  {
   "cell_type": "code",
   "execution_count": 59,
   "id": "5a8ebc37",
   "metadata": {},
   "outputs": [],
   "source": [
    "mobility_heat.rename(columns={'rain_standard': \"rain_standard_control\"}, inplace=True)"
   ]
  },
  {
   "cell_type": "markdown",
   "id": "54e9348d",
   "metadata": {},
   "source": [
    "### Heatwave day rain dummy"
   ]
  },
  {
   "cell_type": "code",
   "execution_count": 60,
   "id": "24cb2e2e",
   "metadata": {},
   "outputs": [],
   "source": [
    "mobility_heat = mobility_heat.merge(precip[['time', 'adm1', 'adm2', 'rain_standard']], left_on=['date_heat', 'adm1', 'adm2'], right_on=['time', 'adm1', 'adm2'])"
   ]
  },
  {
   "cell_type": "code",
   "execution_count": 61,
   "id": "cab4aa7b",
   "metadata": {},
   "outputs": [],
   "source": [
    "mobility_heat.rename(columns={'rain_standard': \"rain_standard_heat\"}, inplace=True)"
   ]
  },
  {
   "cell_type": "markdown",
   "id": "8c924ae3-1907-4d2f-9782-a19a7e2e50f1",
   "metadata": {},
   "source": [
    "### Prepare final dataset"
   ]
  },
  {
   "cell_type": "code",
   "execution_count": 62,
   "id": "c309caa6-2abb-4982-a181-876dd7ad04a4",
   "metadata": {},
   "outputs": [],
   "source": [
    "df = mobility_heat.copy()"
   ]
  },
  {
   "cell_type": "code",
   "execution_count": 63,
   "id": "36d29995-3fd6-4931-95c5-a06b1d81e705",
   "metadata": {},
   "outputs": [],
   "source": [
    "df = df[df['mean_elev'] <= 2500]"
   ]
  },
  {
   "cell_type": "code",
   "execution_count": 64,
   "id": "d726c89a-a800-47f4-bd9c-cf2806b4cf0b",
   "metadata": {},
   "outputs": [],
   "source": [
    "#set outlier cutoff (how many SDs away from mean)\n",
    "SD = 4"
   ]
  },
  {
   "cell_type": "code",
   "execution_count": 65,
   "id": "f6bda14e-66d8-4616-a915-6972ba986ab8",
   "metadata": {},
   "outputs": [],
   "source": [
    "for variable in ['workplaces_difference', 'residential_difference', 'grocery_pharm_difference', 'parks_difference', 'retail_rec_difference', 'transit_difference']:\n",
    "    df[variable] = [np.nan if (x >= df[variable].mean() + (SD * df[variable].std())) | (x <= df[variable].mean() - (SD * df[variable].std())) else x for x in df[variable] ]\n",
    "\n",
    "    #v13\n",
    "df.dropna(how='all', subset=['workplaces_difference', 'residential_difference', 'transit_difference', 'grocery_pharm_difference', 'parks_difference', 'retail_rec_difference'], inplace=True)"
   ]
  },
  {
   "cell_type": "code",
   "execution_count": 66,
   "id": "b149a773-bc0d-4eb7-a211-6a0c0f697f70",
   "metadata": {},
   "outputs": [],
   "source": [
    "df = df.iloc[:, 3:]"
   ]
  },
  {
   "cell_type": "code",
   "execution_count": 67,
   "id": "70a9cf95-6526-4b2f-bf62-35894f75232a",
   "metadata": {},
   "outputs": [],
   "source": [
    "df.reset_index(inplace=True)"
   ]
  },
  {
   "cell_type": "code",
   "execution_count": 68,
   "id": "098fc439-a357-458e-9154-49c1a622f3eb",
   "metadata": {},
   "outputs": [
    {
     "data": {
      "text/html": [
       "<div>\n",
       "<style scoped>\n",
       "    .dataframe tbody tr th:only-of-type {\n",
       "        vertical-align: middle;\n",
       "    }\n",
       "\n",
       "    .dataframe tbody tr th {\n",
       "        vertical-align: top;\n",
       "    }\n",
       "\n",
       "    .dataframe thead th {\n",
       "        text-align: right;\n",
       "    }\n",
       "</style>\n",
       "<table border=\"1\" class=\"dataframe\">\n",
       "  <thead>\n",
       "    <tr style=\"text-align: right;\">\n",
       "      <th></th>\n",
       "      <th>count</th>\n",
       "      <th>mean</th>\n",
       "      <th>std</th>\n",
       "      <th>min</th>\n",
       "      <th>max</th>\n",
       "    </tr>\n",
       "  </thead>\n",
       "  <tbody>\n",
       "    <tr>\n",
       "      <th>residential_difference</th>\n",
       "      <td>20302.0</td>\n",
       "      <td>0.685302</td>\n",
       "      <td>1.975247</td>\n",
       "      <td>-8.0</td>\n",
       "      <td>10.0</td>\n",
       "    </tr>\n",
       "    <tr>\n",
       "      <th>workplaces_difference</th>\n",
       "      <td>33045.0</td>\n",
       "      <td>-0.851929</td>\n",
       "      <td>4.850889</td>\n",
       "      <td>-40.0</td>\n",
       "      <td>36.0</td>\n",
       "    </tr>\n",
       "    <tr>\n",
       "      <th>transit_difference</th>\n",
       "      <td>12018.0</td>\n",
       "      <td>-1.339408</td>\n",
       "      <td>10.170824</td>\n",
       "      <td>-48.0</td>\n",
       "      <td>45.0</td>\n",
       "    </tr>\n",
       "    <tr>\n",
       "      <th>grocery_pharm_difference</th>\n",
       "      <td>18021.0</td>\n",
       "      <td>-0.597414</td>\n",
       "      <td>5.920310</td>\n",
       "      <td>-26.0</td>\n",
       "      <td>24.0</td>\n",
       "    </tr>\n",
       "    <tr>\n",
       "      <th>retail_rec_difference</th>\n",
       "      <td>20480.0</td>\n",
       "      <td>-0.928564</td>\n",
       "      <td>6.257939</td>\n",
       "      <td>-29.0</td>\n",
       "      <td>28.0</td>\n",
       "    </tr>\n",
       "    <tr>\n",
       "      <th>parks_difference</th>\n",
       "      <td>6290.0</td>\n",
       "      <td>-7.679173</td>\n",
       "      <td>25.888555</td>\n",
       "      <td>-122.0</td>\n",
       "      <td>108.0</td>\n",
       "    </tr>\n",
       "  </tbody>\n",
       "</table>\n",
       "</div>"
      ],
      "text/plain": [
       "                            count      mean        std    min    max\n",
       "residential_difference    20302.0  0.685302   1.975247   -8.0   10.0\n",
       "workplaces_difference     33045.0 -0.851929   4.850889  -40.0   36.0\n",
       "transit_difference        12018.0 -1.339408  10.170824  -48.0   45.0\n",
       "grocery_pharm_difference  18021.0 -0.597414   5.920310  -26.0   24.0\n",
       "retail_rec_difference     20480.0 -0.928564   6.257939  -29.0   28.0\n",
       "parks_difference           6290.0 -7.679173  25.888555 -122.0  108.0"
      ]
     },
     "execution_count": 68,
     "metadata": {},
     "output_type": "execute_result"
    }
   ],
   "source": [
    "df[['residential_difference', 'workplaces_difference', 'transit_difference', 'grocery_pharm_difference', 'retail_rec_difference', 'parks_difference']].describe().transpose()[['count', 'mean', 'std', 'min', 'max']]"
   ]
  },
  {
   "cell_type": "code",
   "execution_count": 70,
   "id": "48a60418-955b-4bd4-9c47-ad27f2d15b28",
   "metadata": {},
   "outputs": [],
   "source": [
    "df.to_csv(f'/Users/shivyucel/Documents/projects/DPhil/Code_Data/data/paper2/united_states/THI_mobility_heat_w_vars_90_{SD}SD_precip.csv')"
   ]
  },
  {
   "cell_type": "code",
   "execution_count": 685,
   "id": "e60cb4d2",
   "metadata": {},
   "outputs": [
    {
     "data": {
      "text/plain": [
       "count    34489.000000\n",
       "mean       642.153318\n",
       "std       2078.708105\n",
       "min          0.000000\n",
       "25%          0.049961\n",
       "50%         11.407480\n",
       "75%        285.591070\n",
       "max      69614.460000\n",
       "Name: daily_precipitation, dtype: float64"
      ]
     },
     "execution_count": 685,
     "metadata": {},
     "output_type": "execute_result"
    }
   ],
   "source": [
    "mobility_heat['daily_precipitation'].describe()"
   ]
  },
  {
   "cell_type": "code",
   "execution_count": 926,
   "id": "090b55b3-1bf5-437a-a206-9e097023e3dd",
   "metadata": {},
   "outputs": [
    {
     "data": {
      "text/plain": [
       "0        0.000017\n",
       "1        0.000017\n",
       "2        0.000017\n",
       "3        0.000000\n",
       "4        0.000000\n",
       "           ...   \n",
       "33874    0.000156\n",
       "33875    0.001546\n",
       "33876    0.129517\n",
       "33877    0.000123\n",
       "33878    0.019466\n",
       "Name: precip_standard, Length: 33879, dtype: float64"
      ]
     },
     "execution_count": 926,
     "metadata": {},
     "output_type": "execute_result"
    }
   ],
   "source": [
    "df['precip_standard']"
   ]
  },
  {
   "cell_type": "code",
   "execution_count": null,
   "id": "3358f178-ccb9-4ca4-83a3-b4dd03051c7c",
   "metadata": {},
   "outputs": [],
   "source": []
  }
 ],
 "metadata": {
  "kernelspec": {
   "display_name": "ox",
   "language": "python",
   "name": "python3"
  },
  "language_info": {
   "codemirror_mode": {
    "name": "ipython",
    "version": 3
   },
   "file_extension": ".py",
   "mimetype": "text/x-python",
   "name": "python",
   "nbconvert_exporter": "python",
   "pygments_lexer": "ipython3",
   "version": "3.11.0"
  }
 },
 "nbformat": 4,
 "nbformat_minor": 5
}

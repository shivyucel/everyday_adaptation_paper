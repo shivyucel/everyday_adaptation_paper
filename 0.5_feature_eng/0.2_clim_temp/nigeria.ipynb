{
 "cells": [
  {
   "cell_type": "code",
   "execution_count": 1,
   "id": "573448d3-bff1-4c76-95ab-66e2c0ffcf5e",
   "metadata": {},
   "outputs": [
    {
     "name": "stderr",
     "output_type": "stream",
     "text": [
      "/var/folders/8g/qp1k_1g91m5f2m9pypxwxdhh0000gn/T/ipykernel_56617/3471708860.py:8: DeprecationWarning: Please use `pearsonr` from the `scipy.stats` namespace, the `scipy.stats.stats` namespace is deprecated.\n",
      "  from scipy.stats.stats import pearsonr\n"
     ]
    }
   ],
   "source": [
    "import pandas as pd\n",
    "import geopandas as gpd\n",
    "import matplotlib.pyplot as plt\n",
    "import seaborn as sns\n",
    "sns.set_style('darkgrid')\n",
    "from scipy.stats import ttest_ind\n",
    "import numpy as np\n",
    "from scipy.stats.stats import pearsonr\n",
    "from IPython.display import display, Markdown, Latex\n",
    "plt.style.use('ggplot')\n",
    "from datetime import date\n",
    "data_path = '/Users/shivyucel/Documents/projects/DPhil/Code_Data/data/'\n",
    "import dask.dataframe as dd\n",
    "from scipy.stats import norm\n",
    "from sklearn.cluster import KMeans\n",
    "import numpy as np\n",
    "\n",
    "import pandas\n",
    "\n"
   ]
  },
  {
   "cell_type": "code",
   "execution_count": 2,
   "id": "b570e2d6-13d2-4644-ab17-30cd153c4369",
   "metadata": {},
   "outputs": [],
   "source": [
    "#load mobility and temperature data\n",
    "#load heatwave - control dataframe\n",
    "mobility_heat = pd.read_csv('/Users/shivyucel/Documents/projects/DPhil/Code_Data/data/paper2/nigeria/THI_mobility_heat_clean_90.csv')\n",
    "heatwave_control = pd.read_csv('/Users/shivyucel/Documents/projects/DPhil/Code_Data/data/paper2/nigeria/THI_heatwave_control_90.csv')"
   ]
  },
  {
   "cell_type": "code",
   "execution_count": 3,
   "id": "776d4bf9-228d-4c88-b14e-9d8d0b398538",
   "metadata": {},
   "outputs": [
    {
     "data": {
      "text/plain": [
       "'2022-02-18'"
      ]
     },
     "execution_count": 3,
     "metadata": {},
     "output_type": "execute_result"
    }
   ],
   "source": [
    "heatwave_control['datetime'].min()"
   ]
  },
  {
   "cell_type": "markdown",
   "id": "d6383384-1d4f-4263-be2a-131c912ea065",
   "metadata": {},
   "source": [
    "## Build Intensity Variable\n"
   ]
  },
  {
   "cell_type": "code",
   "execution_count": 4,
   "id": "644b8382-82e3-4fcd-8caa-a3190d453c20",
   "metadata": {},
   "outputs": [],
   "source": [
    "full_df = pd.read_csv('/Users/shivyucel/Documents/projects/DPhil/Code_Data/data/THI/nigeria/daily_max_THI.csv')\n",
    "\n",
    "full_df.rename(columns={'time': 'datetime'}, inplace=True)\n",
    "full_df['datetime'] = pd.to_datetime(full_df['datetime'])\n",
    "full_df['day'] = pd.DatetimeIndex(full_df['datetime']).day\n",
    "full_df['month'] = pd.DatetimeIndex(full_df['datetime']).month\n",
    "full_df['year'] = pd.DatetimeIndex(full_df['datetime']).year\n",
    "full_df.month.unique()\n",
    "full_df = full_df[~full_df['month'].isin([5])]\n",
    "\n",
    "full_df['location'] = full_df['adm2'] + ', ' + full_df['adm1']\n",
    "full_df['datetime_ord'] = [date(x,y,z).toordinal() for x,y,z in zip(full_df['year'], full_df['month'], full_df['day'])]\n"
   ]
  },
  {
   "cell_type": "code",
   "execution_count": 5,
   "id": "bbcf40b0-c677-4b00-9ccb-2e72c33546ad",
   "metadata": {},
   "outputs": [],
   "source": [
    "mobility_heat['control_day'] = pd.to_datetime(mobility_heat['control_day'])"
   ]
  },
  {
   "cell_type": "code",
   "execution_count": 6,
   "id": "f36ddc97-0791-494e-8523-4de93ed6d6fe",
   "metadata": {},
   "outputs": [],
   "source": [
    "#merge temperatures from control day onto mobility heat\n",
    "mobility_heat = mobility_heat.merge(full_df[['datetime', 'thi', 'location']], left_on=['location', 'control_day'], right_on=['location', 'datetime'], suffixes=('_heat', '_control'))"
   ]
  },
  {
   "cell_type": "code",
   "execution_count": 7,
   "id": "7f63c0c4-5b53-486c-99dd-20d83ea0ca1e",
   "metadata": {},
   "outputs": [
    {
     "data": {
      "text/plain": [
       "9.575853771633568"
      ]
     },
     "execution_count": 7,
     "metadata": {},
     "output_type": "execute_result"
    }
   ],
   "source": [
    "(mobility_heat['thi_heat'] - mobility_heat['thi_control']).max()"
   ]
  },
  {
   "cell_type": "code",
   "execution_count": 8,
   "id": "bf3baeb4-ea3f-412e-8823-da06167a80ae",
   "metadata": {},
   "outputs": [
    {
     "data": {
      "text/plain": [
       "array([[1.        , 0.67823988],\n",
       "       [0.67823988, 1.        ]])"
      ]
     },
     "execution_count": 8,
     "metadata": {},
     "output_type": "execute_result"
    }
   ],
   "source": [
    "np.corrcoef(mobility_heat['thi_heat'], mobility_heat['thi_control'])\n"
   ]
  },
  {
   "cell_type": "markdown",
   "id": "d7130df5-e000-4a2e-a594-631f56bc5c77",
   "metadata": {},
   "source": [
    "### Create/explore temperature difference variable"
   ]
  },
  {
   "cell_type": "code",
   "execution_count": 9,
   "id": "47677fbc-1454-40f6-a047-2e68c997f606",
   "metadata": {},
   "outputs": [],
   "source": [
    "mobility_heat['temp_diff'] = mobility_heat['thi_heat'] - mobility_heat['thi_control']"
   ]
  },
  {
   "cell_type": "code",
   "execution_count": 10,
   "id": "b3c0a5e6-f864-4450-816d-66bd2fbbae57",
   "metadata": {},
   "outputs": [
    {
     "data": {
      "text/plain": [
       "count    1488.000000\n",
       "mean        3.364445\n",
       "std         1.758996\n",
       "min         0.790854\n",
       "25%         2.010302\n",
       "50%         2.886812\n",
       "75%         4.424974\n",
       "max         9.575854\n",
       "Name: temp_diff, dtype: float64"
      ]
     },
     "execution_count": 10,
     "metadata": {},
     "output_type": "execute_result"
    }
   ],
   "source": [
    "mobility_heat['temp_diff'].describe()"
   ]
  },
  {
   "cell_type": "code",
   "execution_count": 11,
   "id": "42d6fcfa-7267-47e5-8c96-e77b6364e6e1",
   "metadata": {},
   "outputs": [
    {
     "data": {
      "image/png": "[encoded data removed]",
      "text/plain": [
       "<Figure size 640x480 with 1 Axes>"
      ]
     },
     "metadata": {},
     "output_type": "display_data"
    }
   ],
   "source": [
    "sns.histplot(mobility_heat, x='temp_diff')\n",
    "plt.title(\"Temperature Difference (heat wave vs. control)\")\n",
    "plt.tight_layout()\n",
    "plt.savefig(data_path + '/img/12_09_2023/india_temp_diff_dist.png')"
   ]
  },
  {
   "cell_type": "markdown",
   "id": "5e4e9c4f-4b35-4af8-85e9-0b9c73febc6b",
   "metadata": {
    "tags": []
   },
   "source": [
    "### Build Duration Variable\n",
    "* Duration of heat wave (in days)\n",
    "* Build variable showing which day of a heatwave it is"
   ]
  },
  {
   "cell_type": "code",
   "execution_count": 12,
   "id": "e8503f89-de65-4b25-b23d-955a764bf396",
   "metadata": {},
   "outputs": [],
   "source": [
    "# Formatting column names and merging dataframes"
   ]
  },
  {
   "cell_type": "code",
   "execution_count": 13,
   "id": "0fa340fd-86a1-4572-8886-a9613b77fd0a",
   "metadata": {},
   "outputs": [],
   "source": [
    "heatwave_control.sort_values(by='Heat Wave Duration', inplace=True)"
   ]
  },
  {
   "cell_type": "code",
   "execution_count": 14,
   "id": "ddcb491e-4217-4a86-bb5d-a0778cb7e8cf",
   "metadata": {},
   "outputs": [],
   "source": [
    "duration_IDs = heatwave_control.drop_duplicates('heat_ID')[['heat_ID', 'Heat Wave Duration']  ]             "
   ]
  },
  {
   "cell_type": "code",
   "execution_count": 15,
   "id": "d203f54f-03ac-437f-85f4-e2af59984400",
   "metadata": {},
   "outputs": [],
   "source": [
    "duration_IDs.columns = ['heat_ID', 'Heat Wave Duration']"
   ]
  },
  {
   "cell_type": "code",
   "execution_count": 16,
   "id": "a6a7d5e4-00b9-4725-b1bf-0e9d943c4ddb",
   "metadata": {},
   "outputs": [
    {
     "data": {
      "text/html": [
       "<div>\n",
       "<style scoped>\n",
       "    .dataframe tbody tr th:only-of-type {\n",
       "        vertical-align: middle;\n",
       "    }\n",
       "\n",
       "    .dataframe tbody tr th {\n",
       "        vertical-align: top;\n",
       "    }\n",
       "\n",
       "    .dataframe thead th {\n",
       "        text-align: right;\n",
       "    }\n",
       "</style>\n",
       "<table border=\"1\" class=\"dataframe\">\n",
       "  <thead>\n",
       "    <tr style=\"text-align: right;\">\n",
       "      <th></th>\n",
       "      <th>heat_ID</th>\n",
       "      <th>Heat Wave Duration</th>\n",
       "    </tr>\n",
       "  </thead>\n",
       "  <tbody>\n",
       "    <tr>\n",
       "      <th>0</th>\n",
       "      <td>5c5f5670-5a05-4cac-a495-22e15d5e3cb2</td>\n",
       "      <td>2.0</td>\n",
       "    </tr>\n",
       "    <tr>\n",
       "      <th>4353</th>\n",
       "      <td>dc7ee9b4-2c0d-4b86-bb66-4adbdfbd6969</td>\n",
       "      <td>2.0</td>\n",
       "    </tr>\n",
       "    <tr>\n",
       "      <th>4351</th>\n",
       "      <td>942679c7-27da-4691-9985-7ffb4a4977d0</td>\n",
       "      <td>2.0</td>\n",
       "    </tr>\n",
       "    <tr>\n",
       "      <th>4349</th>\n",
       "      <td>191350d7-42b7-4aa3-abf1-7f0d7c3726a8</td>\n",
       "      <td>2.0</td>\n",
       "    </tr>\n",
       "    <tr>\n",
       "      <th>4345</th>\n",
       "      <td>c33fe6cb-cd7c-4043-9256-d8aa495da992</td>\n",
       "      <td>2.0</td>\n",
       "    </tr>\n",
       "  </tbody>\n",
       "</table>\n",
       "</div>"
      ],
      "text/plain": [
       "                                   heat_ID  Heat Wave Duration\n",
       "0     5c5f5670-5a05-4cac-a495-22e15d5e3cb2                 2.0\n",
       "4353  dc7ee9b4-2c0d-4b86-bb66-4adbdfbd6969                 2.0\n",
       "4351  942679c7-27da-4691-9985-7ffb4a4977d0                 2.0\n",
       "4349  191350d7-42b7-4aa3-abf1-7f0d7c3726a8                 2.0\n",
       "4345  c33fe6cb-cd7c-4043-9256-d8aa495da992                 2.0"
      ]
     },
     "execution_count": 16,
     "metadata": {},
     "output_type": "execute_result"
    }
   ],
   "source": [
    "duration_IDs.head()"
   ]
  },
  {
   "cell_type": "code",
   "execution_count": 17,
   "id": "631d8f79-ff89-47ad-b3c8-9ee5328207d0",
   "metadata": {},
   "outputs": [
    {
     "data": {
      "text/plain": [
       "count    2275.000000\n",
       "mean        4.041758\n",
       "std         2.815730\n",
       "min         2.000000\n",
       "25%         2.000000\n",
       "50%         3.000000\n",
       "75%         5.000000\n",
       "max        15.000000\n",
       "Name: Heat Wave Duration, dtype: float64"
      ]
     },
     "execution_count": 17,
     "metadata": {},
     "output_type": "execute_result"
    }
   ],
   "source": [
    "duration_IDs['Heat Wave Duration'].describe()"
   ]
  },
  {
   "cell_type": "code",
   "execution_count": 18,
   "id": "f60ff376-ab55-485d-9612-f44178c0d76c",
   "metadata": {
    "tags": []
   },
   "outputs": [],
   "source": [
    "#drop original heatwave duration variable\n",
    "heatwave_control.drop('Heat Wave Duration', axis=1, inplace=True)"
   ]
  },
  {
   "cell_type": "code",
   "execution_count": 19,
   "id": "84973549-1665-43d3-bcbb-f8b86db085d8",
   "metadata": {},
   "outputs": [],
   "source": [
    "#merge duration ID dataframe onto heatwave control\n",
    "heatwave_control = heatwave_control.merge(duration_IDs, on='heat_ID', how='left')"
   ]
  },
  {
   "cell_type": "code",
   "execution_count": 20,
   "id": "5fa83dec-a895-4d72-ad13-5bbe552e6945",
   "metadata": {},
   "outputs": [],
   "source": [
    "heatwave_control.drop_duplicates(['location', 'datetime'], inplace=True)"
   ]
  },
  {
   "cell_type": "code",
   "execution_count": 21,
   "id": "bf3a23e7-5241-4a31-86f3-15d8cc85e96d",
   "metadata": {},
   "outputs": [],
   "source": [
    "heatwave_control['dur_ranking'] = heatwave_control['Heat Wave Duration'].rank(pct=True)"
   ]
  },
  {
   "cell_type": "code",
   "execution_count": 22,
   "id": "6cb7f85f-1559-43b7-982f-3a20bc83c37b",
   "metadata": {},
   "outputs": [],
   "source": [
    "#groupby each heatwave, sort by date, assign increasing rank for each passing day\n",
    "heat_stage = heatwave_control.groupby('heat_ID').apply(lambda x: x.datetime.sort_values().rank()).reset_index()"
   ]
  },
  {
   "cell_type": "code",
   "execution_count": 23,
   "id": "0830d5c2-8340-49cb-9c7f-d5a079b4f800",
   "metadata": {},
   "outputs": [],
   "source": [
    "heat_stage.columns=['heat_ID', 'index', 'stage']"
   ]
  },
  {
   "cell_type": "code",
   "execution_count": 24,
   "id": "b6e7b701-18b2-4bfb-92da-bba15079d85a",
   "metadata": {},
   "outputs": [
    {
     "data": {
      "text/plain": [
       "15.0"
      ]
     },
     "execution_count": 24,
     "metadata": {},
     "output_type": "execute_result"
    }
   ],
   "source": [
    "heat_stage['stage'].max()"
   ]
  },
  {
   "cell_type": "code",
   "execution_count": 25,
   "id": "14ef83ae-70f6-47f3-b5bb-9d96ecc02e2b",
   "metadata": {},
   "outputs": [],
   "source": [
    "x = heat_stage.merge(duration_IDs, on='heat_ID')"
   ]
  },
  {
   "cell_type": "code",
   "execution_count": 26,
   "id": "a85ba1ed-105d-434a-87dc-f7efeba082cf",
   "metadata": {},
   "outputs": [],
   "source": [
    "heatwave_control.drop('index', axis=1, inplace=True)"
   ]
  },
  {
   "cell_type": "code",
   "execution_count": 27,
   "id": "37704ce0-15ce-4c7a-b44e-60ed01d9da93",
   "metadata": {},
   "outputs": [],
   "source": [
    "heatwave_control.reset_index(inplace=True)"
   ]
  },
  {
   "cell_type": "code",
   "execution_count": 28,
   "id": "0e209216-5c89-49a7-9346-ee3e9281c20e",
   "metadata": {},
   "outputs": [],
   "source": [
    "heatwave_control = heatwave_control.merge(heat_stage, on=['index', 'heat_ID'])"
   ]
  },
  {
   "cell_type": "code",
   "execution_count": 29,
   "id": "d88d0c2c-6ea1-4c03-acc1-1f30c73fc3dd",
   "metadata": {},
   "outputs": [],
   "source": [
    "heatwave_control['datetime'] = pd.to_datetime(heatwave_control['datetime'])"
   ]
  },
  {
   "cell_type": "code",
   "execution_count": 30,
   "id": "91bb398b-b49f-4ea7-9faa-3d2d3a3b2b90",
   "metadata": {},
   "outputs": [
    {
     "data": {
      "text/plain": [
       "15.0"
      ]
     },
     "execution_count": 30,
     "metadata": {},
     "output_type": "execute_result"
    }
   ],
   "source": [
    "heatwave_control['stage'].max()"
   ]
  },
  {
   "cell_type": "code",
   "execution_count": 31,
   "id": "ffb37c87-221b-440d-9e45-57e75753d4ad",
   "metadata": {},
   "outputs": [],
   "source": [
    "mobility_heat['date_heat'] = pd.to_datetime(mobility_heat['date_heat'])"
   ]
  },
  {
   "cell_type": "code",
   "execution_count": 32,
   "id": "96b3e956-cfa4-4e28-a228-000910e87ef2",
   "metadata": {},
   "outputs": [],
   "source": [
    "#merge temporal variables into mobility_heat\n",
    "\n",
    "mobility_heat = mobility_heat.merge(heatwave_control[['location', 'datetime', 'Heat Wave Duration', 'dur_ranking', 'stage']], left_on=['location', 'date_heat'], right_on=['location', 'datetime'])"
   ]
  },
  {
   "cell_type": "code",
   "execution_count": 33,
   "id": "0c637f61-401c-4349-9080-7f658510148e",
   "metadata": {},
   "outputs": [],
   "source": [
    "mobility_heat.reset_index(inplace=True)"
   ]
  },
  {
   "cell_type": "code",
   "execution_count": 34,
   "id": "2dbcb789-c5eb-4efa-bde7-b693842c2b3f",
   "metadata": {},
   "outputs": [],
   "source": [
    "mobility_heat['month'] = [x.month for x in mobility_heat['datetime']]"
   ]
  },
  {
   "cell_type": "code",
   "execution_count": 35,
   "id": "84f97670-1bd5-412e-8839-84ee3b11707f",
   "metadata": {},
   "outputs": [
    {
     "data": {
      "text/plain": [
       "array([3, 4, 2])"
      ]
     },
     "execution_count": 35,
     "metadata": {},
     "output_type": "execute_result"
    }
   ],
   "source": [
    "mobility_heat['month'].unique()"
   ]
  },
  {
   "cell_type": "code",
   "execution_count": 40,
   "id": "d5bd33fd-5001-4200-90cb-c845c2b3c63f",
   "metadata": {},
   "outputs": [
    {
     "data": {
      "text/plain": [
       "count    463.000000\n",
       "mean       3.444924\n",
       "std        2.249745\n",
       "min        2.000000\n",
       "25%        2.000000\n",
       "50%        3.000000\n",
       "75%        4.000000\n",
       "max       12.000000\n",
       "Name: Heat Wave Duration, dtype: float64"
      ]
     },
     "execution_count": 40,
     "metadata": {},
     "output_type": "execute_result"
    }
   ],
   "source": [
    "# format final variables\n",
    "mobility_heat['stage_frac'] = (mobility_heat['stage'] / mobility_heat['Heat Wave Duration'] )\n",
    "mobility_heat.drop_duplicates('heat_ID')['Heat Wave Duration'].describe()\n",
    "\n"
   ]
  },
  {
   "cell_type": "code",
   "execution_count": 41,
   "id": "5b84bfc0",
   "metadata": {},
   "outputs": [],
   "source": [
    "mobility_heat['heatwave_dur'] = mobility_heat['Heat Wave Duration'] >= 4"
   ]
  },
  {
   "cell_type": "code",
   "execution_count": 42,
   "id": "f80fe89e-0820-49c6-aac9-0378622f78b5",
   "metadata": {},
   "outputs": [],
   "source": [
    "mobility_heat['month'] = [x.month for x in pd.to_datetime(mobility_heat['date_control'])]"
   ]
  },
  {
   "cell_type": "code",
   "execution_count": 43,
   "id": "b3ac3d3b-c208-45ce-9f43-61f9d862ff53",
   "metadata": {},
   "outputs": [],
   "source": [
    "mobility_heat['date_control'] = pd.to_datetime(mobility_heat['date_control'])"
   ]
  },
  {
   "cell_type": "code",
   "execution_count": 44,
   "id": "6019765b-37e7-4c9c-b330-9aa1fd770258",
   "metadata": {},
   "outputs": [
    {
     "data": {
      "text/plain": [
       "0      2022-02-28\n",
       "1      2022-02-22\n",
       "2      2022-02-28\n",
       "3      2022-02-22\n",
       "4      2022-03-15\n",
       "          ...    \n",
       "1483   2022-03-31\n",
       "1484   2022-03-25\n",
       "1485   2022-03-31\n",
       "1486   2022-04-15\n",
       "1487   2022-04-18\n",
       "Name: date_control, Length: 1488, dtype: datetime64[ns]"
      ]
     },
     "execution_count": 44,
     "metadata": {},
     "output_type": "execute_result"
    }
   ],
   "source": [
    "mobility_heat['date_control']"
   ]
  },
  {
   "cell_type": "markdown",
   "id": "9560c74a-4c5f-40cb-ad3a-6cdc8ab88131",
   "metadata": {},
   "source": [
    "## Merge social and physical variables"
   ]
  },
  {
   "cell_type": "code",
   "execution_count": 45,
   "id": "64f468fb-9baf-491e-b5a0-ad294092e41f",
   "metadata": {},
   "outputs": [],
   "source": [
    "soc_phys = gpd.read_file('/Users/shivyucel/Documents/projects/DPhil/Code_Data/data/physical/nigeria/merged.shp')"
   ]
  },
  {
   "cell_type": "code",
   "execution_count": 46,
   "id": "7a40763c-2dc3-44ef-970a-2480b8754774",
   "metadata": {},
   "outputs": [],
   "source": [
    "mobility_heat= mobility_heat.merge(soc_phys[['location', 'mean_elev', 'coast', 'HDI_dec', 'popden_dec', 'over60_dec']], on='location')"
   ]
  },
  {
   "cell_type": "code",
   "execution_count": 47,
   "id": "6ba58129-b3ab-44ac-96e5-4c827cb57010",
   "metadata": {},
   "outputs": [],
   "source": [
    "mobility_heat['elev_1500m'] = mobility_heat['mean_elev'] >= 1500"
   ]
  },
  {
   "cell_type": "code",
   "execution_count": 48,
   "id": "e813cf16-c3e4-4c8a-b70e-c23579058820",
   "metadata": {},
   "outputs": [],
   "source": [
    "mobility_heat['elev_1500m'] = mobility_heat['elev_1500m'] * 1"
   ]
  },
  {
   "cell_type": "markdown",
   "id": "331eb9fb-4d16-45d7-b087-3462d225b23e",
   "metadata": {},
   "source": [
    "### Remove holidays "
   ]
  },
  {
   "cell_type": "code",
   "execution_count": 49,
   "id": "d389ae34-b208-463b-9429-b8589eff59df",
   "metadata": {},
   "outputs": [],
   "source": [
    "import requests"
   ]
  },
  {
   "cell_type": "code",
   "execution_count": 50,
   "id": "468bc4be-8f85-4e83-ac0d-1cc57c2fb718",
   "metadata": {},
   "outputs": [],
   "source": [
    "hols_2021 = pd.DataFrame(requests.get(\"https://date.nager.at/api/v3/publicholidays/2021/NG\").json())\n",
    "hols_2022 = pd.DataFrame(requests.get(\"https://date.nager.at/api/v3/publicholidays/2022/NG\").json())\n",
    "hols = pd.concat([hols_2021, hols_2022])\n",
    "hols['date'] = pd.to_datetime(hols['date'])"
   ]
  },
  {
   "cell_type": "code",
   "execution_count": 51,
   "id": "660b6ac4-b1d1-4d84-9061-9388b06c3916",
   "metadata": {},
   "outputs": [],
   "source": [
    "mobility_heat = mobility_heat[~mobility_heat['datetime_heat'].isin(hols['date'].values)]\n",
    "mobility_heat = mobility_heat[~mobility_heat['datetime_control'].isin(hols['date'].values)]"
   ]
  },
  {
   "cell_type": "markdown",
   "id": "d8df01ff",
   "metadata": {},
   "source": [
    "## Normalized rain variable for heatwave and control day"
   ]
  },
  {
   "cell_type": "code",
   "execution_count": 52,
   "id": "019439fd",
   "metadata": {},
   "outputs": [],
   "source": [
    "precip = pd.read_csv('/Users/shivyucel/Documents/projects/DPhil/Code_Data/data/precipitation/nigeria/daily_sum_precipitation.csv')\n",
    "precip.rename(columns={'valid_time': 'time'}, inplace=True)\n",
    "precip['time'] = pd.to_datetime(precip['time'])"
   ]
  },
  {
   "cell_type": "code",
   "execution_count": 53,
   "id": "4aa6af6e",
   "metadata": {},
   "outputs": [],
   "source": [
    "gdf = gpd.read_file('/Users/shivyucel/Documents/projects/DPhil/Code_Data/data/adm0_shp/nigeria/clean_shp.shp')\n",
    "gdf['location'] = gdf['adm2'] + ', ' + gdf['adm1']\n",
    "gdf.to_crs(epsg='3857', inplace=True)\n",
    "gdf['area'] = [x.area for x in gdf['geometry']]"
   ]
  },
  {
   "cell_type": "code",
   "execution_count": 54,
   "id": "7c15fff3",
   "metadata": {},
   "outputs": [],
   "source": [
    "#area from m --> km\n",
    "#rain from m --> mm\n",
    "precip['daily_precipitation'] = precip['daily_precipitation'] * 1000\n",
    "gdf['area'] = gdf['area'] / 1000"
   ]
  },
  {
   "cell_type": "code",
   "execution_count": 55,
   "id": "d2e0d212",
   "metadata": {},
   "outputs": [],
   "source": [
    "precip = precip.merge(gdf[['location', 'area']], on='location')\n",
    "precip['rain_normed'] = (precip['daily_precipitation'] / precip['area']) "
   ]
  },
  {
   "cell_type": "code",
   "execution_count": 56,
   "id": "bf1be807",
   "metadata": {},
   "outputs": [],
   "source": [
    "precip['rain_standard'] = precip.groupby('location')['rain_normed'].rank(pct=True) * 100"
   ]
  },
  {
   "cell_type": "markdown",
   "id": "ba0bd1ff",
   "metadata": {},
   "source": [
    "### Control day rain dummy"
   ]
  },
  {
   "cell_type": "code",
   "execution_count": 57,
   "id": "d3e806f7",
   "metadata": {},
   "outputs": [],
   "source": [
    "mobility_heat = mobility_heat.merge(precip[['time', 'adm1', 'adm2', 'rain_standard']], left_on=['control_day', 'adm1', 'adm2'], right_on=['time', 'adm1', 'adm2'])"
   ]
  },
  {
   "cell_type": "code",
   "execution_count": 58,
   "id": "32d112a1",
   "metadata": {},
   "outputs": [],
   "source": [
    "mobility_heat.rename(columns={'rain_standard': \"rain_standard_control\"}, inplace=True)"
   ]
  },
  {
   "cell_type": "markdown",
   "id": "45a89a43",
   "metadata": {},
   "source": [
    "### Heatwave day rain dummy"
   ]
  },
  {
   "cell_type": "code",
   "execution_count": 59,
   "id": "fada4f04",
   "metadata": {},
   "outputs": [],
   "source": [
    "mobility_heat = mobility_heat.merge(precip[['time', 'adm1', 'adm2', 'rain_standard']], left_on=['date_heat', 'adm1', 'adm2'], right_on=['time', 'adm1', 'adm2'])"
   ]
  },
  {
   "cell_type": "code",
   "execution_count": 60,
   "id": "9f6584e6",
   "metadata": {},
   "outputs": [],
   "source": [
    "mobility_heat.rename(columns={'rain_standard': \"rain_standard_heat\"}, inplace=True)"
   ]
  },
  {
   "cell_type": "markdown",
   "id": "322d430c-a781-4ba2-8f71-e011e7e83a27",
   "metadata": {},
   "source": [
    "### Prepare final dataset"
   ]
  },
  {
   "cell_type": "code",
   "execution_count": 61,
   "id": "58077ae4-877e-4e00-98e8-0d503747517b",
   "metadata": {},
   "outputs": [],
   "source": [
    "df = mobility_heat.copy()"
   ]
  },
  {
   "cell_type": "code",
   "execution_count": 62,
   "id": "6ac298e9-bbbb-49fe-bbb5-55156b7ab2c1",
   "metadata": {},
   "outputs": [],
   "source": [
    "df = df[df['mean_elev'] <= 2500]"
   ]
  },
  {
   "cell_type": "code",
   "execution_count": 63,
   "id": "64ca96de-0f4f-4428-8b98-596fb83c2c5a",
   "metadata": {},
   "outputs": [],
   "source": [
    "#set outlier cutoff (how many SDs away from mean)\n",
    "SD = 4"
   ]
  },
  {
   "cell_type": "code",
   "execution_count": 64,
   "id": "2990b21b-ecfd-4a4a-9b7b-cc4ed9a8c859",
   "metadata": {},
   "outputs": [],
   "source": [
    "for variable in ['workplaces_difference', 'residential_difference', 'grocery_pharm_difference', 'parks_difference', 'retail_rec_difference', 'transit_difference']:\n",
    "    df[variable] = [np.nan if (x >= df[variable].mean() + (SD * df[variable].std())) | (x <= df[variable].mean() - (SD * df[variable].std())) else x for x in df[variable] ]\n",
    "\n",
    "    #v13\n",
    "df.dropna(how='all', subset=['workplaces_difference', 'residential_difference', 'transit_difference', 'grocery_pharm_difference', 'parks_difference', 'retail_rec_difference'], inplace=True)"
   ]
  },
  {
   "cell_type": "code",
   "execution_count": 65,
   "id": "644bc86d-4e0b-4f0b-ab61-f4c7f0648ba4",
   "metadata": {},
   "outputs": [],
   "source": [
    "df = df.iloc[:, 3:]"
   ]
  },
  {
   "cell_type": "code",
   "execution_count": 66,
   "id": "ac22cb02-74f0-4ccf-825f-ebfe10d2d341",
   "metadata": {},
   "outputs": [],
   "source": [
    "df.reset_index(inplace=True)"
   ]
  },
  {
   "cell_type": "code",
   "execution_count": 67,
   "id": "0f94ba95-aea1-4f8d-a424-0f39da9db688",
   "metadata": {},
   "outputs": [
    {
     "data": {
      "text/html": [
       "<div>\n",
       "<style scoped>\n",
       "    .dataframe tbody tr th:only-of-type {\n",
       "        vertical-align: middle;\n",
       "    }\n",
       "\n",
       "    .dataframe tbody tr th {\n",
       "        vertical-align: top;\n",
       "    }\n",
       "\n",
       "    .dataframe thead th {\n",
       "        text-align: right;\n",
       "    }\n",
       "</style>\n",
       "<table border=\"1\" class=\"dataframe\">\n",
       "  <thead>\n",
       "    <tr style=\"text-align: right;\">\n",
       "      <th></th>\n",
       "      <th>count</th>\n",
       "      <th>mean</th>\n",
       "      <th>std</th>\n",
       "      <th>min</th>\n",
       "      <th>max</th>\n",
       "    </tr>\n",
       "  </thead>\n",
       "  <tbody>\n",
       "    <tr>\n",
       "      <th>residential_difference</th>\n",
       "      <td>624.0</td>\n",
       "      <td>4.399038</td>\n",
       "      <td>4.132563</td>\n",
       "      <td>-5.0</td>\n",
       "      <td>20.0</td>\n",
       "    </tr>\n",
       "    <tr>\n",
       "      <th>workplaces_difference</th>\n",
       "      <td>1388.0</td>\n",
       "      <td>2.293948</td>\n",
       "      <td>15.517929</td>\n",
       "      <td>-64.0</td>\n",
       "      <td>72.0</td>\n",
       "    </tr>\n",
       "    <tr>\n",
       "      <th>transit_difference</th>\n",
       "      <td>450.0</td>\n",
       "      <td>4.317778</td>\n",
       "      <td>24.852687</td>\n",
       "      <td>-74.0</td>\n",
       "      <td>92.0</td>\n",
       "    </tr>\n",
       "    <tr>\n",
       "      <th>grocery_pharm_difference</th>\n",
       "      <td>416.0</td>\n",
       "      <td>-2.379808</td>\n",
       "      <td>15.403332</td>\n",
       "      <td>-49.0</td>\n",
       "      <td>53.0</td>\n",
       "    </tr>\n",
       "    <tr>\n",
       "      <th>retail_rec_difference</th>\n",
       "      <td>358.0</td>\n",
       "      <td>0.748603</td>\n",
       "      <td>19.275198</td>\n",
       "      <td>-55.0</td>\n",
       "      <td>74.0</td>\n",
       "    </tr>\n",
       "    <tr>\n",
       "      <th>parks_difference</th>\n",
       "      <td>282.0</td>\n",
       "      <td>-0.535461</td>\n",
       "      <td>25.355981</td>\n",
       "      <td>-100.0</td>\n",
       "      <td>103.0</td>\n",
       "    </tr>\n",
       "  </tbody>\n",
       "</table>\n",
       "</div>"
      ],
      "text/plain": [
       "                           count      mean        std    min    max\n",
       "residential_difference     624.0  4.399038   4.132563   -5.0   20.0\n",
       "workplaces_difference     1388.0  2.293948  15.517929  -64.0   72.0\n",
       "transit_difference         450.0  4.317778  24.852687  -74.0   92.0\n",
       "grocery_pharm_difference   416.0 -2.379808  15.403332  -49.0   53.0\n",
       "retail_rec_difference      358.0  0.748603  19.275198  -55.0   74.0\n",
       "parks_difference           282.0 -0.535461  25.355981 -100.0  103.0"
      ]
     },
     "execution_count": 67,
     "metadata": {},
     "output_type": "execute_result"
    }
   ],
   "source": [
    "df[['residential_difference', 'workplaces_difference', 'transit_difference', 'grocery_pharm_difference', 'retail_rec_difference', 'parks_difference']].describe().transpose()[['count', 'mean', 'std', 'min', 'max']]"
   ]
  },
  {
   "cell_type": "code",
   "execution_count": 69,
   "id": "8c6ade05-b443-40d0-b92a-ae8ccb640d8a",
   "metadata": {},
   "outputs": [],
   "source": [
    "df.to_csv(f'/Users/shivyucel/Documents/projects/DPhil/Code_Data/data/paper2/nigeria/THI_mobility_heat_w_vars_90_{SD}SD_precip.csv')"
   ]
  },
  {
   "cell_type": "code",
   "execution_count": 68,
   "id": "2393415b-efdb-49c4-b700-c7f0a83e236e",
   "metadata": {},
   "outputs": [],
   "source": [
    "df = pd.read_csv(f'/Users/shivyucel/Documents/projects/DPhil/Code_Data/data/paper2/nigeria/THI_mobility_heat_w_vars_90_4SD.csv')"
   ]
  }
 ],
 "metadata": {
  "kernelspec": {
   "display_name": "ox",
   "language": "python",
   "name": "python3"
  },
  "language_info": {
   "codemirror_mode": {
    "name": "ipython",
    "version": 3
   },
   "file_extension": ".py",
   "mimetype": "text/x-python",
   "name": "python",
   "nbconvert_exporter": "python",
   "pygments_lexer": "ipython3",
   "version": "3.11.0"
  }
 },
 "nbformat": 4,
 "nbformat_minor": 5
}

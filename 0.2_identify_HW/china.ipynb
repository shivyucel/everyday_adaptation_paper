{
 "cells": [
  {
   "cell_type": "code",
   "execution_count": 11,
   "id": "dac26cce-e6c4-4072-b038-a2b04679e46e",
   "metadata": {},
   "outputs": [],
   "source": [
    "from datetime import datetime, timedelta\n",
    "import pandas as pd\n",
    "from shapely.geometry import Point\n",
    "import geopandas as gpd\n",
    "import matplotlib.pyplot as plt\n",
    "datelist = pd.date_range(datetime.today(), periods=100).tolist()\n",
    "from time import sleep\n",
    "import dask.dataframe as dd\n",
    "from dateutil.parser import parse\n",
    "from dateutil.relativedelta import relativedelta\n",
    "import os\n",
    "import glob\n",
    "from datetime import date\n",
    "\n",
    "from uuid import uuid4\n",
    "\n",
    "\n",
    "from shapely.geometry import Polygon, MultiPolygon, LineString, GeometryCollection\n",
    "import numpy as np\n",
    "import pandas as pd\n",
    "from datetime import datetime, timedelta\n",
    "import geopandas as gpd\n",
    "import seaborn as sns\n",
    "\n",
    "import dask.dataframe as dd\n",
    "import geopandas as gpd\n",
    "from detect_heatwaves import detect\n",
    "from datetime import timedelta\n",
    "import seaborn as sns\n",
    "from datetime import date\n",
    "import matplotlib.pyplot as plt"
   ]
  },
  {
   "cell_type": "code",
   "execution_count": 13,
   "id": "f9201921-0279-4fc9-b07f-23a5b43c72f2",
   "metadata": {},
   "outputs": [],
   "source": [
    "full_df = pd.read_csv('daily_max_THI.csv')\n",
    "\n",
    "full_df.rename(columns={'time': 'datetime'}, inplace=True)\n",
    "full_df['datetime'] = pd.to_datetime(full_df['datetime'])\n",
    "full_df['day'] = pd.DatetimeIndex(full_df['datetime']).day\n",
    "full_df['month'] = pd.DatetimeIndex(full_df['datetime']).month\n",
    "full_df['year'] = pd.DatetimeIndex(full_df['datetime']).year\n",
    "full_df = full_df[~full_df['month'].isin([4, 10])]\n",
    "full_df['location'] = full_df['adm2'] + ', ' + full_df['adm1']\n",
    "full_df['datetime_ord'] = [date(x,y,z).toordinal() for x,y,z in zip(full_df['year'], full_df['month'], full_df['day'])]"
   ]
  },
  {
   "cell_type": "markdown",
   "id": "f4fe9f14-7102-47b5-b884-3818a6f6c35b",
   "metadata": {},
   "source": [
    "## Find heat waves, heat wave lengths and assign unique heatwave IDs"
   ]
  },
  {
   "cell_type": "code",
   "execution_count": 29,
   "id": "071312e5-4c3e-4df8-8cf4-c2d88c8fd4bb",
   "metadata": {},
   "outputs": [],
   "source": [
    "full_df['pct'] = full_df.groupby('location')['thi'].transform(lambda x: x.rank(pct=True))"
   ]
  },
  {
   "cell_type": "code",
   "execution_count": 31,
   "id": "9ecb0aab-c267-4846-9128-0aa94cea2968",
   "metadata": {
    "tags": []
   },
   "outputs": [],
   "source": [
    "#create dictionary containing each county's heatwave periods\n",
    "heatwave_dic = {}\n",
    "for adm2 in full_df['location'].unique():\n",
    "    adm2_df = full_df[(full_df['location'] == adm2)]\n",
    "    adm2_df.reset_index(inplace=True)\n",
    "    adm2_df = adm2_df.sort_values(by='datetime')\n",
    "    adm2_df.drop_duplicates(['adm2', 'datetime'], inplace=True)\n",
    "    heatwave_dic[adm2] = detect(adm2_df['datetime_ord'].values, adm2_df['thi'].values, pctile=90, minDuration=2)\n",
    "\n",
    "    \n",
    "heatwave_dates = {}\n",
    "consec_dates = {}\n",
    "heatwave_IDs = {}\n",
    "for adm2 in heatwave_dic.keys(): \n",
    "    consec_dates[adm2] = {}\n",
    "    heatwave_dates[adm2] = []\n",
    "    heatwave_IDs[adm2] = {}\n",
    "\n",
    "\n",
    "    heatwave_starts = heatwave_dic[adm2]['date_start']\n",
    "    heatwave_ends = heatwave_dic[adm2]['date_end']\n",
    "    for i in range(len(heatwave_starts)):\n",
    "        heatwave_code = str(uuid4())\n",
    "        heatwave_days = pd.date_range(heatwave_starts[i],heatwave_ends[i],freq='d')\n",
    "        length_heatwaves = len(heatwave_days)\n",
    "        consec_dates[adm2][heatwave_days[0]] = length_heatwaves\n",
    "        for item in heatwave_days:\n",
    "            heatwave_dates[adm2].append(item)\n",
    "            heatwave_IDs[adm2][item] = heatwave_code\n",
    "            \n",
    "            \n",
    "heat_df = pd.DataFrame.from_dict(heatwave_dates, orient='index').unstack().reset_index()\n",
    "heat_df.rename(columns={'level_1':'location', 0:'datetime'}, inplace=True)\n",
    "\n",
    "\n",
    "heat_df.dropna(inplace=True)\n",
    "heat_df['heatwave']=1"
   ]
  },
  {
   "cell_type": "code",
   "execution_count": 35,
   "id": "ad35a294",
   "metadata": {},
   "outputs": [],
   "source": [
    "full_df['datetime'] = pd.to_datetime(full_df['datetime'])"
   ]
  },
  {
   "cell_type": "code",
   "execution_count": 37,
   "id": "e1f089ad-9af7-4ad2-a70c-23f153adcc7c",
   "metadata": {
    "tags": []
   },
   "outputs": [],
   "source": [
    "full_df = full_df.merge(heat_df, on=['location', 'datetime'], how='left')\n",
    "full_df['heatwave'] = full_df['heatwave'].replace(np.nan, 0)"
   ]
  },
  {
   "cell_type": "code",
   "execution_count": 40,
   "id": "d0247cae-4e6e-47cb-8d49-ae862fab3fba",
   "metadata": {},
   "outputs": [
    {
     "data": {
      "text/plain": [
       "0.9006535947712418"
      ]
     },
     "execution_count": 40,
     "metadata": {},
     "output_type": "execute_result"
    }
   ],
   "source": [
    "full_df[full_df['heatwave'] == 1]['pct'].min()"
   ]
  },
  {
   "cell_type": "code",
   "execution_count": 42,
   "id": "eb7921bb-dce9-44ea-b796-8a381844fb94",
   "metadata": {},
   "outputs": [
    {
     "data": {
      "text/plain": [
       "374"
      ]
     },
     "execution_count": 42,
     "metadata": {},
     "output_type": "execute_result"
    }
   ],
   "source": [
    "### sanshashi is missing\n",
    "len(full_df[full_df['heatwave'] == 1]['location'].unique())"
   ]
  },
  {
   "cell_type": "code",
   "execution_count": 50,
   "id": "bf2387f1-782e-464c-ad07-75357f6f1514",
   "metadata": {},
   "outputs": [],
   "source": [
    "codes = pd.DataFrame.from_dict(heatwave_IDs, orient='index').unstack().reset_index()"
   ]
  },
  {
   "cell_type": "code",
   "execution_count": 52,
   "id": "76b3e78e-191b-44b1-8d6c-ca97760e1b60",
   "metadata": {},
   "outputs": [],
   "source": [
    "codes.columns=['datetime', 'location', 'heat_ID']"
   ]
  },
  {
   "cell_type": "code",
   "execution_count": 54,
   "id": "4af2990c-0de2-429b-b89c-935badedaf10",
   "metadata": {},
   "outputs": [],
   "source": [
    "codes.dropna(inplace=True)"
   ]
  },
  {
   "cell_type": "code",
   "execution_count": 58,
   "id": "4043c97d-9b58-4268-9d00-321d038a417c",
   "metadata": {},
   "outputs": [],
   "source": [
    "consec = pd.DataFrame.from_dict(consec_dates, orient='index').unstack().reset_index()"
   ]
  },
  {
   "cell_type": "code",
   "execution_count": 60,
   "id": "c9bba8eb-e6cc-4f29-bea2-1ac61f366fc4",
   "metadata": {},
   "outputs": [],
   "source": [
    "consec.columns= ['datetime', 'location', 'Heat Wave Duration']"
   ]
  },
  {
   "cell_type": "code",
   "execution_count": 66,
   "id": "db2fe7e3-13a0-49ab-8292-17263a0b9761",
   "metadata": {},
   "outputs": [],
   "source": [
    "consec.dropna(inplace=True)"
   ]
  },
  {
   "cell_type": "code",
   "execution_count": 68,
   "id": "572e3f35",
   "metadata": {},
   "outputs": [
    {
     "data": {
      "text/html": [
       "<div>\n",
       "<style scoped>\n",
       "    .dataframe tbody tr th:only-of-type {\n",
       "        vertical-align: middle;\n",
       "    }\n",
       "\n",
       "    .dataframe tbody tr th {\n",
       "        vertical-align: top;\n",
       "    }\n",
       "\n",
       "    .dataframe thead th {\n",
       "        text-align: right;\n",
       "    }\n",
       "</style>\n",
       "<table border=\"1\" class=\"dataframe\">\n",
       "  <thead>\n",
       "    <tr style=\"text-align: right;\">\n",
       "      <th></th>\n",
       "      <th>datetime</th>\n",
       "      <th>location</th>\n",
       "      <th>Heat Wave Duration</th>\n",
       "    </tr>\n",
       "  </thead>\n",
       "  <tbody>\n",
       "    <tr>\n",
       "      <th>0</th>\n",
       "      <td>2019-07-21</td>\n",
       "      <td>beijingshi, beijingshi</td>\n",
       "      <td>8.0</td>\n",
       "    </tr>\n",
       "    <tr>\n",
       "      <th>1</th>\n",
       "      <td>2019-07-21</td>\n",
       "      <td>tianjinshi, tianjinshi</td>\n",
       "      <td>12.0</td>\n",
       "    </tr>\n",
       "    <tr>\n",
       "      <th>2</th>\n",
       "      <td>2019-07-21</td>\n",
       "      <td>shijiazhuangshi, hebeisheng</td>\n",
       "      <td>8.0</td>\n",
       "    </tr>\n",
       "    <tr>\n",
       "      <th>3</th>\n",
       "      <td>2019-07-21</td>\n",
       "      <td>tangshanshi, hebeisheng</td>\n",
       "      <td>12.0</td>\n",
       "    </tr>\n",
       "    <tr>\n",
       "      <th>4</th>\n",
       "      <td>2019-07-21</td>\n",
       "      <td>qinhuangdaoshi, hebeisheng</td>\n",
       "      <td>12.0</td>\n",
       "    </tr>\n",
       "    <tr>\n",
       "      <th>...</th>\n",
       "      <td>...</td>\n",
       "      <td>...</td>\n",
       "      <td>...</td>\n",
       "    </tr>\n",
       "    <tr>\n",
       "      <th>171932</th>\n",
       "      <td>2019-06-18</td>\n",
       "      <td>taiwansheng, taiwansheng</td>\n",
       "      <td>4.0</td>\n",
       "    </tr>\n",
       "    <tr>\n",
       "      <th>172306</th>\n",
       "      <td>2020-06-27</td>\n",
       "      <td>taiwansheng, taiwansheng</td>\n",
       "      <td>4.0</td>\n",
       "    </tr>\n",
       "    <tr>\n",
       "      <th>172680</th>\n",
       "      <td>2021-05-15</td>\n",
       "      <td>taiwansheng, taiwansheng</td>\n",
       "      <td>3.0</td>\n",
       "    </tr>\n",
       "    <tr>\n",
       "      <th>173054</th>\n",
       "      <td>2021-06-03</td>\n",
       "      <td>taiwansheng, taiwansheng</td>\n",
       "      <td>2.0</td>\n",
       "    </tr>\n",
       "    <tr>\n",
       "      <th>173428</th>\n",
       "      <td>2022-07-19</td>\n",
       "      <td>taiwansheng, taiwansheng</td>\n",
       "      <td>7.0</td>\n",
       "    </tr>\n",
       "  </tbody>\n",
       "</table>\n",
       "<p>6181 rows × 3 columns</p>\n",
       "</div>"
      ],
      "text/plain": [
       "         datetime                     location  Heat Wave Duration\n",
       "0      2019-07-21       beijingshi, beijingshi                 8.0\n",
       "1      2019-07-21       tianjinshi, tianjinshi                12.0\n",
       "2      2019-07-21  shijiazhuangshi, hebeisheng                 8.0\n",
       "3      2019-07-21      tangshanshi, hebeisheng                12.0\n",
       "4      2019-07-21   qinhuangdaoshi, hebeisheng                12.0\n",
       "...           ...                          ...                 ...\n",
       "171932 2019-06-18     taiwansheng, taiwansheng                 4.0\n",
       "172306 2020-06-27     taiwansheng, taiwansheng                 4.0\n",
       "172680 2021-05-15     taiwansheng, taiwansheng                 3.0\n",
       "173054 2021-06-03     taiwansheng, taiwansheng                 2.0\n",
       "173428 2022-07-19     taiwansheng, taiwansheng                 7.0\n",
       "\n",
       "[6181 rows x 3 columns]"
      ]
     },
     "execution_count": 68,
     "metadata": {},
     "output_type": "execute_result"
    }
   ],
   "source": [
    "consec"
   ]
  },
  {
   "cell_type": "code",
   "execution_count": 70,
   "id": "867c2be5-b962-49be-ab2f-76797fb4b421",
   "metadata": {},
   "outputs": [],
   "source": [
    "full_df = full_df.merge(codes, on=['datetime', 'location'])"
   ]
  },
  {
   "cell_type": "code",
   "execution_count": 76,
   "id": "73027c39-17aa-45a7-900b-6823f9d413be",
   "metadata": {},
   "outputs": [],
   "source": [
    "full_df = full_df.merge(consec, on=['datetime', 'location'], how='left')"
   ]
  },
  {
   "cell_type": "code",
   "execution_count": 78,
   "id": "81285556-3efd-4fbe-9dd8-90e65e6cfe41",
   "metadata": {},
   "outputs": [],
   "source": [
    "full_2023 = full_df[full_df['year'] == 2023]"
   ]
  },
  {
   "cell_type": "code",
   "execution_count": 239,
   "id": "36625c71-ca90-4f06-ad4c-3a283002ffdf",
   "metadata": {},
   "outputs": [],
   "source": [
    "#changed from v2\n",
    "full_2023.to_csv('THI_China_90_2023.csv')\n",
    "full_df.to_csv('THI_China_90_2019_2023.csv')"
   ]
  }
 ],
 "metadata": {
  "kernelspec": {
   "display_name": "Python 3 (ipykernel)",
   "language": "python",
   "name": "python3"
  },
  "language_info": {
   "codemirror_mode": {
    "name": "ipython",
    "version": 3
   },
   "file_extension": ".py",
   "mimetype": "text/x-python",
   "name": "python",
   "nbconvert_exporter": "python",
   "pygments_lexer": "ipython3",
   "version": "3.12.2"
  }
 },
 "nbformat": 4,
 "nbformat_minor": 5
}

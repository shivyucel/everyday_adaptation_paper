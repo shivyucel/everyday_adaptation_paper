{
 "cells": [
  {
   "cell_type": "code",
   "execution_count": 2,
   "id": "dac26cce-e6c4-4072-b038-a2b04679e46e",
   "metadata": {},
   "outputs": [],
   "source": [
    "from datetime import datetime, timedelta\n",
    "import pandas as pd\n",
    "from shapely.geometry import Point\n",
    "import geopandas as gpd\n",
    "import matplotlib.pyplot as plt\n",
    "datelist = pd.date_range(datetime.today(), periods=100).tolist()\n",
    "from time import sleep\n",
    "import dask.dataframe as dd\n",
    "from dateutil.parser import parse\n",
    "from dateutil.relativedelta import relativedelta\n",
    "import os\n",
    "import glob\n",
    "from datetime import date\n",
    "\n",
    "from uuid import uuid4\n",
    "\n",
    "\n",
    "from shapely.geometry import Polygon, MultiPolygon, LineString, GeometryCollection\n",
    "import numpy as np\n",
    "import pandas as pd\n",
    "from datetime import datetime, timedelta\n",
    "import geopandas as gpd\n",
    "import seaborn as sns\n",
    "\n",
    "import dask.dataframe as dd\n",
    "import geopandas as gpd\n",
    "from detect_heatwaves import detect\n",
    "from datetime import timedelta\n",
    "import seaborn as sns\n",
    "from datetime import date\n",
    "import matplotlib.pyplot as plt\n",
    "\n"
   ]
  },
  {
   "cell_type": "code",
   "execution_count": 3,
   "id": "f9201921-0279-4fc9-b07f-23a5b43c72f2",
   "metadata": {},
   "outputs": [],
   "source": [
    "full_df = pd.read_csv('/Users/shivyucel/Documents/projects/DPhil/Code_Data/data/THI/france/daily_max_THI.csv')\n",
    "\n",
    "full_df.rename(columns={'time': 'datetime'}, inplace=True)\n",
    "full_df['datetime'] = pd.to_datetime(full_df['datetime'])\n",
    "full_df['day'] = pd.DatetimeIndex(full_df['datetime']).day\n",
    "full_df['month'] = pd.DatetimeIndex(full_df['datetime']).month\n",
    "full_df['year'] = pd.DatetimeIndex(full_df['datetime']).year\n",
    "full_df = full_df[~full_df['month'].isin([4, 10])]\n",
    "full_df['location'] = full_df['adm2'] + ', ' + full_df['adm1']\n",
    "full_df['datetime_ord'] = [date(x,y,z).toordinal() for x,y,z in zip(full_df['year'], full_df['month'], full_df['day'])]\n"
   ]
  },
  {
   "cell_type": "markdown",
   "id": "f4fe9f14-7102-47b5-b884-3818a6f6c35b",
   "metadata": {},
   "source": [
    "## Find heat waves, heat wave lengths and assign unique heatwave IDs"
   ]
  },
  {
   "cell_type": "code",
   "execution_count": 4,
   "id": "993bd1a7-d85e-4331-8e99-21bf960dd4e3",
   "metadata": {},
   "outputs": [
    {
     "data": {
      "text/plain": [
       "Timestamp('2018-05-01 00:00:00')"
      ]
     },
     "execution_count": 4,
     "metadata": {},
     "output_type": "execute_result"
    }
   ],
   "source": [
    "full_df['datetime'].min()"
   ]
  },
  {
   "cell_type": "code",
   "execution_count": 5,
   "id": "9d21da94-e7cc-4f5b-bae4-976f5737b835",
   "metadata": {},
   "outputs": [
    {
     "data": {
      "text/plain": [
       "Timestamp('2018-05-01 00:00:00')"
      ]
     },
     "execution_count": 5,
     "metadata": {},
     "output_type": "execute_result"
    }
   ],
   "source": [
    "full_df['datetime'].min()"
   ]
  },
  {
   "cell_type": "code",
   "execution_count": 6,
   "id": "071312e5-4c3e-4df8-8cf4-c2d88c8fd4bb",
   "metadata": {},
   "outputs": [],
   "source": [
    "full_df['pct'] = full_df.groupby('location')['thi'].transform(lambda x: x.rank(pct=True))"
   ]
  },
  {
   "cell_type": "code",
   "execution_count": 7,
   "id": "9ecb0aab-c267-4846-9128-0aa94cea2968",
   "metadata": {
    "tags": []
   },
   "outputs": [],
   "source": [
    "#create dictionary containing each county's heatwave periods\n",
    "heatwave_dic = {}\n",
    "for adm2 in full_df['location'].unique():\n",
    "    adm2_df = full_df[(full_df['location'] == adm2)]\n",
    "    adm2_df.reset_index(inplace=True)\n",
    "    adm2_df = adm2_df.sort_values(by='datetime')\n",
    "    adm2_df.drop_duplicates(['adm2', 'datetime'], inplace=True)\n",
    "    heatwave_dic[adm2] = detect(adm2_df['datetime_ord'].values, adm2_df['thi'].values, pctile=90, minDuration=2)\n",
    "\n",
    "    \n",
    "heatwave_dates = {}\n",
    "consec_dates = {}\n",
    "heatwave_IDs = {}\n",
    "for adm2 in heatwave_dic.keys(): \n",
    "    consec_dates[adm2] = {}\n",
    "    heatwave_dates[adm2] = []\n",
    "    heatwave_IDs[adm2] = {}\n",
    "\n",
    "\n",
    "    heatwave_starts = heatwave_dic[adm2]['date_start']\n",
    "    heatwave_ends = heatwave_dic[adm2]['date_end']\n",
    "    for i in range(len(heatwave_starts)):\n",
    "        heatwave_code = str(uuid4())\n",
    "        heatwave_days = pd.date_range(heatwave_starts[i],heatwave_ends[i],freq='d')\n",
    "        length_heatwaves = len(heatwave_days)\n",
    "        consec_dates[adm2][heatwave_days[0]] = length_heatwaves\n",
    "        for item in heatwave_days:\n",
    "            heatwave_dates[adm2].append(item)\n",
    "            heatwave_IDs[adm2][item] = heatwave_code\n",
    "            \n",
    "            \n",
    "heat_df = pd.DataFrame.from_dict(heatwave_dates, orient='index').unstack().reset_index()\n",
    "heat_df.rename(columns={'level_1':'location', 0:'datetime'}, inplace=True)\n",
    "\n",
    "\n",
    "heat_df.dropna(inplace=True)\n",
    "heat_df['heatwave']=1"
   ]
  },
  {
   "cell_type": "code",
   "execution_count": 8,
   "id": "8b474adb",
   "metadata": {},
   "outputs": [
    {
     "data": {
      "text/html": [
       "<div>\n",
       "<style scoped>\n",
       "    .dataframe tbody tr th:only-of-type {\n",
       "        vertical-align: middle;\n",
       "    }\n",
       "\n",
       "    .dataframe tbody tr th {\n",
       "        vertical-align: top;\n",
       "    }\n",
       "\n",
       "    .dataframe thead th {\n",
       "        text-align: right;\n",
       "    }\n",
       "</style>\n",
       "<table border=\"1\" class=\"dataframe\">\n",
       "  <thead>\n",
       "    <tr style=\"text-align: right;\">\n",
       "      <th></th>\n",
       "      <th>Unnamed: 0</th>\n",
       "      <th>datetime</th>\n",
       "      <th>number</th>\n",
       "      <th>spatial_ref</th>\n",
       "      <th>t2m</th>\n",
       "      <th>d2m</th>\n",
       "      <th>rh</th>\n",
       "      <th>thi</th>\n",
       "      <th>adm2</th>\n",
       "      <th>adm1</th>\n",
       "      <th>day</th>\n",
       "      <th>month</th>\n",
       "      <th>year</th>\n",
       "      <th>location</th>\n",
       "      <th>datetime_ord</th>\n",
       "      <th>pct</th>\n",
       "    </tr>\n",
       "  </thead>\n",
       "  <tbody>\n",
       "    <tr>\n",
       "      <th>0</th>\n",
       "      <td>0</td>\n",
       "      <td>2018-05-01</td>\n",
       "      <td>0.0</td>\n",
       "      <td>0.0</td>\n",
       "      <td>12.984543</td>\n",
       "      <td>3.212509</td>\n",
       "      <td>72.96763</td>\n",
       "      <td>11.467585</td>\n",
       "      <td>Bas-Rhin</td>\n",
       "      <td>Alsace</td>\n",
       "      <td>1</td>\n",
       "      <td>5</td>\n",
       "      <td>2018</td>\n",
       "      <td>Bas-Rhin, Alsace</td>\n",
       "      <td>736815</td>\n",
       "      <td>0.018301</td>\n",
       "    </tr>\n",
       "    <tr>\n",
       "      <th>1</th>\n",
       "      <td>1</td>\n",
       "      <td>2018-05-02</td>\n",
       "      <td>0.0</td>\n",
       "      <td>0.0</td>\n",
       "      <td>16.846756</td>\n",
       "      <td>8.483494</td>\n",
       "      <td>82.40495</td>\n",
       "      <td>15.875832</td>\n",
       "      <td>Bas-Rhin</td>\n",
       "      <td>Alsace</td>\n",
       "      <td>2</td>\n",
       "      <td>5</td>\n",
       "      <td>2018</td>\n",
       "      <td>Bas-Rhin, Alsace</td>\n",
       "      <td>736816</td>\n",
       "      <td>0.117647</td>\n",
       "    </tr>\n",
       "    <tr>\n",
       "      <th>2</th>\n",
       "      <td>2</td>\n",
       "      <td>2018-05-03</td>\n",
       "      <td>0.0</td>\n",
       "      <td>0.0</td>\n",
       "      <td>16.842527</td>\n",
       "      <td>7.163579</td>\n",
       "      <td>81.98801</td>\n",
       "      <td>15.847073</td>\n",
       "      <td>Bas-Rhin</td>\n",
       "      <td>Alsace</td>\n",
       "      <td>3</td>\n",
       "      <td>5</td>\n",
       "      <td>2018</td>\n",
       "      <td>Bas-Rhin, Alsace</td>\n",
       "      <td>736817</td>\n",
       "      <td>0.113725</td>\n",
       "    </tr>\n",
       "    <tr>\n",
       "      <th>3</th>\n",
       "      <td>3</td>\n",
       "      <td>2018-05-04</td>\n",
       "      <td>0.0</td>\n",
       "      <td>0.0</td>\n",
       "      <td>20.003017</td>\n",
       "      <td>9.834668</td>\n",
       "      <td>72.43605</td>\n",
       "      <td>19.402456</td>\n",
       "      <td>Bas-Rhin</td>\n",
       "      <td>Alsace</td>\n",
       "      <td>4</td>\n",
       "      <td>5</td>\n",
       "      <td>2018</td>\n",
       "      <td>Bas-Rhin, Alsace</td>\n",
       "      <td>736818</td>\n",
       "      <td>0.270588</td>\n",
       "    </tr>\n",
       "    <tr>\n",
       "      <th>4</th>\n",
       "      <td>4</td>\n",
       "      <td>2018-05-05</td>\n",
       "      <td>0.0</td>\n",
       "      <td>0.0</td>\n",
       "      <td>22.701967</td>\n",
       "      <td>11.183942</td>\n",
       "      <td>65.62170</td>\n",
       "      <td>22.267851</td>\n",
       "      <td>Bas-Rhin</td>\n",
       "      <td>Alsace</td>\n",
       "      <td>5</td>\n",
       "      <td>5</td>\n",
       "      <td>2018</td>\n",
       "      <td>Bas-Rhin, Alsace</td>\n",
       "      <td>736819</td>\n",
       "      <td>0.469281</td>\n",
       "    </tr>\n",
       "    <tr>\n",
       "      <th>...</th>\n",
       "      <td>...</td>\n",
       "      <td>...</td>\n",
       "      <td>...</td>\n",
       "      <td>...</td>\n",
       "      <td>...</td>\n",
       "      <td>...</td>\n",
       "      <td>...</td>\n",
       "      <td>...</td>\n",
       "      <td>...</td>\n",
       "      <td>...</td>\n",
       "      <td>...</td>\n",
       "      <td>...</td>\n",
       "      <td>...</td>\n",
       "      <td>...</td>\n",
       "      <td>...</td>\n",
       "      <td>...</td>\n",
       "    </tr>\n",
       "    <tr>\n",
       "      <th>74393</th>\n",
       "      <td>74393</td>\n",
       "      <td>2022-09-26</td>\n",
       "      <td>0.0</td>\n",
       "      <td>0.0</td>\n",
       "      <td>9.025503</td>\n",
       "      <td>3.669450</td>\n",
       "      <td>98.37174</td>\n",
       "      <td>7.805842</td>\n",
       "      <td>Savoie</td>\n",
       "      <td>Rhône-Alpes</td>\n",
       "      <td>26</td>\n",
       "      <td>9</td>\n",
       "      <td>2022</td>\n",
       "      <td>Savoie, Rhône-Alpes</td>\n",
       "      <td>738424</td>\n",
       "      <td>0.084967</td>\n",
       "    </tr>\n",
       "    <tr>\n",
       "      <th>74394</th>\n",
       "      <td>74394</td>\n",
       "      <td>2022-09-27</td>\n",
       "      <td>0.0</td>\n",
       "      <td>0.0</td>\n",
       "      <td>5.570193</td>\n",
       "      <td>2.507942</td>\n",
       "      <td>96.72386</td>\n",
       "      <td>4.936991</td>\n",
       "      <td>Savoie</td>\n",
       "      <td>Rhône-Alpes</td>\n",
       "      <td>27</td>\n",
       "      <td>9</td>\n",
       "      <td>2022</td>\n",
       "      <td>Savoie, Rhône-Alpes</td>\n",
       "      <td>738425</td>\n",
       "      <td>0.028758</td>\n",
       "    </tr>\n",
       "    <tr>\n",
       "      <th>74395</th>\n",
       "      <td>74395</td>\n",
       "      <td>2022-09-28</td>\n",
       "      <td>0.0</td>\n",
       "      <td>0.0</td>\n",
       "      <td>7.894247</td>\n",
       "      <td>6.730359</td>\n",
       "      <td>97.35292</td>\n",
       "      <td>7.502293</td>\n",
       "      <td>Savoie</td>\n",
       "      <td>Rhône-Alpes</td>\n",
       "      <td>28</td>\n",
       "      <td>9</td>\n",
       "      <td>2022</td>\n",
       "      <td>Savoie, Rhône-Alpes</td>\n",
       "      <td>738426</td>\n",
       "      <td>0.075817</td>\n",
       "    </tr>\n",
       "    <tr>\n",
       "      <th>74396</th>\n",
       "      <td>74396</td>\n",
       "      <td>2022-09-29</td>\n",
       "      <td>0.0</td>\n",
       "      <td>0.0</td>\n",
       "      <td>6.146764</td>\n",
       "      <td>4.305479</td>\n",
       "      <td>97.17700</td>\n",
       "      <td>5.682936</td>\n",
       "      <td>Savoie</td>\n",
       "      <td>Rhône-Alpes</td>\n",
       "      <td>29</td>\n",
       "      <td>9</td>\n",
       "      <td>2022</td>\n",
       "      <td>Savoie, Rhône-Alpes</td>\n",
       "      <td>738427</td>\n",
       "      <td>0.036601</td>\n",
       "    </tr>\n",
       "    <tr>\n",
       "      <th>74397</th>\n",
       "      <td>74397</td>\n",
       "      <td>2022-09-30</td>\n",
       "      <td>0.0</td>\n",
       "      <td>0.0</td>\n",
       "      <td>6.184298</td>\n",
       "      <td>3.022592</td>\n",
       "      <td>97.05659</td>\n",
       "      <td>5.607690</td>\n",
       "      <td>Savoie</td>\n",
       "      <td>Rhône-Alpes</td>\n",
       "      <td>30</td>\n",
       "      <td>9</td>\n",
       "      <td>2022</td>\n",
       "      <td>Savoie, Rhône-Alpes</td>\n",
       "      <td>738428</td>\n",
       "      <td>0.033987</td>\n",
       "    </tr>\n",
       "  </tbody>\n",
       "</table>\n",
       "<p>73440 rows × 16 columns</p>\n",
       "</div>"
      ],
      "text/plain": [
       "       Unnamed: 0   datetime  number  spatial_ref        t2m        d2m  \\\n",
       "0               0 2018-05-01     0.0          0.0  12.984543   3.212509   \n",
       "1               1 2018-05-02     0.0          0.0  16.846756   8.483494   \n",
       "2               2 2018-05-03     0.0          0.0  16.842527   7.163579   \n",
       "3               3 2018-05-04     0.0          0.0  20.003017   9.834668   \n",
       "4               4 2018-05-05     0.0          0.0  22.701967  11.183942   \n",
       "...           ...        ...     ...          ...        ...        ...   \n",
       "74393       74393 2022-09-26     0.0          0.0   9.025503   3.669450   \n",
       "74394       74394 2022-09-27     0.0          0.0   5.570193   2.507942   \n",
       "74395       74395 2022-09-28     0.0          0.0   7.894247   6.730359   \n",
       "74396       74396 2022-09-29     0.0          0.0   6.146764   4.305479   \n",
       "74397       74397 2022-09-30     0.0          0.0   6.184298   3.022592   \n",
       "\n",
       "             rh        thi      adm2         adm1  day  month  year  \\\n",
       "0      72.96763  11.467585  Bas-Rhin       Alsace    1      5  2018   \n",
       "1      82.40495  15.875832  Bas-Rhin       Alsace    2      5  2018   \n",
       "2      81.98801  15.847073  Bas-Rhin       Alsace    3      5  2018   \n",
       "3      72.43605  19.402456  Bas-Rhin       Alsace    4      5  2018   \n",
       "4      65.62170  22.267851  Bas-Rhin       Alsace    5      5  2018   \n",
       "...         ...        ...       ...          ...  ...    ...   ...   \n",
       "74393  98.37174   7.805842    Savoie  Rhône-Alpes   26      9  2022   \n",
       "74394  96.72386   4.936991    Savoie  Rhône-Alpes   27      9  2022   \n",
       "74395  97.35292   7.502293    Savoie  Rhône-Alpes   28      9  2022   \n",
       "74396  97.17700   5.682936    Savoie  Rhône-Alpes   29      9  2022   \n",
       "74397  97.05659   5.607690    Savoie  Rhône-Alpes   30      9  2022   \n",
       "\n",
       "                  location  datetime_ord       pct  \n",
       "0         Bas-Rhin, Alsace        736815  0.018301  \n",
       "1         Bas-Rhin, Alsace        736816  0.117647  \n",
       "2         Bas-Rhin, Alsace        736817  0.113725  \n",
       "3         Bas-Rhin, Alsace        736818  0.270588  \n",
       "4         Bas-Rhin, Alsace        736819  0.469281  \n",
       "...                    ...           ...       ...  \n",
       "74393  Savoie, Rhône-Alpes        738424  0.084967  \n",
       "74394  Savoie, Rhône-Alpes        738425  0.028758  \n",
       "74395  Savoie, Rhône-Alpes        738426  0.075817  \n",
       "74396  Savoie, Rhône-Alpes        738427  0.036601  \n",
       "74397  Savoie, Rhône-Alpes        738428  0.033987  \n",
       "\n",
       "[73440 rows x 16 columns]"
      ]
     },
     "execution_count": 8,
     "metadata": {},
     "output_type": "execute_result"
    }
   ],
   "source": [
    "full_df"
   ]
  },
  {
   "cell_type": "code",
   "execution_count": 9,
   "id": "ad35a294",
   "metadata": {},
   "outputs": [],
   "source": [
    "full_df['datetime'] = pd.to_datetime(full_df['datetime'])"
   ]
  },
  {
   "cell_type": "code",
   "execution_count": 10,
   "id": "e1f089ad-9af7-4ad2-a70c-23f153adcc7c",
   "metadata": {
    "tags": []
   },
   "outputs": [],
   "source": [
    "full_df = full_df.merge(heat_df, on=['location', 'datetime'], how='left')\n",
    "\n",
    "full_df['heatwave'] = full_df['heatwave'].replace(np.nan, 0)"
   ]
  },
  {
   "cell_type": "code",
   "execution_count": 11,
   "id": "d0247cae-4e6e-47cb-8d49-ae862fab3fba",
   "metadata": {},
   "outputs": [
    {
     "data": {
      "text/plain": [
       "0.9006535947712418"
      ]
     },
     "execution_count": 11,
     "metadata": {},
     "output_type": "execute_result"
    }
   ],
   "source": [
    "full_df[full_df['heatwave'] == 1]['pct'].min()"
   ]
  },
  {
   "cell_type": "code",
   "execution_count": 12,
   "id": "eb7921bb-dce9-44ea-b796-8a381844fb94",
   "metadata": {},
   "outputs": [
    {
     "data": {
      "text/plain": [
       "96"
      ]
     },
     "execution_count": 12,
     "metadata": {},
     "output_type": "execute_result"
    }
   ],
   "source": [
    "len(full_df[full_df['heatwave'] == 1]['location'].unique())"
   ]
  },
  {
   "cell_type": "code",
   "execution_count": 13,
   "id": "bf2387f1-782e-464c-ad07-75357f6f1514",
   "metadata": {},
   "outputs": [],
   "source": [
    "codes = pd.DataFrame.from_dict(heatwave_IDs, orient='index').unstack().reset_index()"
   ]
  },
  {
   "cell_type": "code",
   "execution_count": 14,
   "id": "76b3e78e-191b-44b1-8d6c-ca97760e1b60",
   "metadata": {},
   "outputs": [],
   "source": [
    "codes.columns=['datetime', 'location', 'heat_ID']"
   ]
  },
  {
   "cell_type": "code",
   "execution_count": 15,
   "id": "4af2990c-0de2-429b-b89c-935badedaf10",
   "metadata": {},
   "outputs": [],
   "source": [
    "codes.dropna(inplace=True)"
   ]
  },
  {
   "cell_type": "code",
   "execution_count": 16,
   "id": "5ce10f8a-f446-4f50-ad5b-c80e1a53777e",
   "metadata": {},
   "outputs": [
    {
     "data": {
      "text/html": [
       "<div>\n",
       "<style scoped>\n",
       "    .dataframe tbody tr th:only-of-type {\n",
       "        vertical-align: middle;\n",
       "    }\n",
       "\n",
       "    .dataframe tbody tr th {\n",
       "        vertical-align: top;\n",
       "    }\n",
       "\n",
       "    .dataframe thead th {\n",
       "        text-align: right;\n",
       "    }\n",
       "</style>\n",
       "<table border=\"1\" class=\"dataframe\">\n",
       "  <thead>\n",
       "    <tr style=\"text-align: right;\">\n",
       "      <th></th>\n",
       "      <th>datetime</th>\n",
       "      <th>location</th>\n",
       "      <th>heat_ID</th>\n",
       "    </tr>\n",
       "  </thead>\n",
       "  <tbody>\n",
       "    <tr>\n",
       "      <th>0</th>\n",
       "      <td>2018-07-24</td>\n",
       "      <td>Bas-Rhin, Alsace</td>\n",
       "      <td>076f30bc-6382-4a21-a479-597372f950c3</td>\n",
       "    </tr>\n",
       "    <tr>\n",
       "      <th>1</th>\n",
       "      <td>2018-07-24</td>\n",
       "      <td>Haut-Rhin, Alsace</td>\n",
       "      <td>0b2fe3f9-a12a-4440-9214-5a187ac34344</td>\n",
       "    </tr>\n",
       "    <tr>\n",
       "      <th>2</th>\n",
       "      <td>2018-07-24</td>\n",
       "      <td>Hauts-de-Seine, Île-de-France</td>\n",
       "      <td>04352367-ccad-49e9-a5be-4283ca10bf3c</td>\n",
       "    </tr>\n",
       "    <tr>\n",
       "      <th>3</th>\n",
       "      <td>2018-07-24</td>\n",
       "      <td>Paris, Île-de-France</td>\n",
       "      <td>b95e5a5d-a28b-4669-aec6-9a0502c18e7a</td>\n",
       "    </tr>\n",
       "    <tr>\n",
       "      <th>4</th>\n",
       "      <td>2018-07-24</td>\n",
       "      <td>Seine-et-Marne, Île-de-France</td>\n",
       "      <td>d5f4e4e8-39f6-4f99-982b-22767b018a36</td>\n",
       "    </tr>\n",
       "    <tr>\n",
       "      <th>...</th>\n",
       "      <td>...</td>\n",
       "      <td>...</td>\n",
       "      <td>...</td>\n",
       "    </tr>\n",
       "    <tr>\n",
       "      <th>19610</th>\n",
       "      <td>2022-08-15</td>\n",
       "      <td>Nord, Nord-Pas-de-Calais</td>\n",
       "      <td>fcd380ca-7979-469a-aee3-47177852def1</td>\n",
       "    </tr>\n",
       "    <tr>\n",
       "      <th>19611</th>\n",
       "      <td>2022-08-15</td>\n",
       "      <td>Pas-de-Calais, Nord-Pas-de-Calais</td>\n",
       "      <td>eb3993fb-e230-4f6f-8fe4-f7faf905dd1a</td>\n",
       "    </tr>\n",
       "    <tr>\n",
       "      <th>19753</th>\n",
       "      <td>2018-07-28</td>\n",
       "      <td>Var, Provence-Alpes-Côte d'Azur</td>\n",
       "      <td>415d7607-19cd-4be3-a44c-2ac54f79a272</td>\n",
       "    </tr>\n",
       "    <tr>\n",
       "      <th>19843</th>\n",
       "      <td>2020-07-09</td>\n",
       "      <td>Ardèche, Rhône-Alpes</td>\n",
       "      <td>c9b4ce76-56de-4d3f-93ef-e96979a25170</td>\n",
       "    </tr>\n",
       "    <tr>\n",
       "      <th>19939</th>\n",
       "      <td>2020-07-10</td>\n",
       "      <td>Ardèche, Rhône-Alpes</td>\n",
       "      <td>c9b4ce76-56de-4d3f-93ef-e96979a25170</td>\n",
       "    </tr>\n",
       "  </tbody>\n",
       "</table>\n",
       "<p>6244 rows × 3 columns</p>\n",
       "</div>"
      ],
      "text/plain": [
       "        datetime                           location  \\\n",
       "0     2018-07-24                   Bas-Rhin, Alsace   \n",
       "1     2018-07-24                  Haut-Rhin, Alsace   \n",
       "2     2018-07-24      Hauts-de-Seine, Île-de-France   \n",
       "3     2018-07-24               Paris, Île-de-France   \n",
       "4     2018-07-24      Seine-et-Marne, Île-de-France   \n",
       "...          ...                                ...   \n",
       "19610 2022-08-15           Nord, Nord-Pas-de-Calais   \n",
       "19611 2022-08-15  Pas-de-Calais, Nord-Pas-de-Calais   \n",
       "19753 2018-07-28    Var, Provence-Alpes-Côte d'Azur   \n",
       "19843 2020-07-09               Ardèche, Rhône-Alpes   \n",
       "19939 2020-07-10               Ardèche, Rhône-Alpes   \n",
       "\n",
       "                                    heat_ID  \n",
       "0      076f30bc-6382-4a21-a479-597372f950c3  \n",
       "1      0b2fe3f9-a12a-4440-9214-5a187ac34344  \n",
       "2      04352367-ccad-49e9-a5be-4283ca10bf3c  \n",
       "3      b95e5a5d-a28b-4669-aec6-9a0502c18e7a  \n",
       "4      d5f4e4e8-39f6-4f99-982b-22767b018a36  \n",
       "...                                     ...  \n",
       "19610  fcd380ca-7979-469a-aee3-47177852def1  \n",
       "19611  eb3993fb-e230-4f6f-8fe4-f7faf905dd1a  \n",
       "19753  415d7607-19cd-4be3-a44c-2ac54f79a272  \n",
       "19843  c9b4ce76-56de-4d3f-93ef-e96979a25170  \n",
       "19939  c9b4ce76-56de-4d3f-93ef-e96979a25170  \n",
       "\n",
       "[6244 rows x 3 columns]"
      ]
     },
     "execution_count": 16,
     "metadata": {},
     "output_type": "execute_result"
    }
   ],
   "source": [
    "codes"
   ]
  },
  {
   "cell_type": "code",
   "execution_count": 17,
   "id": "4043c97d-9b58-4268-9d00-321d038a417c",
   "metadata": {},
   "outputs": [],
   "source": [
    "consec = pd.DataFrame.from_dict(consec_dates, orient='index').unstack().reset_index()"
   ]
  },
  {
   "cell_type": "code",
   "execution_count": 18,
   "id": "c9bba8eb-e6cc-4f29-bea2-1ac61f366fc4",
   "metadata": {},
   "outputs": [],
   "source": [
    "consec.columns= ['datetime', 'location', 'Heat Wave Duration']"
   ]
  },
  {
   "cell_type": "code",
   "execution_count": 19,
   "id": "72d59e83-8f86-47e4-b5d6-7367ea2bce5c",
   "metadata": {},
   "outputs": [
    {
     "data": {
      "text/plain": [
       "14.0"
      ]
     },
     "execution_count": 19,
     "metadata": {},
     "output_type": "execute_result"
    }
   ],
   "source": [
    "consec['Heat Wave Duration'].max()"
   ]
  },
  {
   "cell_type": "code",
   "execution_count": 20,
   "id": "db2fe7e3-13a0-49ab-8292-17263a0b9761",
   "metadata": {},
   "outputs": [],
   "source": [
    "consec.dropna(inplace=True)"
   ]
  },
  {
   "cell_type": "code",
   "execution_count": 21,
   "id": "572e3f35",
   "metadata": {},
   "outputs": [
    {
     "data": {
      "text/html": [
       "<div>\n",
       "<style scoped>\n",
       "    .dataframe tbody tr th:only-of-type {\n",
       "        vertical-align: middle;\n",
       "    }\n",
       "\n",
       "    .dataframe tbody tr th {\n",
       "        vertical-align: top;\n",
       "    }\n",
       "\n",
       "    .dataframe thead th {\n",
       "        text-align: right;\n",
       "    }\n",
       "</style>\n",
       "<table border=\"1\" class=\"dataframe\">\n",
       "  <thead>\n",
       "    <tr style=\"text-align: right;\">\n",
       "      <th></th>\n",
       "      <th>datetime</th>\n",
       "      <th>location</th>\n",
       "      <th>Heat Wave Duration</th>\n",
       "    </tr>\n",
       "  </thead>\n",
       "  <tbody>\n",
       "    <tr>\n",
       "      <th>0</th>\n",
       "      <td>2018-07-24</td>\n",
       "      <td>Bas-Rhin, Alsace</td>\n",
       "      <td>4.0</td>\n",
       "    </tr>\n",
       "    <tr>\n",
       "      <th>1</th>\n",
       "      <td>2018-07-24</td>\n",
       "      <td>Haut-Rhin, Alsace</td>\n",
       "      <td>4.0</td>\n",
       "    </tr>\n",
       "    <tr>\n",
       "      <th>2</th>\n",
       "      <td>2018-07-24</td>\n",
       "      <td>Hauts-de-Seine, Île-de-France</td>\n",
       "      <td>4.0</td>\n",
       "    </tr>\n",
       "    <tr>\n",
       "      <th>3</th>\n",
       "      <td>2018-07-24</td>\n",
       "      <td>Paris, Île-de-France</td>\n",
       "      <td>4.0</td>\n",
       "    </tr>\n",
       "    <tr>\n",
       "      <th>4</th>\n",
       "      <td>2018-07-24</td>\n",
       "      <td>Seine-et-Marne, Île-de-France</td>\n",
       "      <td>4.0</td>\n",
       "    </tr>\n",
       "    <tr>\n",
       "      <th>...</th>\n",
       "      <td>...</td>\n",
       "      <td>...</td>\n",
       "      <td>...</td>\n",
       "    </tr>\n",
       "    <tr>\n",
       "      <th>11987</th>\n",
       "      <td>2019-06-28</td>\n",
       "      <td>Somme, Picardie</td>\n",
       "      <td>2.0</td>\n",
       "    </tr>\n",
       "    <tr>\n",
       "      <th>12027</th>\n",
       "      <td>2022-08-05</td>\n",
       "      <td>Bouches-du-Rhone, Provence-Alpes-Côte d'Azur</td>\n",
       "      <td>2.0</td>\n",
       "    </tr>\n",
       "    <tr>\n",
       "      <th>12189</th>\n",
       "      <td>2018-07-28</td>\n",
       "      <td>Var, Provence-Alpes-Côte d'Azur</td>\n",
       "      <td>10.0</td>\n",
       "    </tr>\n",
       "    <tr>\n",
       "      <th>12285</th>\n",
       "      <td>2020-08-11</td>\n",
       "      <td>Var, Provence-Alpes-Côte d'Azur</td>\n",
       "      <td>2.0</td>\n",
       "    </tr>\n",
       "    <tr>\n",
       "      <th>12316</th>\n",
       "      <td>2020-07-09</td>\n",
       "      <td>Ardèche, Rhône-Alpes</td>\n",
       "      <td>2.0</td>\n",
       "    </tr>\n",
       "  </tbody>\n",
       "</table>\n",
       "<p>1610 rows × 3 columns</p>\n",
       "</div>"
      ],
      "text/plain": [
       "        datetime                                      location  \\\n",
       "0     2018-07-24                              Bas-Rhin, Alsace   \n",
       "1     2018-07-24                             Haut-Rhin, Alsace   \n",
       "2     2018-07-24                 Hauts-de-Seine, Île-de-France   \n",
       "3     2018-07-24                          Paris, Île-de-France   \n",
       "4     2018-07-24                 Seine-et-Marne, Île-de-France   \n",
       "...          ...                                           ...   \n",
       "11987 2019-06-28                               Somme, Picardie   \n",
       "12027 2022-08-05  Bouches-du-Rhone, Provence-Alpes-Côte d'Azur   \n",
       "12189 2018-07-28               Var, Provence-Alpes-Côte d'Azur   \n",
       "12285 2020-08-11               Var, Provence-Alpes-Côte d'Azur   \n",
       "12316 2020-07-09                          Ardèche, Rhône-Alpes   \n",
       "\n",
       "       Heat Wave Duration  \n",
       "0                     4.0  \n",
       "1                     4.0  \n",
       "2                     4.0  \n",
       "3                     4.0  \n",
       "4                     4.0  \n",
       "...                   ...  \n",
       "11987                 2.0  \n",
       "12027                 2.0  \n",
       "12189                10.0  \n",
       "12285                 2.0  \n",
       "12316                 2.0  \n",
       "\n",
       "[1610 rows x 3 columns]"
      ]
     },
     "execution_count": 21,
     "metadata": {},
     "output_type": "execute_result"
    }
   ],
   "source": [
    "consec"
   ]
  },
  {
   "cell_type": "code",
   "execution_count": 22,
   "id": "867c2be5-b962-49be-ab2f-76797fb4b421",
   "metadata": {},
   "outputs": [],
   "source": [
    "full_df = full_df.merge(codes, on=['datetime', 'location'])"
   ]
  },
  {
   "cell_type": "code",
   "execution_count": 23,
   "id": "73027c39-17aa-45a7-900b-6823f9d413be",
   "metadata": {},
   "outputs": [],
   "source": [
    "full_df = full_df.merge(consec, on=['datetime', 'location'], how='left')"
   ]
  },
  {
   "cell_type": "code",
   "execution_count": 24,
   "id": "81285556-3efd-4fbe-9dd8-90e65e6cfe41",
   "metadata": {},
   "outputs": [],
   "source": [
    "full_2022 = full_df[full_df['year'] == 2022]"
   ]
  },
  {
   "cell_type": "code",
   "execution_count": 25,
   "id": "f73c9d7b-a429-4d92-98f3-ced0755cb34b",
   "metadata": {},
   "outputs": [
    {
     "data": {
      "text/plain": [
       "b23f996b-36b6-41a8-96d2-a2fb329f04bf    14\n",
       "b9714251-4126-489c-9459-cebffc9ab1f3    14\n",
       "33b5f77d-e2e0-4236-8e5d-c8b98fc044ff    13\n",
       "142ef1f7-347c-404e-9d73-7cd4b6cae548    13\n",
       "340f01cd-c6a8-48e3-ba67-42cd6db480aa    13\n",
       "                                        ..\n",
       "83f53ccf-d823-4a48-b5e0-eb11cca1bd29     2\n",
       "17310330-f87f-42f1-8b89-a6ef7db5886a     2\n",
       "9372ada4-414f-495a-bd7d-ec27ef777e85     2\n",
       "66b74b10-3f6f-4b79-b2c4-fc6d8eb9a4a2     2\n",
       "42e9418f-8309-4e1c-8c3f-db9c4700b854     2\n",
       "Name: heat_ID, Length: 1610, dtype: int64"
      ]
     },
     "execution_count": 25,
     "metadata": {},
     "output_type": "execute_result"
    }
   ],
   "source": [
    "full_df['heat_ID'].value_counts()"
   ]
  },
  {
   "cell_type": "code",
   "execution_count": 26,
   "id": "dfbdfc8d-3a31-43e3-8ee8-ff842da8c8eb",
   "metadata": {},
   "outputs": [],
   "source": [
    "gdf = gpd.read_file('/Users/shivyucel/Documents/projects/DPhil/Code_Data/data/adm0_shp/france/clean_shp.shp')"
   ]
  },
  {
   "cell_type": "code",
   "execution_count": 29,
   "id": "c2c64a78-14b4-434d-a1ce-bba7f2e234c7",
   "metadata": {},
   "outputs": [],
   "source": [
    "for_plot = gdf.merge(full_df.groupby(['adm2'])['thi'].mean().reset_index(), left_on=['adm2'], right_on=['adm2'])"
   ]
  },
  {
   "cell_type": "code",
   "execution_count": 31,
   "id": "0434e27f-c97f-4f93-a691-4bd91d4621f4",
   "metadata": {},
   "outputs": [
    {
     "data": {
      "text/plain": [
       "Text(0.5, 1.0, 'France 2022 heatwave temperatures (THI)')"
      ]
     },
     "execution_count": 31,
     "metadata": {},
     "output_type": "execute_result"
    },
    {
     "data": {
      "image/png": "[encoded data removed]",
      "text/plain": [
       "<Figure size 640x480 with 2 Axes>"
      ]
     },
     "metadata": {},
     "output_type": "display_data"
    }
   ],
   "source": [
    "for_plot.plot(column='thi', legend=True)\n",
    "plt.title(\"France 2022 heatwave temperatures (THI)\")"
   ]
  },
  {
   "cell_type": "code",
   "execution_count": 35,
   "id": "de1fcf3b",
   "metadata": {},
   "outputs": [
    {
     "data": {
      "text/plain": [
       "96"
      ]
     },
     "execution_count": 35,
     "metadata": {},
     "output_type": "execute_result"
    }
   ],
   "source": [
    "len(full_2022['adm2'].unique())"
   ]
  },
  {
   "cell_type": "code",
   "execution_count": 36,
   "id": "36625c71-ca90-4f06-ad4c-3a283002ffdf",
   "metadata": {},
   "outputs": [],
   "source": [
    "#changed from v2\n",
    "full_2022.to_csv(f'/Users/shivyucel/Documents/projects/DPhil/Code_Data/data/heatwave/france/THI_france_90_2022.csv')\n",
    "full_df.to_csv(f'/Users/shivyucel/Documents/projects/DPhil/Code_Data/data/heatwave/france/THI_france_90_2018_2022.csv')"
   ]
  },
  {
   "cell_type": "code",
   "execution_count": null,
   "id": "b9c0fa0f",
   "metadata": {},
   "outputs": [],
   "source": []
  }
 ],
 "metadata": {
  "kernelspec": {
   "display_name": "Python 3 (ipykernel)",
   "language": "python",
   "name": "python3"
  },
  "language_info": {
   "codemirror_mode": {
    "name": "ipython",
    "version": 3
   },
   "file_extension": ".py",
   "mimetype": "text/x-python",
   "name": "python",
   "nbconvert_exporter": "python",
   "pygments_lexer": "ipython3",
   "version": "3.11.0"
  }
 },
 "nbformat": 4,
 "nbformat_minor": 5
}

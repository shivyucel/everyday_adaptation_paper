{
 "cells": [
  {
   "cell_type": "code",
   "execution_count": 6,
   "id": "dac26cce-e6c4-4072-b038-a2b04679e46e",
   "metadata": {},
   "outputs": [],
   "source": [
    "from datetime import datetime, timedelta\n",
    "import pandas as pd\n",
    "from shapely.geometry import Point\n",
    "import geopandas as gpd\n",
    "import matplotlib.pyplot as plt\n",
    "datelist = pd.date_range(datetime.today(), periods=100).tolist()\n",
    "from time import sleep\n",
    "import dask.dataframe as dd\n",
    "from dateutil.parser import parse\n",
    "from dateutil.relativedelta import relativedelta\n",
    "import os\n",
    "import glob\n",
    "from datetime import date\n",
    "\n",
    "from uuid import uuid4\n",
    "from detect_heatwaves import detect\n",
    "\n",
    "from shapely.geometry import Polygon, MultiPolygon, LineString, GeometryCollection\n",
    "\n",
    "import numpy as np\n",
    "import pandas as pd\n",
    "from datetime import datetime, timedelta\n",
    "import geopandas as gpd\n",
    "import seaborn as sns\n",
    "\n",
    "import dask.dataframe as dd\n",
    "import geopandas as gpd\n",
    "from datetime import timedelta\n",
    "import seaborn as sns\n",
    "from datetime import date\n",
    "import matplotlib.pyplot as plt\n",
    "\n",
    "sns.set_style('darkgrid')"
   ]
  },
  {
   "cell_type": "code",
   "execution_count": 7,
   "id": "b1655e4a-f904-4250-9001-6f82ca7b0316",
   "metadata": {},
   "outputs": [],
   "source": [
    "full_df = pd.read_csv('/Users/shivyucel/Documents/projects/DPhil/Code_Data/data/THI/india/daily_max_THI.csv')\n",
    "\n",
    "full_df.rename(columns={'time': 'datetime'}, inplace=True)\n",
    "full_df['datetime'] = pd.to_datetime(full_df['datetime'])\n",
    "full_df['day'] = pd.DatetimeIndex(full_df['datetime']).day\n",
    "full_df['month'] = pd.DatetimeIndex(full_df['datetime']).month\n",
    "full_df['year'] = pd.DatetimeIndex(full_df['datetime']).year\n",
    "full_df.month.unique()\n",
    "full_df = full_df[~full_df['month'].isin([8, 9])]\n",
    "full_df['location'] = full_df['adm2'] + ', ' + full_df['adm1']\n",
    "full_df['datetime_ord'] = [date(x,y,z).toordinal() for x,y,z in zip(full_df['year'], full_df['month'], full_df['day'])]\n"
   ]
  },
  {
   "cell_type": "code",
   "execution_count": 8,
   "id": "115ad84c-2352-4cb7-870d-780a58fde30d",
   "metadata": {},
   "outputs": [
    {
     "data": {
      "text/plain": [
       "Timestamp('2022-07-31 00:00:00')"
      ]
     },
     "execution_count": 8,
     "metadata": {},
     "output_type": "execute_result"
    }
   ],
   "source": [
    "full_df['datetime'].max()"
   ]
  },
  {
   "cell_type": "markdown",
   "id": "f4fe9f14-7102-47b5-b884-3818a6f6c35b",
   "metadata": {},
   "source": [
    "## Find heat waves, heat wave lengths and assign unique heatwave IDs"
   ]
  },
  {
   "cell_type": "code",
   "execution_count": 9,
   "id": "d47a5f55-10d9-4f45-8ca5-c7160d114f6b",
   "metadata": {},
   "outputs": [
    {
     "data": {
      "text/plain": [
       "array([3, 4, 5, 6, 7])"
      ]
     },
     "execution_count": 9,
     "metadata": {},
     "output_type": "execute_result"
    }
   ],
   "source": [
    "full_df.month.unique()"
   ]
  },
  {
   "cell_type": "code",
   "execution_count": 10,
   "id": "071312e5-4c3e-4df8-8cf4-c2d88c8fd4bb",
   "metadata": {},
   "outputs": [],
   "source": [
    "full_df['pct'] = full_df.groupby('location')['thi'].transform(lambda x: x.rank(pct=True))"
   ]
  },
  {
   "cell_type": "code",
   "execution_count": 12,
   "id": "71f81b2e-fb44-4a5a-bd5e-bee43beb1caf",
   "metadata": {},
   "outputs": [
    {
     "data": {
      "text/html": [
       "<div>\n",
       "<style scoped>\n",
       "    .dataframe tbody tr th:only-of-type {\n",
       "        vertical-align: middle;\n",
       "    }\n",
       "\n",
       "    .dataframe tbody tr th {\n",
       "        vertical-align: top;\n",
       "    }\n",
       "\n",
       "    .dataframe thead th {\n",
       "        text-align: right;\n",
       "    }\n",
       "</style>\n",
       "<table border=\"1\" class=\"dataframe\">\n",
       "  <thead>\n",
       "    <tr style=\"text-align: right;\">\n",
       "      <th></th>\n",
       "      <th>Unnamed: 0</th>\n",
       "      <th>datetime</th>\n",
       "      <th>number</th>\n",
       "      <th>spatial_ref</th>\n",
       "      <th>t2m</th>\n",
       "      <th>d2m</th>\n",
       "      <th>rh</th>\n",
       "      <th>thi</th>\n",
       "      <th>adm2</th>\n",
       "      <th>adm1</th>\n",
       "      <th>day</th>\n",
       "      <th>month</th>\n",
       "      <th>year</th>\n",
       "      <th>location</th>\n",
       "      <th>datetime_ord</th>\n",
       "      <th>pct</th>\n",
       "    </tr>\n",
       "  </thead>\n",
       "  <tbody>\n",
       "    <tr>\n",
       "      <th>0</th>\n",
       "      <td>0</td>\n",
       "      <td>2018-03-01</td>\n",
       "      <td>0.0</td>\n",
       "      <td>0.0</td>\n",
       "      <td>3.870693</td>\n",
       "      <td>-0.336059</td>\n",
       "      <td>89.557830</td>\n",
       "      <td>3.358750</td>\n",
       "      <td>Kupwara</td>\n",
       "      <td>Jammu and Kashmir</td>\n",
       "      <td>1</td>\n",
       "      <td>3</td>\n",
       "      <td>2018</td>\n",
       "      <td>Kupwara, Jammu and Kashmir</td>\n",
       "      <td>736754</td>\n",
       "      <td>0.092810</td>\n",
       "    </tr>\n",
       "    <tr>\n",
       "      <th>1</th>\n",
       "      <td>1</td>\n",
       "      <td>2018-03-02</td>\n",
       "      <td>0.0</td>\n",
       "      <td>0.0</td>\n",
       "      <td>1.752877</td>\n",
       "      <td>0.277528</td>\n",
       "      <td>96.889080</td>\n",
       "      <td>1.572616</td>\n",
       "      <td>Kupwara</td>\n",
       "      <td>Jammu and Kashmir</td>\n",
       "      <td>2</td>\n",
       "      <td>3</td>\n",
       "      <td>2018</td>\n",
       "      <td>Kupwara, Jammu and Kashmir</td>\n",
       "      <td>736755</td>\n",
       "      <td>0.039216</td>\n",
       "    </tr>\n",
       "    <tr>\n",
       "      <th>2</th>\n",
       "      <td>2</td>\n",
       "      <td>2018-03-03</td>\n",
       "      <td>0.0</td>\n",
       "      <td>0.0</td>\n",
       "      <td>0.715096</td>\n",
       "      <td>-0.762714</td>\n",
       "      <td>93.343290</td>\n",
       "      <td>0.615840</td>\n",
       "      <td>Kupwara</td>\n",
       "      <td>Jammu and Kashmir</td>\n",
       "      <td>3</td>\n",
       "      <td>3</td>\n",
       "      <td>2018</td>\n",
       "      <td>Kupwara, Jammu and Kashmir</td>\n",
       "      <td>736756</td>\n",
       "      <td>0.023529</td>\n",
       "    </tr>\n",
       "    <tr>\n",
       "      <th>3</th>\n",
       "      <td>3</td>\n",
       "      <td>2018-03-04</td>\n",
       "      <td>0.0</td>\n",
       "      <td>0.0</td>\n",
       "      <td>3.509904</td>\n",
       "      <td>-2.625711</td>\n",
       "      <td>88.456640</td>\n",
       "      <td>3.029944</td>\n",
       "      <td>Kupwara</td>\n",
       "      <td>Jammu and Kashmir</td>\n",
       "      <td>4</td>\n",
       "      <td>3</td>\n",
       "      <td>2018</td>\n",
       "      <td>Kupwara, Jammu and Kashmir</td>\n",
       "      <td>736757</td>\n",
       "      <td>0.074510</td>\n",
       "    </tr>\n",
       "    <tr>\n",
       "      <th>4</th>\n",
       "      <td>4</td>\n",
       "      <td>2018-03-05</td>\n",
       "      <td>0.0</td>\n",
       "      <td>0.0</td>\n",
       "      <td>3.881704</td>\n",
       "      <td>-4.325170</td>\n",
       "      <td>81.862310</td>\n",
       "      <td>3.324411</td>\n",
       "      <td>Kupwara</td>\n",
       "      <td>Jammu and Kashmir</td>\n",
       "      <td>5</td>\n",
       "      <td>3</td>\n",
       "      <td>2018</td>\n",
       "      <td>Kupwara, Jammu and Kashmir</td>\n",
       "      <td>736758</td>\n",
       "      <td>0.090196</td>\n",
       "    </tr>\n",
       "    <tr>\n",
       "      <th>...</th>\n",
       "      <td>...</td>\n",
       "      <td>...</td>\n",
       "      <td>...</td>\n",
       "      <td>...</td>\n",
       "      <td>...</td>\n",
       "      <td>...</td>\n",
       "      <td>...</td>\n",
       "      <td>...</td>\n",
       "      <td>...</td>\n",
       "      <td>...</td>\n",
       "      <td>...</td>\n",
       "      <td>...</td>\n",
       "      <td>...</td>\n",
       "      <td>...</td>\n",
       "      <td>...</td>\n",
       "      <td>...</td>\n",
       "    </tr>\n",
       "    <tr>\n",
       "      <th>679838</th>\n",
       "      <td>679838</td>\n",
       "      <td>2022-07-27</td>\n",
       "      <td>0.0</td>\n",
       "      <td>0.0</td>\n",
       "      <td>12.117871</td>\n",
       "      <td>7.879696</td>\n",
       "      <td>93.209750</td>\n",
       "      <td>11.345086</td>\n",
       "      <td>Kargil</td>\n",
       "      <td>Ladakh</td>\n",
       "      <td>27</td>\n",
       "      <td>7</td>\n",
       "      <td>2022</td>\n",
       "      <td>Kargil, Ladakh</td>\n",
       "      <td>738363</td>\n",
       "      <td>0.963399</td>\n",
       "    </tr>\n",
       "    <tr>\n",
       "      <th>679839</th>\n",
       "      <td>679839</td>\n",
       "      <td>2022-07-28</td>\n",
       "      <td>0.0</td>\n",
       "      <td>0.0</td>\n",
       "      <td>10.570542</td>\n",
       "      <td>7.236241</td>\n",
       "      <td>93.665764</td>\n",
       "      <td>9.753105</td>\n",
       "      <td>Kargil</td>\n",
       "      <td>Ladakh</td>\n",
       "      <td>28</td>\n",
       "      <td>7</td>\n",
       "      <td>2022</td>\n",
       "      <td>Kargil, Ladakh</td>\n",
       "      <td>738364</td>\n",
       "      <td>0.909804</td>\n",
       "    </tr>\n",
       "    <tr>\n",
       "      <th>679840</th>\n",
       "      <td>679840</td>\n",
       "      <td>2022-07-29</td>\n",
       "      <td>0.0</td>\n",
       "      <td>0.0</td>\n",
       "      <td>10.436489</td>\n",
       "      <td>7.206437</td>\n",
       "      <td>93.525440</td>\n",
       "      <td>9.639368</td>\n",
       "      <td>Kargil</td>\n",
       "      <td>Ladakh</td>\n",
       "      <td>29</td>\n",
       "      <td>7</td>\n",
       "      <td>2022</td>\n",
       "      <td>Kargil, Ladakh</td>\n",
       "      <td>738365</td>\n",
       "      <td>0.905882</td>\n",
       "    </tr>\n",
       "    <tr>\n",
       "      <th>679841</th>\n",
       "      <td>679841</td>\n",
       "      <td>2022-07-30</td>\n",
       "      <td>0.0</td>\n",
       "      <td>0.0</td>\n",
       "      <td>10.946756</td>\n",
       "      <td>5.632615</td>\n",
       "      <td>96.131580</td>\n",
       "      <td>9.877348</td>\n",
       "      <td>Kargil</td>\n",
       "      <td>Ladakh</td>\n",
       "      <td>30</td>\n",
       "      <td>7</td>\n",
       "      <td>2022</td>\n",
       "      <td>Kargil, Ladakh</td>\n",
       "      <td>738366</td>\n",
       "      <td>0.916340</td>\n",
       "    </tr>\n",
       "    <tr>\n",
       "      <th>679842</th>\n",
       "      <td>679842</td>\n",
       "      <td>2022-07-31</td>\n",
       "      <td>0.0</td>\n",
       "      <td>0.0</td>\n",
       "      <td>9.363393</td>\n",
       "      <td>6.186027</td>\n",
       "      <td>98.922290</td>\n",
       "      <td>8.502650</td>\n",
       "      <td>Kargil</td>\n",
       "      <td>Ladakh</td>\n",
       "      <td>31</td>\n",
       "      <td>7</td>\n",
       "      <td>2022</td>\n",
       "      <td>Kargil, Ladakh</td>\n",
       "      <td>738367</td>\n",
       "      <td>0.877124</td>\n",
       "    </tr>\n",
       "  </tbody>\n",
       "</table>\n",
       "<p>562275 rows × 16 columns</p>\n",
       "</div>"
      ],
      "text/plain": [
       "        Unnamed: 0   datetime  number  spatial_ref        t2m       d2m  \\\n",
       "0                0 2018-03-01     0.0          0.0   3.870693 -0.336059   \n",
       "1                1 2018-03-02     0.0          0.0   1.752877  0.277528   \n",
       "2                2 2018-03-03     0.0          0.0   0.715096 -0.762714   \n",
       "3                3 2018-03-04     0.0          0.0   3.509904 -2.625711   \n",
       "4                4 2018-03-05     0.0          0.0   3.881704 -4.325170   \n",
       "...            ...        ...     ...          ...        ...       ...   \n",
       "679838      679838 2022-07-27     0.0          0.0  12.117871  7.879696   \n",
       "679839      679839 2022-07-28     0.0          0.0  10.570542  7.236241   \n",
       "679840      679840 2022-07-29     0.0          0.0  10.436489  7.206437   \n",
       "679841      679841 2022-07-30     0.0          0.0  10.946756  5.632615   \n",
       "679842      679842 2022-07-31     0.0          0.0   9.363393  6.186027   \n",
       "\n",
       "               rh        thi     adm2               adm1  day  month  year  \\\n",
       "0       89.557830   3.358750  Kupwara  Jammu and Kashmir    1      3  2018   \n",
       "1       96.889080   1.572616  Kupwara  Jammu and Kashmir    2      3  2018   \n",
       "2       93.343290   0.615840  Kupwara  Jammu and Kashmir    3      3  2018   \n",
       "3       88.456640   3.029944  Kupwara  Jammu and Kashmir    4      3  2018   \n",
       "4       81.862310   3.324411  Kupwara  Jammu and Kashmir    5      3  2018   \n",
       "...           ...        ...      ...                ...  ...    ...   ...   \n",
       "679838  93.209750  11.345086   Kargil             Ladakh   27      7  2022   \n",
       "679839  93.665764   9.753105   Kargil             Ladakh   28      7  2022   \n",
       "679840  93.525440   9.639368   Kargil             Ladakh   29      7  2022   \n",
       "679841  96.131580   9.877348   Kargil             Ladakh   30      7  2022   \n",
       "679842  98.922290   8.502650   Kargil             Ladakh   31      7  2022   \n",
       "\n",
       "                          location  datetime_ord       pct  \n",
       "0       Kupwara, Jammu and Kashmir        736754  0.092810  \n",
       "1       Kupwara, Jammu and Kashmir        736755  0.039216  \n",
       "2       Kupwara, Jammu and Kashmir        736756  0.023529  \n",
       "3       Kupwara, Jammu and Kashmir        736757  0.074510  \n",
       "4       Kupwara, Jammu and Kashmir        736758  0.090196  \n",
       "...                            ...           ...       ...  \n",
       "679838              Kargil, Ladakh        738363  0.963399  \n",
       "679839              Kargil, Ladakh        738364  0.909804  \n",
       "679840              Kargil, Ladakh        738365  0.905882  \n",
       "679841              Kargil, Ladakh        738366  0.916340  \n",
       "679842              Kargil, Ladakh        738367  0.877124  \n",
       "\n",
       "[562275 rows x 16 columns]"
      ]
     },
     "execution_count": 12,
     "metadata": {},
     "output_type": "execute_result"
    }
   ],
   "source": [
    "full_df"
   ]
  },
  {
   "cell_type": "code",
   "execution_count": 14,
   "id": "9ecb0aab-c267-4846-9128-0aa94cea2968",
   "metadata": {
    "tags": []
   },
   "outputs": [],
   "source": [
    "#create dictionary containing each county's heatwave periods\n",
    "heatwave_dic = {}\n",
    "for adm2 in full_df['location'].unique():\n",
    "    adm2_df = full_df[(full_df['location'] == adm2)]\n",
    "    adm2_df.reset_index(inplace=True)\n",
    "    adm2_df = adm2_df.sort_values(by='datetime')\n",
    "    adm2_df.drop_duplicates(['adm2', 'datetime'], inplace=True)\n",
    "    heatwave_dic[adm2] = detect(adm2_df['datetime_ord'].values, adm2_df['thi'].values, pctile=90, minDuration=2)\n",
    "\n",
    "    \n",
    "heatwave_dates = {}\n",
    "consec_dates = {}\n",
    "heatwave_IDs = {}\n",
    "for adm2 in heatwave_dic.keys(): \n",
    "    consec_dates[adm2] = {}\n",
    "    heatwave_dates[adm2] = []\n",
    "    heatwave_IDs[adm2] = {}\n",
    "\n",
    "\n",
    "    heatwave_starts = heatwave_dic[adm2]['date_start']\n",
    "    heatwave_ends = heatwave_dic[adm2]['date_end']\n",
    "    for i in range(len(heatwave_starts)):\n",
    "        heatwave_code = str(uuid4())\n",
    "        heatwave_days = pd.date_range(heatwave_starts[i],heatwave_ends[i],freq='d')\n",
    "        length_heatwaves = len(heatwave_days)\n",
    "        consec_dates[adm2][heatwave_days[0]] = length_heatwaves\n",
    "        for item in heatwave_days:\n",
    "            heatwave_dates[adm2].append(item)\n",
    "            heatwave_IDs[adm2][item] = heatwave_code\n",
    "            \n",
    "            \n",
    "heat_df = pd.DataFrame.from_dict(heatwave_dates, orient='index').unstack().reset_index()\n",
    "heat_df.rename(columns={'level_1':'location', 0:'datetime'}, inplace=True)\n",
    "\n",
    "\n",
    "heat_df.dropna(inplace=True)\n",
    "heat_df['heatwave']=1"
   ]
  },
  {
   "cell_type": "code",
   "execution_count": 15,
   "id": "fccab422-2292-4e99-a38a-af679717163a",
   "metadata": {
    "tags": []
   },
   "outputs": [],
   "source": [
    "full_df = full_df.merge(heat_df, on=['location', 'datetime'], how='left')\n",
    "\n",
    "full_df['heatwave'] = full_df['heatwave'].replace(np.nan, 0)"
   ]
  },
  {
   "cell_type": "code",
   "execution_count": 16,
   "id": "946015c1-dffb-4017-8acf-6e1b6180262d",
   "metadata": {},
   "outputs": [
    {
     "data": {
      "text/plain": [
       "0.9006535947712418"
      ]
     },
     "execution_count": 16,
     "metadata": {},
     "output_type": "execute_result"
    }
   ],
   "source": [
    "full_df[full_df['heatwave'] == 1]['pct'].min()"
   ]
  },
  {
   "cell_type": "code",
   "execution_count": 17,
   "id": "f5a676ee-19a4-492a-bd7d-8ea283917dd6",
   "metadata": {},
   "outputs": [],
   "source": [
    "full_df['pct'] = full_df.groupby('location')['thi'].transform(lambda x: x.rank(pct=True))"
   ]
  },
  {
   "cell_type": "code",
   "execution_count": 18,
   "id": "817cfbdb-790e-4db7-9f50-1dfe341c2059",
   "metadata": {},
   "outputs": [
    {
     "data": {
      "text/plain": [
       "733"
      ]
     },
     "execution_count": 18,
     "metadata": {},
     "output_type": "execute_result"
    }
   ],
   "source": [
    "len(full_df[full_df['heatwave'] == 1]['location'].unique())"
   ]
  },
  {
   "cell_type": "code",
   "execution_count": 19,
   "id": "444876ab-98f6-4b26-9009-3441d48bdebd",
   "metadata": {},
   "outputs": [],
   "source": [
    "codes = pd.DataFrame.from_dict(heatwave_IDs, orient='index').unstack().reset_index()"
   ]
  },
  {
   "cell_type": "code",
   "execution_count": 20,
   "id": "679caea1-0634-46e1-b6db-03f58d71050e",
   "metadata": {},
   "outputs": [],
   "source": [
    "codes.columns=['datetime', 'location', 'heat_ID']"
   ]
  },
  {
   "cell_type": "code",
   "execution_count": 21,
   "id": "a5890eba-e1b4-4fac-a183-cb81bd04e392",
   "metadata": {},
   "outputs": [],
   "source": [
    "codes.dropna(inplace=True)"
   ]
  },
  {
   "cell_type": "code",
   "execution_count": 22,
   "id": "863f1e08-44d1-46fe-ada4-b274150a6e75",
   "metadata": {},
   "outputs": [
    {
     "data": {
      "text/html": [
       "<div>\n",
       "<style scoped>\n",
       "    .dataframe tbody tr th:only-of-type {\n",
       "        vertical-align: middle;\n",
       "    }\n",
       "\n",
       "    .dataframe tbody tr th {\n",
       "        vertical-align: top;\n",
       "    }\n",
       "\n",
       "    .dataframe thead th {\n",
       "        text-align: right;\n",
       "    }\n",
       "</style>\n",
       "<table border=\"1\" class=\"dataframe\">\n",
       "  <thead>\n",
       "    <tr style=\"text-align: right;\">\n",
       "      <th></th>\n",
       "      <th>datetime</th>\n",
       "      <th>location</th>\n",
       "      <th>heat_ID</th>\n",
       "    </tr>\n",
       "  </thead>\n",
       "  <tbody>\n",
       "    <tr>\n",
       "      <th>0</th>\n",
       "      <td>2018-06-02</td>\n",
       "      <td>Kupwara, Jammu and Kashmir</td>\n",
       "      <td>62b699af-22b3-4f3f-8920-93b8d840e528</td>\n",
       "    </tr>\n",
       "    <tr>\n",
       "      <th>1</th>\n",
       "      <td>2018-06-02</td>\n",
       "      <td>Baramula, Jammu and Kashmir</td>\n",
       "      <td>345380ce-0cdb-49cd-ac2c-d8ee30444abe</td>\n",
       "    </tr>\n",
       "    <tr>\n",
       "      <th>2</th>\n",
       "      <td>2018-06-02</td>\n",
       "      <td>Srinagar, Jammu and Kashmir</td>\n",
       "      <td>2ea836d9-f6d9-4de5-87d6-941528340ec4</td>\n",
       "    </tr>\n",
       "    <tr>\n",
       "      <th>3</th>\n",
       "      <td>2018-06-02</td>\n",
       "      <td>Pulwama, Jammu and Kashmir</td>\n",
       "      <td>970d4690-f024-420e-b112-c0147d3ae4df</td>\n",
       "    </tr>\n",
       "    <tr>\n",
       "      <th>4</th>\n",
       "      <td>2018-06-02</td>\n",
       "      <td>Punch, Jammu and Kashmir</td>\n",
       "      <td>b0815468-6270-46ec-885b-35df70887f0d</td>\n",
       "    </tr>\n",
       "    <tr>\n",
       "      <th>...</th>\n",
       "      <td>...</td>\n",
       "      <td>...</td>\n",
       "      <td>...</td>\n",
       "    </tr>\n",
       "    <tr>\n",
       "      <th>421285</th>\n",
       "      <td>2018-04-13</td>\n",
       "      <td>Nicobars, Andaman and Nicobar Islands</td>\n",
       "      <td>33ef4efa-6a4f-425b-8559-7e05a994608f</td>\n",
       "    </tr>\n",
       "    <tr>\n",
       "      <th>422018</th>\n",
       "      <td>2020-03-14</td>\n",
       "      <td>Nicobars, Andaman and Nicobar Islands</td>\n",
       "      <td>516dcb06-f67c-43f7-a5ad-afa72e8d88cd</td>\n",
       "    </tr>\n",
       "    <tr>\n",
       "      <th>422751</th>\n",
       "      <td>2020-03-15</td>\n",
       "      <td>Nicobars, Andaman and Nicobar Islands</td>\n",
       "      <td>516dcb06-f67c-43f7-a5ad-afa72e8d88cd</td>\n",
       "    </tr>\n",
       "    <tr>\n",
       "      <th>423484</th>\n",
       "      <td>2020-04-10</td>\n",
       "      <td>Nicobars, Andaman and Nicobar Islands</td>\n",
       "      <td>1fd793eb-a347-43a1-aaf1-ca12b6a0a589</td>\n",
       "    </tr>\n",
       "    <tr>\n",
       "      <th>424217</th>\n",
       "      <td>2020-04-11</td>\n",
       "      <td>Nicobars, Andaman and Nicobar Islands</td>\n",
       "      <td>1fd793eb-a347-43a1-aaf1-ca12b6a0a589</td>\n",
       "    </tr>\n",
       "  </tbody>\n",
       "</table>\n",
       "<p>47631 rows × 3 columns</p>\n",
       "</div>"
      ],
      "text/plain": [
       "         datetime                               location  \\\n",
       "0      2018-06-02             Kupwara, Jammu and Kashmir   \n",
       "1      2018-06-02            Baramula, Jammu and Kashmir   \n",
       "2      2018-06-02            Srinagar, Jammu and Kashmir   \n",
       "3      2018-06-02             Pulwama, Jammu and Kashmir   \n",
       "4      2018-06-02               Punch, Jammu and Kashmir   \n",
       "...           ...                                    ...   \n",
       "421285 2018-04-13  Nicobars, Andaman and Nicobar Islands   \n",
       "422018 2020-03-14  Nicobars, Andaman and Nicobar Islands   \n",
       "422751 2020-03-15  Nicobars, Andaman and Nicobar Islands   \n",
       "423484 2020-04-10  Nicobars, Andaman and Nicobar Islands   \n",
       "424217 2020-04-11  Nicobars, Andaman and Nicobar Islands   \n",
       "\n",
       "                                     heat_ID  \n",
       "0       62b699af-22b3-4f3f-8920-93b8d840e528  \n",
       "1       345380ce-0cdb-49cd-ac2c-d8ee30444abe  \n",
       "2       2ea836d9-f6d9-4de5-87d6-941528340ec4  \n",
       "3       970d4690-f024-420e-b112-c0147d3ae4df  \n",
       "4       b0815468-6270-46ec-885b-35df70887f0d  \n",
       "...                                      ...  \n",
       "421285  33ef4efa-6a4f-425b-8559-7e05a994608f  \n",
       "422018  516dcb06-f67c-43f7-a5ad-afa72e8d88cd  \n",
       "422751  516dcb06-f67c-43f7-a5ad-afa72e8d88cd  \n",
       "423484  1fd793eb-a347-43a1-aaf1-ca12b6a0a589  \n",
       "424217  1fd793eb-a347-43a1-aaf1-ca12b6a0a589  \n",
       "\n",
       "[47631 rows x 3 columns]"
      ]
     },
     "execution_count": 22,
     "metadata": {},
     "output_type": "execute_result"
    }
   ],
   "source": [
    "codes"
   ]
  },
  {
   "cell_type": "code",
   "execution_count": 23,
   "id": "eca2b207-628c-4f16-864c-2bc35566729c",
   "metadata": {},
   "outputs": [],
   "source": [
    "consec = pd.DataFrame.from_dict(consec_dates, orient='index').unstack().reset_index()"
   ]
  },
  {
   "cell_type": "code",
   "execution_count": 24,
   "id": "12804e97-f8a4-4f33-a2f7-f89153286b08",
   "metadata": {},
   "outputs": [],
   "source": [
    "consec.columns= ['datetime', 'location', 'Heat Wave Duration']"
   ]
  },
  {
   "cell_type": "code",
   "execution_count": 25,
   "id": "e203bf61-4635-41ff-9a38-bff5d41ee72d",
   "metadata": {},
   "outputs": [
    {
     "data": {
      "text/plain": [
       "32.0"
      ]
     },
     "execution_count": 25,
     "metadata": {},
     "output_type": "execute_result"
    }
   ],
   "source": [
    "consec['Heat Wave Duration'].max()"
   ]
  },
  {
   "cell_type": "code",
   "execution_count": 26,
   "id": "de12556f-58ce-413d-a0a3-27a4b1c000c2",
   "metadata": {},
   "outputs": [],
   "source": [
    "consec.dropna(inplace=True)"
   ]
  },
  {
   "cell_type": "code",
   "execution_count": 27,
   "id": "43ba00d0-940d-47f2-b34e-46ff489df46c",
   "metadata": {},
   "outputs": [],
   "source": [
    "full_df = full_df.merge(codes, on=['datetime', 'location'])"
   ]
  },
  {
   "cell_type": "code",
   "execution_count": 28,
   "id": "21d8af85-00fd-4cdf-8846-2259b34ed439",
   "metadata": {},
   "outputs": [],
   "source": [
    "full_df = full_df.merge(consec, on=['datetime', 'location'], how='left')"
   ]
  },
  {
   "cell_type": "code",
   "execution_count": 29,
   "id": "0ae7fc84-c060-4a19-8210-aa9d5e859f1c",
   "metadata": {},
   "outputs": [
    {
     "data": {
      "text/plain": [
       "a1443934-cb05-446b-8221-3cf640b79ede    32\n",
       "7fe8cca3-dda3-4007-8d9f-c0de96229dfb    29\n",
       "eb41d547-7fb2-4578-9457-c85972999340    28\n",
       "b3a06b53-c000-4c86-9fbe-28a1c84c0107    28\n",
       "d8349f25-e2f4-4ee3-825f-add504969010    27\n",
       "                                        ..\n",
       "7b5cbd4e-278c-48a3-bea0-ee66b77482cb     2\n",
       "2d7f1170-6436-4338-b705-8316ea27616b     2\n",
       "47e82bc1-e423-4c9d-9446-43ef1ad39d42     2\n",
       "0736e1a5-2068-449a-904c-d764534a60c1     2\n",
       "2c1173a7-b4b6-4130-9f19-d44dfddc1a67     2\n",
       "Name: heat_ID, Length: 11459, dtype: int64"
      ]
     },
     "execution_count": 29,
     "metadata": {},
     "output_type": "execute_result"
    }
   ],
   "source": [
    "full_df['heat_ID'].value_counts()"
   ]
  },
  {
   "cell_type": "code",
   "execution_count": 30,
   "id": "ca527903-87d5-45cd-967c-0967a58691dd",
   "metadata": {},
   "outputs": [],
   "source": [
    "full_2022 = full_df[full_df['year'] == 2022]"
   ]
  },
  {
   "cell_type": "code",
   "execution_count": 31,
   "id": "61efa216-c090-490e-9d73-7cc5f07c3f8f",
   "metadata": {},
   "outputs": [
    {
     "data": {
      "text/plain": [
       "715"
      ]
     },
     "execution_count": 31,
     "metadata": {},
     "output_type": "execute_result"
    }
   ],
   "source": [
    "len(full_2022['adm2'].unique())"
   ]
  },
  {
   "cell_type": "code",
   "execution_count": 32,
   "id": "16430d92-7d4a-4b20-bf28-7a9b9b154dc8",
   "metadata": {},
   "outputs": [],
   "source": [
    "gdf = gpd.read_file('/Users/shivyucel/Documents/projects/DPhil/Code_Data/data/adm0_shp/india/clean_shp.shp')"
   ]
  },
  {
   "cell_type": "code",
   "execution_count": 33,
   "id": "291e6ade-88fa-4bfb-9f3e-287cf42b39c7",
   "metadata": {},
   "outputs": [
    {
     "data": {
      "text/plain": [
       "735"
      ]
     },
     "execution_count": 33,
     "metadata": {},
     "output_type": "execute_result"
    }
   ],
   "source": [
    "len(gdf['location'].unique())"
   ]
  },
  {
   "cell_type": "code",
   "execution_count": 34,
   "id": "ebd36a2e-ce81-45fd-b953-875ed5a9cdd7",
   "metadata": {},
   "outputs": [],
   "source": [
    "for_plot = gdf.merge(full_df.groupby(['adm2', 'adm1'])['thi'].mean().reset_index(), left_on=['adm2', 'adm1'], right_on=['adm2', 'adm1'])"
   ]
  },
  {
   "cell_type": "code",
   "execution_count": 36,
   "id": "bc4c4ed7-e6fa-4def-8ad5-55a2b6536c15",
   "metadata": {},
   "outputs": [
    {
     "data": {
      "text/plain": [
       "<Axes: >"
      ]
     },
     "execution_count": 36,
     "metadata": {},
     "output_type": "execute_result"
    },
    {
     "data": {
      "image/png": "[encoded data removed]",
      "text/plain": [
       "<Figure size 640x480 with 2 Axes>"
      ]
     },
     "metadata": {},
     "output_type": "display_data"
    }
   ],
   "source": [
    "for_plot.plot(column='thi', legend=True, cmap='viridis', linewidth=0.1)\n"
   ]
  },
  {
   "cell_type": "code",
   "execution_count": 37,
   "id": "b5c19edf-79ee-4c4c-a5fd-3ae3c0c8cbae",
   "metadata": {},
   "outputs": [],
   "source": [
    "#changed from v2\n",
    "full_2022.to_csv(f'/Users/shivyucel/Documents/projects/DPhil/Code_Data/data/heatwave/india/THI_india_90_2022.csv')\n",
    "full_df.to_csv(f'/Users/shivyucel/Documents/projects/DPhil/Code_Data/data/heatwave/india/THI_india_90_2018_2022.csv')"
   ]
  },
  {
   "cell_type": "code",
   "execution_count": 67,
   "id": "1a7cb573-ba56-444a-a6bf-25c8d79d03c8",
   "metadata": {},
   "outputs": [
    {
     "data": {
      "text/plain": [
       "array([1.])"
      ]
     },
     "execution_count": 67,
     "metadata": {},
     "output_type": "execute_result"
    }
   ],
   "source": [
    "full_2022['heatwave'].unique()"
   ]
  },
  {
   "cell_type": "code",
   "execution_count": null,
   "id": "56bb102d-fdf3-49b4-90d9-18769f3ea437",
   "metadata": {},
   "outputs": [],
   "source": []
  }
 ],
 "metadata": {
  "kernelspec": {
   "display_name": "ox",
   "language": "python",
   "name": "python3"
  },
  "language_info": {
   "codemirror_mode": {
    "name": "ipython",
    "version": 3
   },
   "file_extension": ".py",
   "mimetype": "text/x-python",
   "name": "python",
   "nbconvert_exporter": "python",
   "pygments_lexer": "ipython3",
   "version": "3.11.0"
  }
 },
 "nbformat": 4,
 "nbformat_minor": 5
}

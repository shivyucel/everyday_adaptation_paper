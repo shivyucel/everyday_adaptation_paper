{
 "cells": [
  {
   "cell_type": "code",
   "execution_count": 1,
   "id": "2c1a94ee-83c7-4369-bae9-50263967141c",
   "metadata": {},
   "outputs": [],
   "source": [
    "import pandas as pd\n",
    "from datetime import timedelta, date\n",
    "import geopandas as gpd\n",
    "from uuid import uuid4"
   ]
  },
  {
   "cell_type": "markdown",
   "id": "95b202f2-e23d-4d08-bbfd-f93bb856f630",
   "metadata": {},
   "source": [
    "Things to think about:\n",
    "* what if control day not in temperature data set? (solution is to add more temperature data)\n",
    "* what if control day is actually a heat wave?\n",
    "* what if control day is close to a heat wave?"
   ]
  },
  {
   "cell_type": "code",
   "execution_count": 2,
   "id": "5385c890-62af-4cea-baa8-717ea2bd84ce",
   "metadata": {},
   "outputs": [],
   "source": [
    "\n",
    "from datetime import datetime, timedelta\n",
    "import pandas as pd\n",
    "from shapely.geometry import Point\n",
    "import geopandas as gpd\n",
    "#import contextily as ctx\n",
    "import matplotlib.pyplot as plt\n",
    "datelist = pd.date_range(datetime.today(), periods=100).tolist()\n",
    "from time import sleep\n",
    "import dask.dataframe as dd\n",
    "from dateutil.parser import parse\n",
    "from dateutil.relativedelta import relativedelta\n",
    "import os\n",
    "import glob\n",
    "\n",
    "from shapely.geometry import Polygon, MultiPolygon, LineString, GeometryCollection\n",
    "\n",
    "import numpy as np\n",
    "import pandas as pd\n",
    "import matplotlib.pyplot as plt\n",
    "import seaborn as sns\n",
    "from datetime import datetime, timedelta\n",
    "import geopandas as gpd\n",
    "\n"
   ]
  },
  {
   "cell_type": "markdown",
   "id": "63b3bbfb-6124-42b7-b5c8-78a3ce461825",
   "metadata": {
    "tags": []
   },
   "source": [
    "## Load heatwaves and get initial control dates"
   ]
  },
  {
   "cell_type": "code",
   "execution_count": 3,
   "id": "30619a54-717c-4da9-aa3c-9c067582dc09",
   "metadata": {},
   "outputs": [],
   "source": [
    "#heatwaves = pd.read_csv(f'/Users/shivyucel/Documents/projects/DPhil/Code_Data/data/heatwave/heatwaves_90.csv')\n",
    "heatwaves = pd.read_csv('/Users/shivyucel/Documents/projects/DPhil/Code_Data/data/heatwave/united_states/THI_united_states_90_2022.csv')"
   ]
  },
  {
   "cell_type": "code",
   "execution_count": 4,
   "id": "802e4b57-e8ce-49a3-bcd6-98ab6e63876d",
   "metadata": {},
   "outputs": [
    {
     "data": {
      "text/plain": [
       "array([6, 7, 8, 9, 5])"
      ]
     },
     "execution_count": 4,
     "metadata": {},
     "output_type": "execute_result"
    }
   ],
   "source": [
    "heatwaves['month'].unique()"
   ]
  },
  {
   "cell_type": "code",
   "execution_count": 5,
   "id": "b4f770ff-4eea-47e1-8329-d4cad8007ee3",
   "metadata": {},
   "outputs": [],
   "source": [
    "heatwaves['datetime'] = pd.to_datetime(heatwaves['datetime'])"
   ]
  },
  {
   "cell_type": "code",
   "execution_count": 6,
   "id": "459412ba-39ec-409e-a06a-9e5297acc518",
   "metadata": {},
   "outputs": [],
   "source": [
    "heatwaves['control_day'] = heatwaves['datetime'] - timedelta(days=7)\n"
   ]
  },
  {
   "cell_type": "code",
   "execution_count": 7,
   "id": "bf6dddaa-a124-42d4-99e1-6c41cc31d9a4",
   "metadata": {},
   "outputs": [],
   "source": [
    "heatwaves['day_of_week'] = [x.weekday() for x in heatwaves['datetime']]"
   ]
  },
  {
   "cell_type": "code",
   "execution_count": 8,
   "id": "774e5def-88fd-4af1-ba86-05e840ad5686",
   "metadata": {},
   "outputs": [],
   "source": [
    "heatwaves_active = heatwaves[heatwaves['heatwave'] == 1]\n",
    "heat_days = heatwaves_active.groupby('location')['datetime'].unique().reset_index().set_index('location')"
   ]
  },
  {
   "cell_type": "code",
   "execution_count": 9,
   "id": "39426b66-9756-4d5a-a2e5-e5c5f695af84",
   "metadata": {},
   "outputs": [],
   "source": [
    "heat_days = heat_days.to_dict()['datetime']"
   ]
  },
  {
   "cell_type": "code",
   "execution_count": 10,
   "id": "e6662e9b-be74-43d0-a904-3436a3d623ef",
   "metadata": {},
   "outputs": [],
   "source": [
    "heatwaves_active.reset_index(inplace=True)"
   ]
  },
  {
   "cell_type": "code",
   "execution_count": 11,
   "id": "ec1b05fa-9250-4da7-86f9-03a58d7c15fb",
   "metadata": {},
   "outputs": [],
   "source": [
    "full_df = pd.read_csv('/Users/shivyucel/Documents/projects/DPhil/Code_Data/data/THI/united_states/daily_max_THI.csv')\n",
    "\n",
    "full_df.rename(columns={'time': 'datetime'}, inplace=True)\n",
    "full_df['datetime'] = pd.to_datetime(full_df['datetime'])\n",
    "full_df['day'] = pd.DatetimeIndex(full_df['datetime']).day\n",
    "full_df['month'] = pd.DatetimeIndex(full_df['datetime']).month\n",
    "full_df['year'] = pd.DatetimeIndex(full_df['datetime']).year\n",
    "full_df = full_df[~full_df['month'].isin([4, 10])]\n",
    "full_df['location'] = full_df['adm2'] + ', ' + full_df['adm1']\n",
    "full_df['datetime_ord'] = [date(x,y,z).toordinal() for x,y,z in zip(full_df['year'], full_df['month'], full_df['day'])]\n"
   ]
  },
  {
   "cell_type": "code",
   "execution_count": 12,
   "id": "8b852b5a-3885-4ab5-94ef-32378fc6311d",
   "metadata": {},
   "outputs": [],
   "source": [
    "full_df['temp_pct'] = full_df.groupby('location')['thi'].rank(pct=True)"
   ]
  },
  {
   "cell_type": "code",
   "execution_count": 13,
   "id": "9382135f-ce38-414b-b542-b2a025a8c4dd",
   "metadata": {},
   "outputs": [],
   "source": [
    "heatwaves_active['num_iters'] = 'test'"
   ]
  },
  {
   "cell_type": "code",
   "execution_count": null,
   "id": "d8760837-d2c0-4327-a7d3-07d2ba24163b",
   "metadata": {
    "collapsed": true,
    "jupyter": {
     "outputs_hidden": true
    },
    "tags": []
   },
   "outputs": [],
   "source": [
    "# Updated control day search algorithm with less index searching -- faster for large datasets\n",
    "\n",
    "for index, row in heatwaves_active.iterrows():\n",
    "    subset = full_df[full_df['location'] == row['location']]\n",
    "    control_day = heatwaves_active.iloc[index, -3]\n",
    "    i = 0\n",
    "    try:\n",
    "        while ((subset[subset['datetime'] == control_day]['temp_pct'].values[0]>= 0.8) | \n",
    "               (subset[(subset['datetime'] == control_day)]['temp_pct'].values[0]<= 0.2)):\n",
    "\n",
    "\n",
    "            heatwaves_active.iloc[index, -3] = heatwaves_active.iloc[index, -3] - timedelta(days=7)\n",
    "            control_day = heatwaves_active.iloc[index, -3]\n",
    "\n",
    "    except:\n",
    "        heatwaves_active.iloc[index, -3] = heatwaves_active.iloc[index, -3] + timedelta(days=7)\n",
    "        control_day = heatwaves_active.iloc[index, -3]\n",
    "\n",
    "        while ((subset[subset['datetime'] == control_day]['temp_pct'].values[0]>= 0.8) | \n",
    "               (subset[(subset['datetime'] == control_day)]['temp_pct'].values[0]<= 0.2)):\n",
    "        \n",
    "            heatwaves_active.iloc[index, -3] = heatwaves_active.iloc[index, -3] + timedelta(days=7)\n",
    "            control_day = heatwaves_active.iloc[index, -3]\n",
    "            \n",
    "    print(index / len(heatwaves_active))\n",
    "            \n"
   ]
  },
  {
   "cell_type": "code",
   "execution_count": 17,
   "id": "0e72a580-73a3-4e69-9904-bcce44613de8",
   "metadata": {},
   "outputs": [],
   "source": [
    "#export.to_csv('/Users/shivyucel/Documents/projects/DPhil/Code_Data/data/heatwave_control/heatwave_control_90_v2.csv')\n",
    "heatwaves_active.to_csv('/Users/shivyucel/Documents/projects/DPhil/Code_Data/data/paper2/united_states/THI_heatwave_control_90.csv')"
   ]
  },
  {
   "cell_type": "code",
   "execution_count": 35,
   "id": "73fe2c66-260c-4831-90b0-342c0b18b90c",
   "metadata": {},
   "outputs": [],
   "source": [
    "df = pd.read_csv('/Users/shivyucel/Documents/projects/DPhil/Code_Data/data/paper2/united_states/heatwave_control_90.csv')"
   ]
  },
  {
   "cell_type": "code",
   "execution_count": null,
   "id": "030811fc-2a1a-49cc-88b2-a6aebb80baca",
   "metadata": {},
   "outputs": [],
   "source": []
  }
 ],
 "metadata": {
  "kernelspec": {
   "display_name": "ox",
   "language": "python",
   "name": "python3"
  },
  "language_info": {
   "codemirror_mode": {
    "name": "ipython",
    "version": 3
   },
   "file_extension": ".py",
   "mimetype": "text/x-python",
   "name": "python",
   "nbconvert_exporter": "python",
   "pygments_lexer": "ipython3",
   "version": "3.11.0"
  }
 },
 "nbformat": 4,
 "nbformat_minor": 5
}

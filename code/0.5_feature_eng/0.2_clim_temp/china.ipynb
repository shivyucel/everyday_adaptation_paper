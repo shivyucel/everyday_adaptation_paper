{
 "cells": [
  {
   "cell_type": "code",
   "execution_count": 139,
   "id": "ced07c01",
   "metadata": {
    "ExecuteTime": {
     "end_time": "2024-07-02T06:23:04.837702Z",
     "start_time": "2024-07-02T06:23:02.428156Z"
    }
   },
   "outputs": [
    {
     "name": "stderr",
     "output_type": "stream",
     "text": [
      "/var/folders/w3/nxkwqd7x4rjb765dvpmhnksc0000gn/T/ipykernel_8509/1418890169.py:8: DeprecationWarning: Please import `pearsonr` from the `scipy.stats` namespace; the `scipy.stats.stats` namespace is deprecated and will be removed in SciPy 2.0.0.\n",
      "  from scipy.stats.stats import pearsonr\n"
     ]
    }
   ],
   "source": [
    "import pandas as pd\n",
    "import geopandas as gpd\n",
    "import matplotlib.pyplot as plt\n",
    "import seaborn as sns\n",
    "sns.set_style('darkgrid')\n",
    "from scipy.stats import ttest_ind\n",
    "import numpy as np\n",
    "from scipy.stats.stats import pearsonr\n",
    "from IPython.display import display, Markdown, Latex\n",
    "plt.style.use('ggplot')\n",
    "from datetime import date\n",
    "from statsmodels.stats.outliers_influence import variance_inflation_factor\n",
    "#data_path = '/Users/shivyucel/Documents/projects/DPhil/Code_Data/data/'\n",
    "import dask.dataframe as dd\n",
    "from scipy.stats import norm\n",
    "#from seaborn_qqplot import pplot\n",
    "import statsmodels.api as sm\n",
    "\n",
    "import statsmodels.formula.api as smf\n",
    "from sklearn.cluster import KMeans\n",
    "import numpy as np\n",
    "\n",
    "import pandas\n",
    "\n"
   ]
  },
  {
   "cell_type": "code",
   "execution_count": 141,
   "id": "9ae4b630-6a54-46ce-b8a9-906c578c1367",
   "metadata": {},
   "outputs": [],
   "source": [
    "pd.set_option('display.max_columns', None)"
   ]
  },
  {
   "cell_type": "code",
   "execution_count": 143,
   "id": "c4f83ab9",
   "metadata": {
    "ExecuteTime": {
     "end_time": "2024-07-02T06:23:04.878837Z",
     "start_time": "2024-07-02T06:23:04.849525Z"
    }
   },
   "outputs": [],
   "source": [
    "#load mobility and temperature data\n",
    "#load heatwave - control dataframe\n",
    "mobility_heat = pd.read_csv('THI_mobility_heat_clean_90.csv')\n",
    "heatwave_control = pd.read_csv('THI_heatwave_control_90.csv')"
   ]
  },
  {
   "cell_type": "code",
   "execution_count": 145,
   "id": "21d0bf2c",
   "metadata": {
    "ExecuteTime": {
     "end_time": "2024-07-02T06:23:04.936340Z",
     "start_time": "2024-07-02T06:23:04.929984Z"
    }
   },
   "outputs": [],
   "source": [
    "mobility_heat['control_day'] = pd.to_datetime(mobility_heat['control_day'])\n",
    "mobility_heat['datetime'] = pd.to_datetime(mobility_heat['datetime'])"
   ]
  },
  {
   "cell_type": "markdown",
   "id": "7e67b9d7",
   "metadata": {},
   "source": [
    "## Build Intensity Variable\n"
   ]
  },
  {
   "cell_type": "code",
   "execution_count": 150,
   "id": "dde5844d",
   "metadata": {
    "ExecuteTime": {
     "end_time": "2024-07-02T06:23:05.746573Z",
     "start_time": "2024-07-02T06:23:04.989465Z"
    }
   },
   "outputs": [],
   "source": [
    "full_df = pd.read_csv('daily_max_THI.csv')\n",
    "\n",
    "full_df.rename(columns={'time': 'datetime'}, inplace=True)\n",
    "full_df['datetime'] = pd.to_datetime(full_df['datetime'])\n",
    "full_df['day'] = pd.DatetimeIndex(full_df['datetime']).day\n",
    "full_df['month'] = pd.DatetimeIndex(full_df['datetime']).month\n",
    "full_df['year'] = pd.DatetimeIndex(full_df['datetime']).year\n",
    "full_df = full_df[~full_df['month'].isin([4, 10])]\n",
    "full_df['location'] = full_df['adm2'] + ', ' + full_df['adm1']\n",
    "full_df['datetime_ord'] = [date(x,y,z).toordinal() for x,y,z in zip(full_df['year'], full_df['month'], full_df['day'])]"
   ]
  },
  {
   "cell_type": "code",
   "execution_count": 151,
   "id": "3552cd75",
   "metadata": {
    "ExecuteTime": {
     "end_time": "2024-07-02T06:23:05.880350Z",
     "start_time": "2024-07-02T06:23:05.814002Z"
    }
   },
   "outputs": [],
   "source": [
    "#merge temperatures from control day onto mobility heat\n",
    "mobility_heat = mobility_heat.merge(full_df[['datetime', 't2m','thi', 'location']], left_on=['location', 'control_day'], right_on=['location', 'datetime'], suffixes=('_heat', '_control'))"
   ]
  },
  {
   "cell_type": "markdown",
   "id": "86f51a6b",
   "metadata": {},
   "source": [
    "### Create/explore temperature difference variable"
   ]
  },
  {
   "cell_type": "code",
   "execution_count": 159,
   "id": "670805c3",
   "metadata": {
    "ExecuteTime": {
     "end_time": "2024-07-02T06:23:06.160645Z",
     "start_time": "2024-07-02T06:23:06.157447Z"
    }
   },
   "outputs": [],
   "source": [
    "mobility_heat['thi_diff'] = mobility_heat['thi_heat'] - mobility_heat['thi_control']"
   ]
  },
  {
   "cell_type": "code",
   "execution_count": 161,
   "id": "33e60c6f",
   "metadata": {
    "ExecuteTime": {
     "end_time": "2024-07-02T06:23:06.239553Z",
     "start_time": "2024-07-02T06:23:06.233837Z"
    }
   },
   "outputs": [
    {
     "data": {
      "text/plain": [
       "count    4889.000000\n",
       "mean        6.121331\n",
       "std         2.822419\n",
       "min         0.712140\n",
       "25%         3.977285\n",
       "50%         5.667423\n",
       "75%         7.939492\n",
       "max        18.144627\n",
       "Name: thi_diff, dtype: float64"
      ]
     },
     "execution_count": 161,
     "metadata": {},
     "output_type": "execute_result"
    }
   ],
   "source": [
    "mobility_heat['thi_diff'].describe()"
   ]
  },
  {
   "cell_type": "code",
   "execution_count": 163,
   "id": "40afc6a2",
   "metadata": {
    "ExecuteTime": {
     "end_time": "2024-07-02T06:23:06.590094Z",
     "start_time": "2024-07-02T06:23:06.307609Z"
    }
   },
   "outputs": [
    {
     "data": {
      "image/png": "[encoded data removed]",
      "text/plain": [
       "<Figure size 640x480 with 1 Axes>"
      ]
     },
     "metadata": {},
     "output_type": "display_data"
    }
   ],
   "source": [
    "sns.histplot(mobility_heat, x='thi_diff')\n",
    "plt.title(\"THI Difference (heat wave vs. control)\")\n",
    "plt.tight_layout()\n",
    "#plt.savefig(data_path + '/img/12_09_2023/india_temp_diff_dist.png')"
   ]
  },
  {
   "cell_type": "markdown",
   "id": "b48bb348",
   "metadata": {
    "tags": []
   },
   "source": [
    "### Build Duration Variable\n",
    "* Duration of heat wave (in days)\n",
    "* Build variable showing which day of a heatwave it is"
   ]
  },
  {
   "cell_type": "code",
   "execution_count": 168,
   "id": "cfefe7dd",
   "metadata": {
    "ExecuteTime": {
     "end_time": "2024-07-02T06:23:06.727704Z",
     "start_time": "2024-07-02T06:23:06.723382Z"
    }
   },
   "outputs": [],
   "source": [
    "heatwave_control.sort_values(by='Heat Wave Duration', inplace=True)"
   ]
  },
  {
   "cell_type": "code",
   "execution_count": 170,
   "id": "10ea4642",
   "metadata": {
    "ExecuteTime": {
     "end_time": "2024-07-02T06:23:06.796187Z",
     "start_time": "2024-07-02T06:23:06.791281Z"
    }
   },
   "outputs": [],
   "source": [
    "duration_IDs = heatwave_control.drop_duplicates('heat_ID')[['heat_ID', 'Heat Wave Duration']  ]             "
   ]
  },
  {
   "cell_type": "code",
   "execution_count": 172,
   "id": "8ee75543",
   "metadata": {
    "ExecuteTime": {
     "end_time": "2024-07-02T06:23:06.871677Z",
     "start_time": "2024-07-02T06:23:06.869335Z"
    }
   },
   "outputs": [],
   "source": [
    "duration_IDs.columns = ['heat_ID', 'Heat Wave Duration']"
   ]
  },
  {
   "cell_type": "code",
   "execution_count": 174,
   "id": "1adb7144",
   "metadata": {
    "ExecuteTime": {
     "end_time": "2024-07-02T06:23:06.950395Z",
     "start_time": "2024-07-02T06:23:06.943514Z"
    }
   },
   "outputs": [
    {
     "data": {
      "text/html": [
       "<div>\n",
       "<style scoped>\n",
       "    .dataframe tbody tr th:only-of-type {\n",
       "        vertical-align: middle;\n",
       "    }\n",
       "\n",
       "    .dataframe tbody tr th {\n",
       "        vertical-align: top;\n",
       "    }\n",
       "\n",
       "    .dataframe thead th {\n",
       "        text-align: right;\n",
       "    }\n",
       "</style>\n",
       "<table border=\"1\" class=\"dataframe\">\n",
       "  <thead>\n",
       "    <tr style=\"text-align: right;\">\n",
       "      <th></th>\n",
       "      <th>heat_ID</th>\n",
       "      <th>Heat Wave Duration</th>\n",
       "    </tr>\n",
       "  </thead>\n",
       "  <tbody>\n",
       "    <tr>\n",
       "      <th>2816</th>\n",
       "      <td>2cd31104-5228-4032-9215-c2895d4e9721</td>\n",
       "      <td>2.0</td>\n",
       "    </tr>\n",
       "    <tr>\n",
       "      <th>3008</th>\n",
       "      <td>d94b630d-4996-4e26-bd72-bc301296d421</td>\n",
       "      <td>2.0</td>\n",
       "    </tr>\n",
       "    <tr>\n",
       "      <th>3018</th>\n",
       "      <td>908d632c-c700-4e26-897e-6297dfb99a26</td>\n",
       "      <td>2.0</td>\n",
       "    </tr>\n",
       "    <tr>\n",
       "      <th>3020</th>\n",
       "      <td>71b05268-b2bc-40db-99f3-403a85d1ce2d</td>\n",
       "      <td>2.0</td>\n",
       "    </tr>\n",
       "    <tr>\n",
       "      <th>3028</th>\n",
       "      <td>eafbf136-cf07-434a-ac0a-06f84d6710cf</td>\n",
       "      <td>2.0</td>\n",
       "    </tr>\n",
       "  </tbody>\n",
       "</table>\n",
       "</div>"
      ],
      "text/plain": [
       "                                   heat_ID  Heat Wave Duration\n",
       "2816  2cd31104-5228-4032-9215-c2895d4e9721                 2.0\n",
       "3008  d94b630d-4996-4e26-bd72-bc301296d421                 2.0\n",
       "3018  908d632c-c700-4e26-897e-6297dfb99a26                 2.0\n",
       "3020  71b05268-b2bc-40db-99f3-403a85d1ce2d                 2.0\n",
       "3028  eafbf136-cf07-434a-ac0a-06f84d6710cf                 2.0"
      ]
     },
     "execution_count": 174,
     "metadata": {},
     "output_type": "execute_result"
    }
   ],
   "source": [
    "duration_IDs.head()"
   ]
  },
  {
   "cell_type": "code",
   "execution_count": 176,
   "id": "a2fb766f",
   "metadata": {
    "ExecuteTime": {
     "end_time": "2024-07-02T06:23:07.027071Z",
     "start_time": "2024-07-02T06:23:07.021463Z"
    }
   },
   "outputs": [
    {
     "data": {
      "text/plain": [
       "count    1608.000000\n",
       "mean        3.381841\n",
       "std         1.654612\n",
       "min         2.000000\n",
       "25%         2.000000\n",
       "50%         3.000000\n",
       "75%         4.000000\n",
       "max        15.000000\n",
       "Name: Heat Wave Duration, dtype: float64"
      ]
     },
     "execution_count": 176,
     "metadata": {},
     "output_type": "execute_result"
    }
   ],
   "source": [
    "duration_IDs['Heat Wave Duration'].describe()"
   ]
  },
  {
   "cell_type": "code",
   "execution_count": 178,
   "id": "3b6f9d52",
   "metadata": {
    "ExecuteTime": {
     "end_time": "2024-07-02T06:23:07.102394Z",
     "start_time": "2024-07-02T06:23:07.098942Z"
    },
    "tags": []
   },
   "outputs": [],
   "source": [
    "#drop original heatwave duration variable\n",
    "heatwave_control.drop('Heat Wave Duration', axis=1, inplace=True)"
   ]
  },
  {
   "cell_type": "code",
   "execution_count": 180,
   "id": "fe93d4fd",
   "metadata": {
    "ExecuteTime": {
     "end_time": "2024-07-02T06:23:07.181136Z",
     "start_time": "2024-07-02T06:23:07.173252Z"
    }
   },
   "outputs": [],
   "source": [
    "#merge duration ID dataframe onto heatwave control\n",
    "heatwave_control = heatwave_control.merge(duration_IDs, on='heat_ID', how='left')"
   ]
  },
  {
   "cell_type": "code",
   "execution_count": 182,
   "id": "86b64a3d",
   "metadata": {
    "ExecuteTime": {
     "end_time": "2024-07-02T06:23:07.258543Z",
     "start_time": "2024-07-02T06:23:07.252539Z"
    }
   },
   "outputs": [],
   "source": [
    "heatwave_control.drop_duplicates(['location', 'datetime'], inplace=True)"
   ]
  },
  {
   "cell_type": "code",
   "execution_count": 184,
   "id": "216af33c",
   "metadata": {
    "ExecuteTime": {
     "end_time": "2024-07-02T06:23:07.334825Z",
     "start_time": "2024-07-02T06:23:07.331400Z"
    }
   },
   "outputs": [],
   "source": [
    "heatwave_control['dur_ranking'] = heatwave_control['Heat Wave Duration'].rank(pct=True)"
   ]
  },
  {
   "cell_type": "code",
   "execution_count": 186,
   "id": "f5a08c3c",
   "metadata": {
    "ExecuteTime": {
     "end_time": "2024-07-02T06:23:08.188390Z",
     "start_time": "2024-07-02T06:23:07.407469Z"
    }
   },
   "outputs": [
    {
     "name": "stderr",
     "output_type": "stream",
     "text": [
      "/var/folders/w3/nxkwqd7x4rjb765dvpmhnksc0000gn/T/ipykernel_8509/111197883.py:2: DeprecationWarning: DataFrameGroupBy.apply operated on the grouping columns. This behavior is deprecated, and in a future version of pandas the grouping columns will be excluded from the operation. Either pass `include_groups=False` to exclude the groupings or explicitly select the grouping columns after groupby to silence this warning.\n",
      "  heat_stage = heatwave_control.groupby('heat_ID').apply(lambda x: x.datetime.sort_values().rank()).reset_index()\n"
     ]
    }
   ],
   "source": [
    "#groupby each heatwave, sort by date, assign increasing rank for each passing day\n",
    "heat_stage = heatwave_control.groupby('heat_ID').apply(lambda x: x.datetime.sort_values().rank()).reset_index()"
   ]
  },
  {
   "cell_type": "code",
   "execution_count": 187,
   "id": "293f0d76",
   "metadata": {
    "ExecuteTime": {
     "end_time": "2024-07-02T06:23:08.267537Z",
     "start_time": "2024-07-02T06:23:08.265075Z"
    }
   },
   "outputs": [],
   "source": [
    "heat_stage.columns=['heat_ID', 'index', 'stage']"
   ]
  },
  {
   "cell_type": "code",
   "execution_count": 188,
   "id": "13ade06d",
   "metadata": {
    "ExecuteTime": {
     "end_time": "2024-07-02T06:23:08.347024Z",
     "start_time": "2024-07-02T06:23:08.343850Z"
    }
   },
   "outputs": [
    {
     "data": {
      "text/plain": [
       "15.0"
      ]
     },
     "execution_count": 188,
     "metadata": {},
     "output_type": "execute_result"
    }
   ],
   "source": [
    "heat_stage['stage'].max()"
   ]
  },
  {
   "cell_type": "code",
   "execution_count": 192,
   "id": "7ef6dfe9",
   "metadata": {
    "ExecuteTime": {
     "end_time": "2024-07-02T06:23:08.446808Z",
     "start_time": "2024-07-02T06:23:08.441626Z"
    }
   },
   "outputs": [],
   "source": [
    "x = heat_stage.merge(duration_IDs, on='heat_ID')"
   ]
  },
  {
   "cell_type": "code",
   "execution_count": 194,
   "id": "378bb0c1",
   "metadata": {
    "ExecuteTime": {
     "end_time": "2024-07-02T06:23:08.532887Z",
     "start_time": "2024-07-02T06:23:08.529541Z"
    }
   },
   "outputs": [],
   "source": [
    "heatwave_control.drop('index', axis=1, inplace=True)"
   ]
  },
  {
   "cell_type": "code",
   "execution_count": 196,
   "id": "a9b5a110",
   "metadata": {
    "ExecuteTime": {
     "end_time": "2024-07-02T06:23:08.621196Z",
     "start_time": "2024-07-02T06:23:08.618249Z"
    }
   },
   "outputs": [],
   "source": [
    "heatwave_control.reset_index(inplace=True)"
   ]
  },
  {
   "cell_type": "code",
   "execution_count": 198,
   "id": "75adcce7",
   "metadata": {
    "ExecuteTime": {
     "end_time": "2024-07-02T06:23:08.713770Z",
     "start_time": "2024-07-02T06:23:08.705583Z"
    }
   },
   "outputs": [],
   "source": [
    "heatwave_control = heatwave_control.merge(heat_stage, on=['index', 'heat_ID'])"
   ]
  },
  {
   "cell_type": "code",
   "execution_count": 200,
   "id": "adfdb78f",
   "metadata": {
    "ExecuteTime": {
     "end_time": "2024-07-02T06:23:08.800594Z",
     "start_time": "2024-07-02T06:23:08.796396Z"
    }
   },
   "outputs": [],
   "source": [
    "heatwave_control['datetime'] = pd.to_datetime(heatwave_control['datetime'])"
   ]
  },
  {
   "cell_type": "code",
   "execution_count": 202,
   "id": "42782fcb",
   "metadata": {
    "ExecuteTime": {
     "end_time": "2024-07-02T06:23:08.887291Z",
     "start_time": "2024-07-02T06:23:08.883828Z"
    }
   },
   "outputs": [
    {
     "data": {
      "text/plain": [
       "15.0"
      ]
     },
     "execution_count": 202,
     "metadata": {},
     "output_type": "execute_result"
    }
   ],
   "source": [
    "heatwave_control['stage'].max()"
   ]
  },
  {
   "cell_type": "code",
   "execution_count": 204,
   "id": "2cf6e3f6",
   "metadata": {
    "ExecuteTime": {
     "end_time": "2024-07-02T06:23:08.974067Z",
     "start_time": "2024-07-02T06:23:08.969501Z"
    }
   },
   "outputs": [],
   "source": [
    "mobility_heat['date_heat'] = pd.to_datetime(mobility_heat['date_heat'])"
   ]
  },
  {
   "cell_type": "code",
   "execution_count": 206,
   "id": "860705b8",
   "metadata": {
    "ExecuteTime": {
     "end_time": "2024-07-02T06:23:09.069948Z",
     "start_time": "2024-07-02T06:23:09.057481Z"
    }
   },
   "outputs": [],
   "source": [
    "#merge temporal variables into mobility_heat\n",
    "\n",
    "mobility_heat = mobility_heat.merge(heatwave_control[['location', 'datetime', 'Heat Wave Duration', 'dur_ranking', 'stage']], left_on=['location', 'date_heat'], right_on=['location', 'datetime'])"
   ]
  },
  {
   "cell_type": "code",
   "execution_count": 210,
   "id": "d9bc0934",
   "metadata": {
    "ExecuteTime": {
     "end_time": "2024-07-02T06:23:09.159858Z",
     "start_time": "2024-07-02T06:23:09.156636Z"
    }
   },
   "outputs": [],
   "source": [
    "mobility_heat.reset_index(inplace=True)"
   ]
  },
  {
   "cell_type": "code",
   "execution_count": 212,
   "id": "e8de7cad",
   "metadata": {
    "ExecuteTime": {
     "end_time": "2024-07-02T06:23:09.251646Z",
     "start_time": "2024-07-02T06:23:09.245490Z"
    }
   },
   "outputs": [],
   "source": [
    "mobility_heat['month'] = [x.month for x in mobility_heat['datetime']]"
   ]
  },
  {
   "cell_type": "code",
   "execution_count": 214,
   "id": "5c6b724b",
   "metadata": {
    "ExecuteTime": {
     "end_time": "2024-07-02T06:23:09.335921Z",
     "start_time": "2024-07-02T06:23:09.332614Z"
    }
   },
   "outputs": [
    {
     "data": {
      "text/plain": [
       "array([5, 6, 7, 8, 9])"
      ]
     },
     "execution_count": 214,
     "metadata": {},
     "output_type": "execute_result"
    }
   ],
   "source": [
    "mobility_heat['month'].unique()"
   ]
  },
  {
   "cell_type": "code",
   "execution_count": 216,
   "id": "4f89568c-bd67-4c55-bdc2-6a6197f216b8",
   "metadata": {},
   "outputs": [
    {
     "data": {
      "text/plain": [
       "count    1536.000000\n",
       "mean        3.408203\n",
       "std         1.664157\n",
       "min         2.000000\n",
       "25%         2.000000\n",
       "50%         3.000000\n",
       "75%         4.000000\n",
       "max        15.000000\n",
       "Name: Heat Wave Duration, dtype: float64"
      ]
     },
     "execution_count": 216,
     "metadata": {},
     "output_type": "execute_result"
    }
   ],
   "source": [
    "mobility_heat.drop_duplicates('heat_ID')['Heat Wave Duration'].describe()"
   ]
  },
  {
   "cell_type": "markdown",
   "id": "025e80bf",
   "metadata": {},
   "source": [
    "#### Hard-coded early heatwave definition OUTDATED\n"
   ]
  },
  {
   "cell_type": "code",
   "execution_count": 226,
   "id": "48494d2b",
   "metadata": {
    "ExecuteTime": {
     "end_time": "2024-07-02T06:23:09.718278Z",
     "start_time": "2024-07-02T06:23:09.714685Z"
    }
   },
   "outputs": [],
   "source": [
    "# format final variables\n",
    "mobility_heat['stage_frac'] = (mobility_heat['stage'] / mobility_heat['Heat Wave Duration'] )\n",
    "# four or five days?\n",
    "mobility_heat['heatwave_dur'] = mobility_heat['Heat Wave Duration'] >= 4"
   ]
  },
  {
   "cell_type": "code",
   "execution_count": 228,
   "id": "8a4c9611",
   "metadata": {
    "ExecuteTime": {
     "end_time": "2024-07-02T06:23:09.813634Z",
     "start_time": "2024-07-02T06:23:09.805957Z"
    }
   },
   "outputs": [],
   "source": [
    "mobility_heat['month'] = [x.month for x in pd.to_datetime(mobility_heat['date_control'])]"
   ]
  },
  {
   "cell_type": "code",
   "execution_count": 230,
   "id": "5afb6ddc",
   "metadata": {
    "ExecuteTime": {
     "end_time": "2024-07-02T06:23:09.906114Z",
     "start_time": "2024-07-02T06:23:09.901920Z"
    }
   },
   "outputs": [],
   "source": [
    "mobility_heat['date_control'] = pd.to_datetime(mobility_heat['date_control'])"
   ]
  },
  {
   "cell_type": "markdown",
   "id": "ea8d9311",
   "metadata": {},
   "source": [
    "## Merge social and physical variables"
   ]
  },
  {
   "cell_type": "code",
   "execution_count": 233,
   "id": "20803ce6",
   "metadata": {
    "ExecuteTime": {
     "end_time": "2024-07-02T06:23:09.997940Z",
     "start_time": "2024-07-02T06:23:09.991363Z"
    }
   },
   "outputs": [],
   "source": [
    "soc_phys = pd.read_csv('social_and_physical_variables.csv',index_col=0)"
   ]
  },
  {
   "cell_type": "code",
   "execution_count": 235,
   "id": "56c80eab",
   "metadata": {
    "ExecuteTime": {
     "end_time": "2024-07-02T06:23:10.109506Z",
     "start_time": "2024-07-02T06:23:10.099553Z"
    }
   },
   "outputs": [],
   "source": [
    "mobility_heat= mobility_heat.merge(soc_phys[['location', 'mean_elev', 'coast', 'HDI_dec', 'popdens_dec', 'over60_dec']], on='location')"
   ]
  },
  {
   "cell_type": "code",
   "execution_count": 237,
   "id": "a75461b3",
   "metadata": {
    "ExecuteTime": {
     "end_time": "2024-07-02T06:23:10.214838Z",
     "start_time": "2024-07-02T06:23:10.211198Z"
    }
   },
   "outputs": [],
   "source": [
    "mobility_heat['elev_1500m'] = mobility_heat['mean_elev'] >= 1500"
   ]
  },
  {
   "cell_type": "code",
   "execution_count": 239,
   "id": "3045424d",
   "metadata": {
    "ExecuteTime": {
     "end_time": "2024-07-02T06:23:10.318853Z",
     "start_time": "2024-07-02T06:23:10.315940Z"
    }
   },
   "outputs": [],
   "source": [
    "mobility_heat['elev_1500m'] = mobility_heat['elev_1500m'] * 1"
   ]
  },
  {
   "cell_type": "markdown",
   "id": "37cde8ee",
   "metadata": {},
   "source": [
    "### Calculate the percentage change of Baidu mobility index"
   ]
  },
  {
   "cell_type": "code",
   "execution_count": 242,
   "id": "f15b3215",
   "metadata": {
    "ExecuteTime": {
     "end_time": "2024-07-02T06:23:10.496632Z",
     "start_time": "2024-07-02T06:23:10.419222Z"
    }
   },
   "outputs": [],
   "source": [
    "mobility_baseline = pd.read_csv('mobility_data_clean/bd_mobility_china.csv')"
   ]
  },
  {
   "cell_type": "code",
   "execution_count": 244,
   "id": "82660990",
   "metadata": {
    "ExecuteTime": {
     "end_time": "2024-07-02T06:23:10.614811Z",
     "start_time": "2024-07-02T06:23:10.607097Z"
    }
   },
   "outputs": [],
   "source": [
    "mobility_baseline = mobility_baseline[mobility_baseline['date']<20210101].groupby(['location','dayofweek'])['mob_index'].mean().reset_index()"
   ]
  },
  {
   "cell_type": "code",
   "execution_count": 246,
   "id": "26abe6bc",
   "metadata": {
    "ExecuteTime": {
     "end_time": "2024-07-02T06:23:10.725556Z",
     "start_time": "2024-07-02T06:23:10.722079Z"
    }
   },
   "outputs": [],
   "source": [
    "mobility_baseline.rename(columns={'dayofweek':'day_of_week'},inplace=True)"
   ]
  },
  {
   "cell_type": "code",
   "execution_count": 248,
   "id": "905d9e7c",
   "metadata": {
    "ExecuteTime": {
     "end_time": "2024-07-02T06:23:10.834040Z",
     "start_time": "2024-07-02T06:23:10.831238Z"
    }
   },
   "outputs": [],
   "source": [
    "mobility_baseline['day_of_week'] = mobility_baseline['day_of_week'] - 1"
   ]
  },
  {
   "cell_type": "code",
   "execution_count": 250,
   "id": "55a1de03",
   "metadata": {
    "ExecuteTime": {
     "end_time": "2024-07-02T06:23:10.949887Z",
     "start_time": "2024-07-02T06:23:10.940848Z"
    }
   },
   "outputs": [],
   "source": [
    "mobility_heat = pd.merge(mobility_heat,mobility_baseline,on=['location','day_of_week'],how='left')"
   ]
  },
  {
   "cell_type": "code",
   "execution_count": 252,
   "id": "c9b1b5f6",
   "metadata": {
    "ExecuteTime": {
     "end_time": "2024-07-02T06:23:11.060758Z",
     "start_time": "2024-07-02T06:23:11.057514Z"
    }
   },
   "outputs": [],
   "source": [
    "mobility_heat.rename(columns={'mob_index':'baseline_mobility'},inplace=True)"
   ]
  },
  {
   "cell_type": "code",
   "execution_count": 254,
   "id": "0ea89955",
   "metadata": {
    "ExecuteTime": {
     "end_time": "2024-07-02T06:23:11.171500Z",
     "start_time": "2024-07-02T06:23:11.168590Z"
    }
   },
   "outputs": [],
   "source": [
    "mobility_heat['mobility_diff_pct'] = mobility_heat['mobility_difference']/mobility_heat['baseline_mobility']"
   ]
  },
  {
   "cell_type": "markdown",
   "id": "a730f962-1f9f-4c4b-87c5-41e270e3fc27",
   "metadata": {},
   "source": [
    "## Normalized rain variable for heatwave and control day"
   ]
  },
  {
   "cell_type": "code",
   "execution_count": 257,
   "id": "59d11dd0-e16f-47da-b2fe-4dfdd36a89bb",
   "metadata": {},
   "outputs": [],
   "source": [
    "precip = pd.read_csv('/Users/liangyuan/Desktop/precipitation/daily_sum_precipitation.csv')\n",
    "precip.rename(columns={'valid_time': 'time'}, inplace=True)\n",
    "precip['time'] = pd.to_datetime(precip['time'])"
   ]
  },
  {
   "cell_type": "code",
   "execution_count": 259,
   "id": "0b8301a1-58f2-4f60-82c5-f2e284b641be",
   "metadata": {},
   "outputs": [],
   "source": [
    "#rain from m --> mm\n",
    "precip['daily_precipitation'] = precip['daily_precipitation'] * 1000"
   ]
  },
  {
   "cell_type": "code",
   "execution_count": 261,
   "id": "0d8225f9-7d8d-4472-ae45-a8939d717c51",
   "metadata": {},
   "outputs": [],
   "source": [
    "gdf = gpd.read_file('china_city.geojson')\n",
    "gdf.rename(columns={'name_1': 'adm1'}, inplace=True)\n",
    "gdf['location'] = gdf['adm2'] + ', ' + gdf['adm1']\n",
    "gdf.to_crs(epsg='3857', inplace=True)\n",
    "gdf['area'] = [x.area for x in gdf['geometry']]"
   ]
  },
  {
   "cell_type": "code",
   "execution_count": 262,
   "id": "47776581-a160-4cd5-8363-d183c9a12c81",
   "metadata": {},
   "outputs": [],
   "source": [
    "#area from m --> km\n",
    "\n",
    "gdf['area'] = gdf['area'] / 1000"
   ]
  },
  {
   "cell_type": "code",
   "execution_count": 263,
   "id": "4a5249dd-4f90-442f-80c9-70a8d999af51",
   "metadata": {},
   "outputs": [],
   "source": [
    "precip = precip.merge(gdf[['location', 'area']], on='location')\n",
    "precip['rain_normed'] = precip['daily_precipitation'] / precip['area']"
   ]
  },
  {
   "cell_type": "code",
   "execution_count": 267,
   "id": "85f075fa-014d-4904-a186-4ee447ab15f6",
   "metadata": {},
   "outputs": [],
   "source": [
    "precip['rain_standard'] = precip.groupby('location')['rain_normed'].rank(pct=True) * 100"
   ]
  },
  {
   "cell_type": "code",
   "execution_count": 269,
   "id": "f1c500eb-f63c-4f3f-bafe-546223542763",
   "metadata": {},
   "outputs": [],
   "source": [
    "mobility_heat = mobility_heat.merge(precip[['time', 'adm1', 'adm2', 'rain_standard']], left_on=['control_day', 'adm1', 'adm2'], right_on=['time', 'adm1', 'adm2'])"
   ]
  },
  {
   "cell_type": "code",
   "execution_count": 271,
   "id": "1e08624e-5cd6-42a1-83c8-be6e259d4aa0",
   "metadata": {},
   "outputs": [],
   "source": [
    "mobility_heat.rename(columns={'rain_standard': \"rain_standard_control\"}, inplace=True)"
   ]
  },
  {
   "cell_type": "code",
   "execution_count": 273,
   "id": "575fa69f",
   "metadata": {},
   "outputs": [],
   "source": [
    "mobility_heat = mobility_heat.merge(precip[['time', 'adm1', 'adm2', 'rain_standard']], left_on=['date_heat', 'adm1', 'adm2'], right_on=['time', 'adm1', 'adm2'])"
   ]
  },
  {
   "cell_type": "code",
   "execution_count": 275,
   "id": "de85a0ea-2fa6-41b3-96e6-abf67d54052b",
   "metadata": {},
   "outputs": [],
   "source": [
    "mobility_heat.rename(columns={'rain_standard': \"rain_standard_heat\"}, inplace=True)"
   ]
  },
  {
   "cell_type": "markdown",
   "id": "21fbd2ff",
   "metadata": {},
   "source": [
    "### Prepare final dataset"
   ]
  },
  {
   "cell_type": "code",
   "execution_count": 278,
   "id": "e42c5472",
   "metadata": {
    "ExecuteTime": {
     "end_time": "2024-07-02T06:23:11.280531Z",
     "start_time": "2024-07-02T06:23:11.276073Z"
    }
   },
   "outputs": [],
   "source": [
    "df = mobility_heat.copy()"
   ]
  },
  {
   "cell_type": "code",
   "execution_count": 280,
   "id": "28b5fdb0",
   "metadata": {
    "ExecuteTime": {
     "end_time": "2024-07-02T06:23:11.411699Z",
     "start_time": "2024-07-02T06:23:11.407767Z"
    }
   },
   "outputs": [],
   "source": [
    "df = df[df['mean_elev'] <= 2500]"
   ]
  },
  {
   "cell_type": "code",
   "execution_count": 282,
   "id": "4b8040cd",
   "metadata": {
    "ExecuteTime": {
     "end_time": "2024-07-02T06:23:11.538979Z",
     "start_time": "2024-07-02T06:23:11.536958Z"
    }
   },
   "outputs": [],
   "source": [
    "#set outlier cutoff (how many SDs away from mean)\n",
    "SD = 4"
   ]
  },
  {
   "cell_type": "code",
   "execution_count": 284,
   "id": "fb743fa3",
   "metadata": {
    "ExecuteTime": {
     "end_time": "2024-07-02T06:23:12.128639Z",
     "start_time": "2024-07-02T06:23:11.665462Z"
    }
   },
   "outputs": [],
   "source": [
    "df['mobility_diff_pct'] = [np.nan if (x >= df['mobility_diff_pct'].mean() + (SD * df['mobility_diff_pct'].std())) | (x <= df['mobility_diff_pct'].mean() - (SD * df['mobility_diff_pct'].std())) else x for x in df['mobility_diff_pct'] ]"
   ]
  },
  {
   "cell_type": "code",
   "execution_count": 287,
   "id": "d0a2ee83",
   "metadata": {
    "ExecuteTime": {
     "end_time": "2024-07-02T06:23:12.401240Z",
     "start_time": "2024-07-02T06:23:12.395864Z"
    }
   },
   "outputs": [],
   "source": [
    "df.dropna(how='all', subset=['mobility_diff_pct'], inplace=True)"
   ]
  },
  {
   "cell_type": "code",
   "execution_count": 292,
   "id": "3ae9beec",
   "metadata": {
    "ExecuteTime": {
     "end_time": "2024-07-02T06:23:12.533194Z",
     "start_time": "2024-07-02T06:23:12.529515Z"
    }
   },
   "outputs": [],
   "source": [
    "df = df.iloc[:, 2:]"
   ]
  },
  {
   "cell_type": "code",
   "execution_count": 294,
   "id": "5cac5192",
   "metadata": {
    "ExecuteTime": {
     "end_time": "2024-07-02T06:23:12.667163Z",
     "start_time": "2024-07-02T06:23:12.664089Z"
    }
   },
   "outputs": [],
   "source": [
    "df['index'] = range(0, len(df))"
   ]
  },
  {
   "cell_type": "code",
   "execution_count": 296,
   "id": "05069f50",
   "metadata": {
    "ExecuteTime": {
     "end_time": "2024-07-02T06:23:12.795048Z",
     "start_time": "2024-07-02T06:23:12.792684Z"
    }
   },
   "outputs": [],
   "source": [
    "plt.rcParams[\"image.cmap\"] = 'Reds'"
   ]
  },
  {
   "cell_type": "code",
   "execution_count": 302,
   "id": "5c62435d",
   "metadata": {
    "ExecuteTime": {
     "end_time": "2024-07-02T06:23:13.468059Z",
     "start_time": "2024-07-02T06:23:13.272734Z"
    }
   },
   "outputs": [],
   "source": [
    "df.to_csv('THI_mobility_heat_w_vars_90_{}SD.csv'.format(SD))"
   ]
  }
 ],
 "metadata": {
  "kernelspec": {
   "display_name": "Python 3 (ipykernel)",
   "language": "python",
   "name": "python3"
  },
  "language_info": {
   "codemirror_mode": {
    "name": "ipython",
    "version": 3
   },
   "file_extension": ".py",
   "mimetype": "text/x-python",
   "name": "python",
   "nbconvert_exporter": "python",
   "pygments_lexer": "ipython3",
   "version": "3.12.2"
  },
  "varInspector": {
   "cols": {
    "lenName": 16,
    "lenType": 16,
    "lenVar": 40
   },
   "kernels_config": {
    "python": {
     "delete_cmd_postfix": "",
     "delete_cmd_prefix": "del ",
     "library": "var_list.py",
     "varRefreshCmd": "print(var_dic_list())"
    },
    "r": {
     "delete_cmd_postfix": ") ",
     "delete_cmd_prefix": "rm(",
     "library": "var_list.r",
     "varRefreshCmd": "cat(var_dic_list()) "
    }
   },
   "types_to_exclude": [
    "module",
    "function",
    "builtin_function_or_method",
    "instance",
    "_Feature"
   ],
   "window_display": false
  }
 },
 "nbformat": 4,
 "nbformat_minor": 5
}

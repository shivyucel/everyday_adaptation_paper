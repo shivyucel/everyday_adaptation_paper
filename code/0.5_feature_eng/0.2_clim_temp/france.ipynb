{
 "cells": [
  {
   "cell_type": "code",
   "execution_count": 272,
   "id": "573448d3-bff1-4c76-95ab-66e2c0ffcf5e",
   "metadata": {},
   "outputs": [
    {
     "name": "stderr",
     "output_type": "stream",
     "text": [
      "/var/folders/8g/qp1k_1g91m5f2m9pypxwxdhh0000gn/T/ipykernel_33382/3471708860.py:8: DeprecationWarning: Please use `pearsonr` from the `scipy.stats` namespace, the `scipy.stats.stats` namespace is deprecated.\n",
      "  from scipy.stats.stats import pearsonr\n"
     ]
    }
   ],
   "source": [
    "import pandas as pd\n",
    "import geopandas as gpd\n",
    "import matplotlib.pyplot as plt\n",
    "import seaborn as sns\n",
    "sns.set_style('darkgrid')\n",
    "from scipy.stats import ttest_ind\n",
    "import numpy as np\n",
    "from scipy.stats.stats import pearsonr\n",
    "from IPython.display import display, Markdown, Latex\n",
    "plt.style.use('ggplot')\n",
    "from datetime import date\n",
    "data_path = '/Users/shivyucel/Documents/projects/DPhil/Code_Data/data/'\n",
    "import dask.dataframe as dd\n",
    "from scipy.stats import norm\n",
    "from sklearn.cluster import KMeans\n",
    "import numpy as np\n",
    "\n",
    "import pandas\n",
    "\n"
   ]
  },
  {
   "cell_type": "code",
   "execution_count": 273,
   "id": "b570e2d6-13d2-4644-ab17-30cd153c4369",
   "metadata": {},
   "outputs": [],
   "source": [
    "#load mobility and temperature data\n",
    "#load heatwave - control dataframe\n",
    "mobility_heat = pd.read_csv('/Users/shivyucel/Documents/projects/DPhil/Code_Data/data/paper2/france/THI_mobility_heat_clean_90.csv')\n",
    "heatwave_control = pd.read_csv('/Users/shivyucel/Documents/projects/DPhil/Code_Data/data/paper2/france/THI_heatwave_control_90.csv')"
   ]
  },
  {
   "cell_type": "markdown",
   "id": "d6383384-1d4f-4263-be2a-131c912ea065",
   "metadata": {},
   "source": [
    "## Build Intensity Variable\n"
   ]
  },
  {
   "cell_type": "code",
   "execution_count": 275,
   "id": "644b8382-82e3-4fcd-8caa-a3190d453c20",
   "metadata": {},
   "outputs": [],
   "source": [
    "full_df = pd.read_csv('/Users/shivyucel/Documents/projects/DPhil/Code_Data/data/THI/france/daily_max_THI.csv')\n",
    "\n",
    "full_df.rename(columns={'time': 'datetime'}, inplace=True)\n",
    "full_df['datetime'] = pd.to_datetime(full_df['datetime'])\n",
    "full_df['day'] = pd.DatetimeIndex(full_df['datetime']).day\n",
    "full_df['month'] = pd.DatetimeIndex(full_df['datetime']).month\n",
    "full_df['year'] = pd.DatetimeIndex(full_df['datetime']).year\n",
    "full_df = full_df[~full_df['month'].isin([4, 10])]\n",
    "full_df['location'] = full_df['adm2'] + ', ' + full_df['adm1']\n",
    "full_df['datetime_ord'] = [date(x,y,z).toordinal() for x,y,z in zip(full_df['year'], full_df['month'], full_df['day'])]"
   ]
  },
  {
   "cell_type": "code",
   "execution_count": 276,
   "id": "41695105-3df0-4c36-b405-04acc57cc6bd",
   "metadata": {},
   "outputs": [],
   "source": [
    "mobility_heat['control_day'] = pd.to_datetime(mobility_heat['control_day'])"
   ]
  },
  {
   "cell_type": "code",
   "execution_count": 277,
   "id": "f36ddc97-0791-494e-8523-4de93ed6d6fe",
   "metadata": {},
   "outputs": [],
   "source": [
    "#merge temperatures from control day onto mobility heat\n",
    "mobility_heat = mobility_heat.merge(full_df[['datetime', 'thi', 'location']], left_on=['location', 'control_day'], right_on=['location', 'datetime'], suffixes=('_heat', '_control'))"
   ]
  },
  {
   "cell_type": "markdown",
   "id": "d7130df5-e000-4a2e-a594-631f56bc5c77",
   "metadata": {},
   "source": [
    "### Create/explore temperature difference variable"
   ]
  },
  {
   "cell_type": "code",
   "execution_count": 280,
   "id": "47677fbc-1454-40f6-a047-2e68c997f606",
   "metadata": {},
   "outputs": [],
   "source": [
    "mobility_heat['temp_diff'] = mobility_heat['thi_heat'] - mobility_heat['thi_control']"
   ]
  },
  {
   "cell_type": "code",
   "execution_count": 281,
   "id": "b3c0a5e6-f864-4450-816d-66bd2fbbae57",
   "metadata": {},
   "outputs": [
    {
     "data": {
      "text/plain": [
       "count    1801.000000\n",
       "mean        6.986346\n",
       "std         2.653497\n",
       "min         1.623701\n",
       "25%         5.119326\n",
       "50%         6.774149\n",
       "75%         8.332184\n",
       "max        16.531517\n",
       "Name: temp_diff, dtype: float64"
      ]
     },
     "execution_count": 281,
     "metadata": {},
     "output_type": "execute_result"
    }
   ],
   "source": [
    "mobility_heat['temp_diff'].describe()"
   ]
  },
  {
   "cell_type": "code",
   "execution_count": 282,
   "id": "42d6fcfa-7267-47e5-8c96-e77b6364e6e1",
   "metadata": {},
   "outputs": [
    {
     "data": {
      "image/png": "[encoded data removed]",
      "text/plain": [
       "<Figure size 640x480 with 1 Axes>"
      ]
     },
     "metadata": {},
     "output_type": "display_data"
    }
   ],
   "source": [
    "sns.histplot(mobility_heat, x='temp_diff')\n",
    "plt.title(\"Temperature Difference (heat wave vs. control)\")\n",
    "plt.tight_layout()\n",
    "plt.savefig(data_path + '/img/12_09_2023/india_temp_diff_dist.png')"
   ]
  },
  {
   "cell_type": "markdown",
   "id": "729d6502-f731-4119-9e4a-60ae93a67a33",
   "metadata": {
    "tags": []
   },
   "source": [
    "### Build Duration Variable\n",
    "* Duration of heat wave (in days)\n",
    "* Build variable showing which day of a heatwave it is"
   ]
  },
  {
   "cell_type": "code",
   "execution_count": 283,
   "id": "44200734-0ea0-42fc-ace0-9105c225937f",
   "metadata": {},
   "outputs": [],
   "source": [
    "# Formatting column names and merging dataframes"
   ]
  },
  {
   "cell_type": "code",
   "execution_count": 284,
   "id": "6e7bfe6b-2f59-44ed-87ab-6356382c1e0f",
   "metadata": {},
   "outputs": [],
   "source": [
    "heatwave_control.sort_values(by='Heat Wave Duration', inplace=True)"
   ]
  },
  {
   "cell_type": "code",
   "execution_count": 285,
   "id": "fabefd52-de9a-4700-881d-2f916f9c920a",
   "metadata": {},
   "outputs": [],
   "source": [
    "duration_IDs = heatwave_control.drop_duplicates('heat_ID')[['heat_ID', 'Heat Wave Duration']  ]             "
   ]
  },
  {
   "cell_type": "code",
   "execution_count": 286,
   "id": "c062b426-baf4-4373-a235-a7e03b1baa5d",
   "metadata": {},
   "outputs": [],
   "source": [
    "duration_IDs.columns = ['heat_ID', 'Heat Wave Duration']"
   ]
  },
  {
   "cell_type": "code",
   "execution_count": 287,
   "id": "9c46e8b1-e250-46c7-a857-7c61de405790",
   "metadata": {},
   "outputs": [
    {
     "data": {
      "text/html": [
       "<div>\n",
       "<style scoped>\n",
       "    .dataframe tbody tr th:only-of-type {\n",
       "        vertical-align: middle;\n",
       "    }\n",
       "\n",
       "    .dataframe tbody tr th {\n",
       "        vertical-align: top;\n",
       "    }\n",
       "\n",
       "    .dataframe thead th {\n",
       "        text-align: right;\n",
       "    }\n",
       "</style>\n",
       "<table border=\"1\" class=\"dataframe\">\n",
       "  <thead>\n",
       "    <tr style=\"text-align: right;\">\n",
       "      <th></th>\n",
       "      <th>heat_ID</th>\n",
       "      <th>Heat Wave Duration</th>\n",
       "    </tr>\n",
       "  </thead>\n",
       "  <tbody>\n",
       "    <tr>\n",
       "      <th>0</th>\n",
       "      <td>19c9032a-7ba3-4591-b995-51e09d96c46d</td>\n",
       "      <td>2.0</td>\n",
       "    </tr>\n",
       "    <tr>\n",
       "      <th>1117</th>\n",
       "      <td>17310330-f87f-42f1-8b89-a6ef7db5886a</td>\n",
       "      <td>2.0</td>\n",
       "    </tr>\n",
       "    <tr>\n",
       "      <th>454</th>\n",
       "      <td>644291b8-0b2f-42e6-bae5-9f0e0c912ccc</td>\n",
       "      <td>2.0</td>\n",
       "    </tr>\n",
       "    <tr>\n",
       "      <th>1108</th>\n",
       "      <td>87073169-8776-43ae-ba06-07b085efb581</td>\n",
       "      <td>2.0</td>\n",
       "    </tr>\n",
       "    <tr>\n",
       "      <th>459</th>\n",
       "      <td>b4c5fd24-9870-4b16-a3c6-aca617382c9d</td>\n",
       "      <td>2.0</td>\n",
       "    </tr>\n",
       "  </tbody>\n",
       "</table>\n",
       "</div>"
      ],
      "text/plain": [
       "                                   heat_ID  Heat Wave Duration\n",
       "0     19c9032a-7ba3-4591-b995-51e09d96c46d                 2.0\n",
       "1117  17310330-f87f-42f1-8b89-a6ef7db5886a                 2.0\n",
       "454   644291b8-0b2f-42e6-bae5-9f0e0c912ccc                 2.0\n",
       "1108  87073169-8776-43ae-ba06-07b085efb581                 2.0\n",
       "459   b4c5fd24-9870-4b16-a3c6-aca617382c9d                 2.0"
      ]
     },
     "execution_count": 287,
     "metadata": {},
     "output_type": "execute_result"
    }
   ],
   "source": [
    "duration_IDs.head()"
   ]
  },
  {
   "cell_type": "code",
   "execution_count": 288,
   "id": "396b28b1-cd07-4ff1-acbd-678ef145d028",
   "metadata": {},
   "outputs": [
    {
     "data": {
      "text/plain": [
       "count    510.000000\n",
       "mean       3.741176\n",
       "std        2.116376\n",
       "min        2.000000\n",
       "25%        2.000000\n",
       "50%        3.000000\n",
       "75%        5.000000\n",
       "max       14.000000\n",
       "Name: Heat Wave Duration, dtype: float64"
      ]
     },
     "execution_count": 288,
     "metadata": {},
     "output_type": "execute_result"
    }
   ],
   "source": [
    "duration_IDs['Heat Wave Duration'].describe()"
   ]
  },
  {
   "cell_type": "code",
   "execution_count": 289,
   "id": "1100bcc3-4b57-4626-8e79-a386120dca56",
   "metadata": {
    "tags": []
   },
   "outputs": [],
   "source": [
    "#drop original heatwave duration variable\n",
    "heatwave_control.drop('Heat Wave Duration', axis=1, inplace=True)"
   ]
  },
  {
   "cell_type": "code",
   "execution_count": 290,
   "id": "efb90934-1133-41cc-97db-03b09662ef34",
   "metadata": {},
   "outputs": [],
   "source": [
    "#merge duration ID dataframe onto heatwave control\n",
    "heatwave_control = heatwave_control.merge(duration_IDs, on='heat_ID', how='left')"
   ]
  },
  {
   "cell_type": "code",
   "execution_count": 291,
   "id": "685804aa-6490-45e1-9943-d53f0b9b1cf1",
   "metadata": {},
   "outputs": [],
   "source": [
    "heatwave_control.drop_duplicates(['location', 'datetime'], inplace=True)"
   ]
  },
  {
   "cell_type": "code",
   "execution_count": 292,
   "id": "2ab18af6-1300-466d-b24a-3c841eb22669",
   "metadata": {},
   "outputs": [],
   "source": [
    "heatwave_control['dur_ranking'] = heatwave_control['Heat Wave Duration'].rank(pct=True)"
   ]
  },
  {
   "cell_type": "code",
   "execution_count": 293,
   "id": "d138e5c0-5562-4349-8b33-aed316175920",
   "metadata": {},
   "outputs": [],
   "source": [
    "#groupby each heatwave, sort by date, assign increasing rank for each passing day\n",
    "heat_stage = heatwave_control.groupby('heat_ID').apply(lambda x: x.datetime.sort_values().rank()).reset_index()"
   ]
  },
  {
   "cell_type": "code",
   "execution_count": 294,
   "id": "46026e12-089f-4643-986a-023acb65e06a",
   "metadata": {},
   "outputs": [],
   "source": [
    "heat_stage.columns=['heat_ID', 'index', 'stage']"
   ]
  },
  {
   "cell_type": "code",
   "execution_count": 295,
   "id": "557a5e6a-7913-414f-92f9-28e64936f2d2",
   "metadata": {},
   "outputs": [
    {
     "data": {
      "text/plain": [
       "14.0"
      ]
     },
     "execution_count": 295,
     "metadata": {},
     "output_type": "execute_result"
    }
   ],
   "source": [
    "heat_stage['stage'].max()"
   ]
  },
  {
   "cell_type": "code",
   "execution_count": 296,
   "id": "e5caaa3c-edbd-4fcc-bc0a-a88a05a1bde0",
   "metadata": {},
   "outputs": [],
   "source": [
    "x = heat_stage.merge(duration_IDs, on='heat_ID')"
   ]
  },
  {
   "cell_type": "code",
   "execution_count": 297,
   "id": "24716323-34c0-44e7-be02-e2c876935729",
   "metadata": {},
   "outputs": [],
   "source": [
    "heatwave_control.drop('index', axis=1, inplace=True)"
   ]
  },
  {
   "cell_type": "code",
   "execution_count": 298,
   "id": "05c10f6c-f493-4082-8c1f-a4c3213e151b",
   "metadata": {},
   "outputs": [],
   "source": [
    "heatwave_control.reset_index(inplace=True)"
   ]
  },
  {
   "cell_type": "code",
   "execution_count": 299,
   "id": "42a04372-a1a5-455b-8ced-2a3c095440c2",
   "metadata": {},
   "outputs": [],
   "source": [
    "heatwave_control = heatwave_control.merge(heat_stage, on=['index', 'heat_ID'])"
   ]
  },
  {
   "cell_type": "code",
   "execution_count": 300,
   "id": "1b204bf2-8be9-4baa-8591-93a1ffea728d",
   "metadata": {},
   "outputs": [],
   "source": [
    "heatwave_control['datetime'] = pd.to_datetime(heatwave_control['datetime'])"
   ]
  },
  {
   "cell_type": "code",
   "execution_count": 301,
   "id": "e01c0172-181e-4994-ab72-07efad3ffa1a",
   "metadata": {},
   "outputs": [
    {
     "data": {
      "text/plain": [
       "14.0"
      ]
     },
     "execution_count": 301,
     "metadata": {},
     "output_type": "execute_result"
    }
   ],
   "source": [
    "heatwave_control['stage'].max()"
   ]
  },
  {
   "cell_type": "code",
   "execution_count": 302,
   "id": "b8cbbfde-afa3-4f64-8701-f1fa5bea3265",
   "metadata": {},
   "outputs": [],
   "source": [
    "mobility_heat['date_heat'] = pd.to_datetime(mobility_heat['date_heat'])"
   ]
  },
  {
   "cell_type": "code",
   "execution_count": 303,
   "id": "f0c2eea8-f951-4a86-80fd-527a43483fc5",
   "metadata": {},
   "outputs": [],
   "source": [
    "#merge temporal variables into mobility_heat\n",
    "\n",
    "mobility_heat = mobility_heat.merge(heatwave_control[['location', 'datetime', 'Heat Wave Duration', 'dur_ranking', 'stage']], left_on=['location', 'date_heat'], right_on=['location', 'datetime'])"
   ]
  },
  {
   "cell_type": "code",
   "execution_count": 304,
   "id": "d9784486-b97c-4dd7-8ee1-6319be44a890",
   "metadata": {},
   "outputs": [],
   "source": [
    "mobility_heat.reset_index(inplace=True)"
   ]
  },
  {
   "cell_type": "code",
   "execution_count": 305,
   "id": "8ed296fc-f3d1-4ebe-b2eb-dee9bb3fb7b3",
   "metadata": {},
   "outputs": [],
   "source": [
    "mobility_heat['month'] = [x.month for x in mobility_heat['datetime']]"
   ]
  },
  {
   "cell_type": "code",
   "execution_count": 306,
   "id": "809e1870-a06e-48dc-a80d-ccd0cd7e130e",
   "metadata": {},
   "outputs": [
    {
     "data": {
      "text/plain": [
       "array([6, 7, 8, 5, 9])"
      ]
     },
     "execution_count": 306,
     "metadata": {},
     "output_type": "execute_result"
    }
   ],
   "source": [
    "mobility_heat['month'].unique()"
   ]
  },
  {
   "cell_type": "code",
   "execution_count": 312,
   "id": "170f871f-33ee-46e6-8cec-9c81b2b1b509",
   "metadata": {},
   "outputs": [
    {
     "data": {
      "text/plain": [
       "count    483.000000\n",
       "mean       3.728778\n",
       "std        2.141988\n",
       "min        2.000000\n",
       "25%        2.000000\n",
       "50%        3.000000\n",
       "75%        5.000000\n",
       "max       14.000000\n",
       "Name: Heat Wave Duration, dtype: float64"
      ]
     },
     "execution_count": 312,
     "metadata": {},
     "output_type": "execute_result"
    }
   ],
   "source": [
    "# format final variables\n",
    "mobility_heat['stage_frac'] = (mobility_heat['stage'] / mobility_heat['Heat Wave Duration'] )\n",
    "mobility_heat.drop_duplicates('heat_ID')['Heat Wave Duration'].describe()\n",
    "\n"
   ]
  },
  {
   "cell_type": "code",
   "execution_count": 313,
   "id": "06078517",
   "metadata": {},
   "outputs": [],
   "source": [
    "mobility_heat['heatwave_dur'] = mobility_heat['Heat Wave Duration'] >= 5"
   ]
  },
  {
   "cell_type": "code",
   "execution_count": 314,
   "id": "cc22d3fa-3874-4d23-957b-e6dc3e14bf95",
   "metadata": {},
   "outputs": [],
   "source": [
    "mobility_heat['month'] = [x.month for x in pd.to_datetime(mobility_heat['date_control'])]"
   ]
  },
  {
   "cell_type": "code",
   "execution_count": 315,
   "id": "e62b9712-015d-48c1-9e63-e8b6bb5c2feb",
   "metadata": {},
   "outputs": [],
   "source": [
    "mobility_heat['date_control'] = pd.to_datetime(mobility_heat['date_control'])"
   ]
  },
  {
   "cell_type": "code",
   "execution_count": 316,
   "id": "752897cf-97f3-4ad5-99e7-44f33b453b97",
   "metadata": {},
   "outputs": [
    {
     "data": {
      "text/plain": [
       "0      2022-06-11\n",
       "1      2022-06-12\n",
       "2      2022-07-11\n",
       "3      2022-07-12\n",
       "4      2022-07-06\n",
       "          ...    \n",
       "1796   2022-07-27\n",
       "1797   2022-07-29\n",
       "1798   2022-07-30\n",
       "1799   2022-06-26\n",
       "1800   2022-07-04\n",
       "Name: date_control, Length: 1801, dtype: datetime64[ns]"
      ]
     },
     "execution_count": 316,
     "metadata": {},
     "output_type": "execute_result"
    }
   ],
   "source": [
    "mobility_heat['date_control']"
   ]
  },
  {
   "cell_type": "markdown",
   "id": "c1a8c554-2e46-495b-a44a-5c634481ec30",
   "metadata": {},
   "source": [
    "## Merge social and physical variables"
   ]
  },
  {
   "cell_type": "code",
   "execution_count": 317,
   "id": "350e0250-f7e9-4b93-a588-032cb991e532",
   "metadata": {},
   "outputs": [],
   "source": [
    "soc_phys = gpd.read_file('/Users/shivyucel/Documents/projects/DPhil/Code_Data/data/physical/france/merged.shp')"
   ]
  },
  {
   "cell_type": "code",
   "execution_count": 318,
   "id": "e162bd6e-ab54-4725-9152-1b9d481ee56c",
   "metadata": {},
   "outputs": [],
   "source": [
    "mobility_heat= mobility_heat.merge(soc_phys[['location', 'mean_elev', 'coast', 'HDI_dec', 'popdens_de', 'over60_dec']], on='location')"
   ]
  },
  {
   "cell_type": "code",
   "execution_count": 319,
   "id": "89ab4e2f-746e-4989-9401-cf50740be17d",
   "metadata": {},
   "outputs": [],
   "source": [
    "mobility_heat['elev_1500m'] = mobility_heat['mean_elev'] >= 1500"
   ]
  },
  {
   "cell_type": "code",
   "execution_count": 320,
   "id": "c91465b3-5eb4-4156-9e82-b12520c712da",
   "metadata": {},
   "outputs": [],
   "source": [
    "mobility_heat['elev_1500m'] = mobility_heat['elev_1500m'] * 1"
   ]
  },
  {
   "cell_type": "markdown",
   "id": "2ffd3311-c1c8-4cad-a02f-f4750adcc92a",
   "metadata": {},
   "source": [
    "### Remove holidays "
   ]
  },
  {
   "cell_type": "code",
   "execution_count": 321,
   "id": "f1677245-2e73-43eb-a64d-c13b2b701961",
   "metadata": {},
   "outputs": [],
   "source": [
    "import requests"
   ]
  },
  {
   "cell_type": "code",
   "execution_count": 322,
   "id": "8336b738-6ded-4bd5-a197-b21e5a06d005",
   "metadata": {},
   "outputs": [],
   "source": [
    "hols_2022 = pd.DataFrame(requests.get(\"https://date.nager.at/api/v3/publicholidays/2022/FR\").json())\n",
    "hols_2022['date'] = pd.to_datetime(hols_2022['date'])"
   ]
  },
  {
   "cell_type": "code",
   "execution_count": 323,
   "id": "4daae2e6-9e81-47ce-9ce6-6ed0941ac774",
   "metadata": {},
   "outputs": [],
   "source": [
    "mobility_heat = mobility_heat[~mobility_heat['datetime_heat'].isin(hols_2022['date'].values)]\n",
    "mobility_heat = mobility_heat[~mobility_heat['datetime_control'].isin(hols_2022['date'].values)]"
   ]
  },
  {
   "cell_type": "markdown",
   "id": "b0394203",
   "metadata": {},
   "source": [
    "## Normalized rain variable for heatwave and control day"
   ]
  },
  {
   "cell_type": "code",
   "execution_count": 324,
   "id": "4cca2a3f",
   "metadata": {},
   "outputs": [],
   "source": [
    "precip = pd.read_csv('/Users/shivyucel/Documents/projects/DPhil/Code_Data/data/precipitation/france/daily_sum_precipitation.csv')\n",
    "precip.rename(columns={'valid_time': 'time'}, inplace=True)\n",
    "precip['time'] = pd.to_datetime(precip['time'])"
   ]
  },
  {
   "cell_type": "code",
   "execution_count": 326,
   "id": "8facac5f",
   "metadata": {},
   "outputs": [],
   "source": [
    "gdf = gpd.read_file('/Users/shivyucel/Documents/projects/DPhil/Code_Data/data/adm0_shp/france/clean_shp.shp')\n",
    "gdf.rename(columns={'name_1': 'adm1'}, inplace=True)\n",
    "gdf['location'] = gdf['adm2'] + ', ' + gdf['adm1']\n",
    "gdf.to_crs(epsg='3857', inplace=True)\n",
    "gdf['area'] = [x.area for x in gdf['geometry']]"
   ]
  },
  {
   "cell_type": "code",
   "execution_count": null,
   "id": "25533bf1",
   "metadata": {},
   "outputs": [],
   "source": [
    "#area from m --> km\n",
    "#rain from m --> mm\n",
    "precip['daily_precipitation'] = precip['daily_precipitation'] * 1000\n",
    "gdf['area'] = gdf['area'] / 1000"
   ]
  },
  {
   "cell_type": "code",
   "execution_count": 328,
   "id": "dce989de",
   "metadata": {},
   "outputs": [],
   "source": [
    "precip = precip.merge(gdf[['location', 'area']], on='location')\n",
    "precip['rain_normed'] = (precip['daily_precipitation'] / precip['area']) "
   ]
  },
  {
   "cell_type": "code",
   "execution_count": 329,
   "id": "8cad4660",
   "metadata": {},
   "outputs": [],
   "source": [
    "precip['rain_standard'] = precip.groupby('location')['rain_normed'].rank(pct=True) * 100"
   ]
  },
  {
   "cell_type": "markdown",
   "id": "a40910cd",
   "metadata": {},
   "source": [
    "### Control day rain dummy"
   ]
  },
  {
   "cell_type": "code",
   "execution_count": 331,
   "id": "3d396003",
   "metadata": {},
   "outputs": [],
   "source": [
    "mobility_heat = mobility_heat.merge(precip[['time', 'adm1', 'adm2', 'rain_standard']], left_on=['control_day', 'adm1', 'adm2'], right_on=['time', 'adm1', 'adm2'])"
   ]
  },
  {
   "cell_type": "code",
   "execution_count": 332,
   "id": "e3d62c6b",
   "metadata": {},
   "outputs": [],
   "source": [
    "mobility_heat.rename(columns={'rain_standard': \"rain_standard_control\"}, inplace=True)"
   ]
  },
  {
   "cell_type": "markdown",
   "id": "56309664",
   "metadata": {},
   "source": [
    "### Heatwave day rain dummy"
   ]
  },
  {
   "cell_type": "code",
   "execution_count": 333,
   "id": "a108e61f",
   "metadata": {},
   "outputs": [],
   "source": [
    "mobility_heat = mobility_heat.merge(precip[['time', 'adm1', 'adm2', 'rain_standard']], left_on=['date_heat', 'adm1', 'adm2'], right_on=['time', 'adm1', 'adm2'])"
   ]
  },
  {
   "cell_type": "code",
   "execution_count": 334,
   "id": "3f1885f8",
   "metadata": {},
   "outputs": [],
   "source": [
    "mobility_heat.rename(columns={'rain_standard': \"rain_standard_heat\"}, inplace=True)"
   ]
  },
  {
   "cell_type": "markdown",
   "id": "f37faf6d-ebab-4da0-b075-33874a279824",
   "metadata": {},
   "source": [
    "### Prepare final dataset"
   ]
  },
  {
   "cell_type": "code",
   "execution_count": 335,
   "id": "4112f5d3-ff8c-41a3-890d-8399567b0e2f",
   "metadata": {},
   "outputs": [],
   "source": [
    "df = mobility_heat.copy()"
   ]
  },
  {
   "cell_type": "code",
   "execution_count": 336,
   "id": "8a497742-c59b-4545-a8aa-f69bfa67689e",
   "metadata": {},
   "outputs": [],
   "source": [
    "df = df[df['mean_elev'] <= 2500]"
   ]
  },
  {
   "cell_type": "code",
   "execution_count": 337,
   "id": "efd0d0b7-5258-4c7d-b640-97eafc8a461b",
   "metadata": {},
   "outputs": [],
   "source": [
    "#set outlier cutoff (how many SDs away from mean)\n",
    "SD = 4"
   ]
  },
  {
   "cell_type": "code",
   "execution_count": 338,
   "id": "77a6a9fc-2b42-4866-9cc4-a453bfe7d331",
   "metadata": {},
   "outputs": [],
   "source": [
    "for variable in ['workplaces_difference', 'residential_difference', 'grocery_pharm_difference', 'parks_difference', 'retail_rec_difference', 'transit_difference']:\n",
    "    df[variable] = [np.nan if (x >= df[variable].mean() + (SD * df[variable].std())) | (x <= df[variable].mean() - (SD * df[variable].std())) else x for x in df[variable] ]\n",
    "\n",
    "    #v13\n",
    "df.dropna(how='all', subset=['workplaces_difference', 'residential_difference', 'transit_difference', 'grocery_pharm_difference', 'parks_difference', 'retail_rec_difference'], inplace=True)"
   ]
  },
  {
   "cell_type": "code",
   "execution_count": 339,
   "id": "b5395123-fbfe-43eb-9e7f-274bf050f45e",
   "metadata": {},
   "outputs": [],
   "source": [
    "df = df.iloc[:, 3:]"
   ]
  },
  {
   "cell_type": "code",
   "execution_count": 340,
   "id": "e7f329f9-65d6-4012-a2a9-ff2d12dd3c36",
   "metadata": {},
   "outputs": [],
   "source": [
    "df.reset_index(inplace=True)"
   ]
  },
  {
   "cell_type": "code",
   "execution_count": 341,
   "id": "299139e1-3a9a-4582-8e96-18aaf9c062b1",
   "metadata": {},
   "outputs": [
    {
     "data": {
      "text/html": [
       "<div>\n",
       "<style scoped>\n",
       "    .dataframe tbody tr th:only-of-type {\n",
       "        vertical-align: middle;\n",
       "    }\n",
       "\n",
       "    .dataframe tbody tr th {\n",
       "        vertical-align: top;\n",
       "    }\n",
       "\n",
       "    .dataframe thead th {\n",
       "        text-align: right;\n",
       "    }\n",
       "</style>\n",
       "<table border=\"1\" class=\"dataframe\">\n",
       "  <thead>\n",
       "    <tr style=\"text-align: right;\">\n",
       "      <th></th>\n",
       "      <th>count</th>\n",
       "      <th>mean</th>\n",
       "      <th>std</th>\n",
       "      <th>min</th>\n",
       "      <th>max</th>\n",
       "    </tr>\n",
       "  </thead>\n",
       "  <tbody>\n",
       "    <tr>\n",
       "      <th>residential_difference</th>\n",
       "      <td>1791.0</td>\n",
       "      <td>2.133445</td>\n",
       "      <td>3.665566</td>\n",
       "      <td>-9.0</td>\n",
       "      <td>15.0</td>\n",
       "    </tr>\n",
       "    <tr>\n",
       "      <th>workplaces_difference</th>\n",
       "      <td>1759.0</td>\n",
       "      <td>-8.118249</td>\n",
       "      <td>10.484980</td>\n",
       "      <td>-61.0</td>\n",
       "      <td>28.0</td>\n",
       "    </tr>\n",
       "    <tr>\n",
       "      <th>transit_difference</th>\n",
       "      <td>1662.0</td>\n",
       "      <td>5.168472</td>\n",
       "      <td>21.301720</td>\n",
       "      <td>-75.0</td>\n",
       "      <td>101.0</td>\n",
       "    </tr>\n",
       "    <tr>\n",
       "      <th>grocery_pharm_difference</th>\n",
       "      <td>1757.0</td>\n",
       "      <td>2.492316</td>\n",
       "      <td>17.136514</td>\n",
       "      <td>-69.0</td>\n",
       "      <td>79.0</td>\n",
       "    </tr>\n",
       "    <tr>\n",
       "      <th>retail_rec_difference</th>\n",
       "      <td>1780.0</td>\n",
       "      <td>-0.416292</td>\n",
       "      <td>14.271804</td>\n",
       "      <td>-60.0</td>\n",
       "      <td>63.0</td>\n",
       "    </tr>\n",
       "    <tr>\n",
       "      <th>parks_difference</th>\n",
       "      <td>1717.0</td>\n",
       "      <td>42.682586</td>\n",
       "      <td>68.642591</td>\n",
       "      <td>-220.0</td>\n",
       "      <td>339.0</td>\n",
       "    </tr>\n",
       "  </tbody>\n",
       "</table>\n",
       "</div>"
      ],
      "text/plain": [
       "                           count       mean        std    min    max\n",
       "residential_difference    1791.0   2.133445   3.665566   -9.0   15.0\n",
       "workplaces_difference     1759.0  -8.118249  10.484980  -61.0   28.0\n",
       "transit_difference        1662.0   5.168472  21.301720  -75.0  101.0\n",
       "grocery_pharm_difference  1757.0   2.492316  17.136514  -69.0   79.0\n",
       "retail_rec_difference     1780.0  -0.416292  14.271804  -60.0   63.0\n",
       "parks_difference          1717.0  42.682586  68.642591 -220.0  339.0"
      ]
     },
     "execution_count": 341,
     "metadata": {},
     "output_type": "execute_result"
    }
   ],
   "source": [
    "df[['residential_difference', 'workplaces_difference', 'transit_difference', 'grocery_pharm_difference', 'retail_rec_difference', 'parks_difference']].describe().transpose()[['count', 'mean', 'std', 'min', 'max']]"
   ]
  },
  {
   "cell_type": "code",
   "execution_count": 344,
   "id": "e3a9075b-2e0d-49a9-81f9-30d085478721",
   "metadata": {},
   "outputs": [],
   "source": [
    "df.to_csv(f'/Users/shivyucel/Documents/projects/DPhil/Code_Data/data/paper2/france/THI_mobility_heat_w_vars_90_{SD}SD_precip.csv')"
   ]
  },
  {
   "cell_type": "code",
   "execution_count": null,
   "id": "fbc93c89",
   "metadata": {},
   "outputs": [],
   "source": []
  }
 ],
 "metadata": {
  "kernelspec": {
   "display_name": "ox",
   "language": "python",
   "name": "python3"
  },
  "language_info": {
   "codemirror_mode": {
    "name": "ipython",
    "version": 3
   },
   "file_extension": ".py",
   "mimetype": "text/x-python",
   "name": "python",
   "nbconvert_exporter": "python",
   "pygments_lexer": "ipython3",
   "version": "3.11.0"
  }
 },
 "nbformat": 4,
 "nbformat_minor": 5
}

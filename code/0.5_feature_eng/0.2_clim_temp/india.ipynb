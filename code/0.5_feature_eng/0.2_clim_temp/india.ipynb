{
 "cells": [
  {
   "cell_type": "code",
   "execution_count": 41,
   "id": "573448d3-bff1-4c76-95ab-66e2c0ffcf5e",
   "metadata": {},
   "outputs": [
    {
     "name": "stderr",
     "output_type": "stream",
     "text": [
      "/var/folders/8g/qp1k_1g91m5f2m9pypxwxdhh0000gn/T/ipykernel_52009/1208524283.py:8: DeprecationWarning: Please use `pearsonr` from the `scipy.stats` namespace, the `scipy.stats.stats` namespace is deprecated.\n",
      "  from scipy.stats.stats import pearsonr\n"
     ]
    }
   ],
   "source": [
    "import pandas as pd\n",
    "import geopandas as gpd\n",
    "import matplotlib.pyplot as plt\n",
    "import seaborn as sns\n",
    "sns.set_style('darkgrid')\n",
    "from scipy.stats import ttest_ind\n",
    "import numpy as np\n",
    "from scipy.stats.stats import pearsonr\n",
    "from IPython.display import display, Markdown, Latex\n",
    "plt.style.use('ggplot')\n",
    "from datetime import date\n",
    "data_path = '/Users/shivyucel/Documents/projects/DPhil/Code_Data/data/'\n",
    "import dask.dataframe as dd\n",
    "from scipy.stats import norm\n",
    "\n",
    "from sklearn.cluster import KMeans\n",
    "import numpy as np\n",
    "\n",
    "import pandas\n",
    "\n"
   ]
  },
  {
   "cell_type": "code",
   "execution_count": 42,
   "id": "b570e2d6-13d2-4644-ab17-30cd153c4369",
   "metadata": {},
   "outputs": [],
   "source": [
    "#load mobility and temperature data\n",
    "#load heatwave - control dataframe\n",
    "mobility_heat = pd.read_csv('/Users/shivyucel/Documents/projects/DPhil/Code_Data/data/paper2/india/THI_mobility_heat_clean_90.csv')\n",
    "heatwave_control = pd.read_csv('/Users/shivyucel/Documents/projects/DPhil/Code_Data/data/paper2/india/THI_heatwave_control_90.csv')"
   ]
  },
  {
   "cell_type": "code",
   "execution_count": 43,
   "id": "b78b05aa-5419-4e12-83d9-17f641e3d720",
   "metadata": {},
   "outputs": [],
   "source": [
    "mobility_heat['control_day'] = pd.to_datetime(mobility_heat['control_day'])\n",
    "mobility_heat['datetime'] = pd.to_datetime(mobility_heat['datetime'])"
   ]
  },
  {
   "cell_type": "markdown",
   "id": "d6383384-1d4f-4263-be2a-131c912ea065",
   "metadata": {},
   "source": [
    "## Build Intensity Variable\n"
   ]
  },
  {
   "cell_type": "code",
   "execution_count": 44,
   "id": "644b8382-82e3-4fcd-8caa-a3190d453c20",
   "metadata": {},
   "outputs": [],
   "source": [
    "full_df = pd.read_csv('/Users/shivyucel/Documents/projects/DPhil/Code_Data/data/THI/india/daily_max_THI.csv')\n",
    "\n",
    "full_df.rename(columns={'time': 'datetime'}, inplace=True)\n",
    "full_df['datetime'] = pd.to_datetime(full_df['datetime'])\n",
    "full_df['day'] = pd.DatetimeIndex(full_df['datetime']).day\n",
    "full_df['month'] = pd.DatetimeIndex(full_df['datetime']).month\n",
    "full_df['year'] = pd.DatetimeIndex(full_df['datetime']).year\n",
    "full_df.month.unique()\n",
    "full_df = full_df[~full_df['month'].isin([8, 9])]\n",
    "full_df['location'] = full_df['adm2'] + ', ' + full_df['adm1']\n",
    "full_df['datetime_ord'] = [date(x,y,z).toordinal() for x,y,z in zip(full_df['year'], full_df['month'], full_df['day'])]\n"
   ]
  },
  {
   "cell_type": "code",
   "execution_count": 45,
   "id": "f36ddc97-0791-494e-8523-4de93ed6d6fe",
   "metadata": {},
   "outputs": [],
   "source": [
    "#merge temperatures from control day onto mobility heat\n",
    "mobility_heat = mobility_heat.merge(full_df[['datetime', 'thi', 'location']], left_on=['location', 'control_day'], right_on=['location', 'datetime'], suffixes=('_heat', '_control'))"
   ]
  },
  {
   "cell_type": "code",
   "execution_count": 46,
   "id": "7f63c0c4-5b53-486c-99dd-20d83ea0ca1e",
   "metadata": {},
   "outputs": [
    {
     "data": {
      "text/plain": [
       "16.535180698741573"
      ]
     },
     "execution_count": 46,
     "metadata": {},
     "output_type": "execute_result"
    }
   ],
   "source": [
    "(mobility_heat['thi_heat'] - mobility_heat['thi_control']).max()"
   ]
  },
  {
   "cell_type": "code",
   "execution_count": 47,
   "id": "bf3baeb4-ea3f-412e-8823-da06167a80ae",
   "metadata": {},
   "outputs": [
    {
     "data": {
      "text/plain": [
       "array([[1.        , 0.93058852],\n",
       "       [0.93058852, 1.        ]])"
      ]
     },
     "execution_count": 47,
     "metadata": {},
     "output_type": "execute_result"
    }
   ],
   "source": [
    "np.corrcoef(mobility_heat['thi_heat'], mobility_heat['thi_control'])\n"
   ]
  },
  {
   "cell_type": "markdown",
   "id": "d7130df5-e000-4a2e-a594-631f56bc5c77",
   "metadata": {},
   "source": [
    "### Create/explore temperature difference variable"
   ]
  },
  {
   "cell_type": "code",
   "execution_count": 48,
   "id": "47677fbc-1454-40f6-a047-2e68c997f606",
   "metadata": {},
   "outputs": [],
   "source": [
    "mobility_heat['thi_diff'] = mobility_heat['thi_heat'] - mobility_heat['thi_control']"
   ]
  },
  {
   "cell_type": "code",
   "execution_count": 49,
   "id": "b3c0a5e6-f864-4450-816d-66bd2fbbae57",
   "metadata": {},
   "outputs": [
    {
     "data": {
      "text/plain": [
       "count    6318.000000\n",
       "mean        4.854015\n",
       "std         2.357966\n",
       "min         0.805934\n",
       "25%         2.974889\n",
       "50%         4.441723\n",
       "75%         6.434542\n",
       "max        16.535181\n",
       "Name: thi_diff, dtype: float64"
      ]
     },
     "execution_count": 49,
     "metadata": {},
     "output_type": "execute_result"
    }
   ],
   "source": [
    "mobility_heat['thi_diff'].describe()"
   ]
  },
  {
   "cell_type": "code",
   "execution_count": 50,
   "id": "42d6fcfa-7267-47e5-8c96-e77b6364e6e1",
   "metadata": {},
   "outputs": [
    {
     "data": {
      "image/png": "[encoded data removed]",
      "text/plain": [
       "<Figure size 640x480 with 1 Axes>"
      ]
     },
     "metadata": {},
     "output_type": "display_data"
    }
   ],
   "source": [
    "sns.histplot(mobility_heat, x='thi_diff')\n",
    "plt.title(\"Temperature Difference (heat wave vs. control)\")\n",
    "plt.tight_layout()\n",
    "plt.savefig(data_path + '/img/12_09_2023/india_temp_diff_dist.png')"
   ]
  },
  {
   "cell_type": "markdown",
   "id": "cdcdef52-b390-480a-913c-84afafbcdb86",
   "metadata": {
    "tags": []
   },
   "source": [
    "### Build Duration Variable\n",
    "* Duration of heat wave (in days)\n",
    "* Build variable showing which day of a heatwave it is"
   ]
  },
  {
   "cell_type": "code",
   "execution_count": 51,
   "id": "7a174ab2-4ad8-4168-8320-6cda5baf8da2",
   "metadata": {},
   "outputs": [],
   "source": [
    "# Formatting column names and merging dataframes"
   ]
  },
  {
   "cell_type": "code",
   "execution_count": 52,
   "id": "5305b515-d4ea-4bd1-994e-e43535a4a3b8",
   "metadata": {},
   "outputs": [],
   "source": [
    "heatwave_control.sort_values(by='Heat Wave Duration', inplace=True)"
   ]
  },
  {
   "cell_type": "code",
   "execution_count": 53,
   "id": "e7fc1039-30fe-4c14-a5d5-fb42e7c7cd43",
   "metadata": {},
   "outputs": [],
   "source": [
    "duration_IDs = heatwave_control.drop_duplicates('heat_ID')[['heat_ID', 'Heat Wave Duration']  ]             "
   ]
  },
  {
   "cell_type": "code",
   "execution_count": 54,
   "id": "fcb9782a-1fc7-4d8e-bb94-743011143a9a",
   "metadata": {},
   "outputs": [],
   "source": [
    "duration_IDs.columns = ['heat_ID', 'Heat Wave Duration']"
   ]
  },
  {
   "cell_type": "code",
   "execution_count": 55,
   "id": "91e206b7-f20d-4eb8-837e-cff45d8c0f3d",
   "metadata": {},
   "outputs": [
    {
     "data": {
      "text/html": [
       "<div>\n",
       "<style scoped>\n",
       "    .dataframe tbody tr th:only-of-type {\n",
       "        vertical-align: middle;\n",
       "    }\n",
       "\n",
       "    .dataframe tbody tr th {\n",
       "        vertical-align: top;\n",
       "    }\n",
       "\n",
       "    .dataframe thead th {\n",
       "        text-align: right;\n",
       "    }\n",
       "</style>\n",
       "<table border=\"1\" class=\"dataframe\">\n",
       "  <thead>\n",
       "    <tr style=\"text-align: right;\">\n",
       "      <th></th>\n",
       "      <th>heat_ID</th>\n",
       "      <th>Heat Wave Duration</th>\n",
       "    </tr>\n",
       "  </thead>\n",
       "  <tbody>\n",
       "    <tr>\n",
       "      <th>3787</th>\n",
       "      <td>9a58da7a-b3e8-487e-8572-9e26f4e91174</td>\n",
       "      <td>2.0</td>\n",
       "    </tr>\n",
       "    <tr>\n",
       "      <th>2003</th>\n",
       "      <td>2ed05498-ff19-43ae-8a62-4f69a2a99556</td>\n",
       "      <td>2.0</td>\n",
       "    </tr>\n",
       "    <tr>\n",
       "      <th>2005</th>\n",
       "      <td>17773d21-3363-4177-a20c-51a049e8ae30</td>\n",
       "      <td>2.0</td>\n",
       "    </tr>\n",
       "    <tr>\n",
       "      <th>2007</th>\n",
       "      <td>1ada4cc7-6b11-4cf2-bab4-874e409e8ee9</td>\n",
       "      <td>2.0</td>\n",
       "    </tr>\n",
       "    <tr>\n",
       "      <th>2009</th>\n",
       "      <td>bc0330ae-c639-4ead-8c6a-3c543db23007</td>\n",
       "      <td>2.0</td>\n",
       "    </tr>\n",
       "  </tbody>\n",
       "</table>\n",
       "</div>"
      ],
      "text/plain": [
       "                                   heat_ID  Heat Wave Duration\n",
       "3787  9a58da7a-b3e8-487e-8572-9e26f4e91174                 2.0\n",
       "2003  2ed05498-ff19-43ae-8a62-4f69a2a99556                 2.0\n",
       "2005  17773d21-3363-4177-a20c-51a049e8ae30                 2.0\n",
       "2007  1ada4cc7-6b11-4cf2-bab4-874e409e8ee9                 2.0\n",
       "2009  bc0330ae-c639-4ead-8c6a-3c543db23007                 2.0"
      ]
     },
     "execution_count": 55,
     "metadata": {},
     "output_type": "execute_result"
    }
   ],
   "source": [
    "duration_IDs.head()"
   ]
  },
  {
   "cell_type": "code",
   "execution_count": 56,
   "id": "2422a2cc-6eab-4de8-83a0-ee516765fad7",
   "metadata": {},
   "outputs": [
    {
     "data": {
      "text/plain": [
       "count    1904.000000\n",
       "mean        4.026786\n",
       "std         2.939362\n",
       "min         2.000000\n",
       "25%         2.000000\n",
       "50%         3.000000\n",
       "75%         5.000000\n",
       "max        19.000000\n",
       "Name: Heat Wave Duration, dtype: float64"
      ]
     },
     "execution_count": 56,
     "metadata": {},
     "output_type": "execute_result"
    }
   ],
   "source": [
    "duration_IDs['Heat Wave Duration'].describe()"
   ]
  },
  {
   "cell_type": "code",
   "execution_count": 57,
   "id": "70934a3f-f277-4c84-a7fb-26ed5415dd75",
   "metadata": {
    "tags": []
   },
   "outputs": [],
   "source": [
    "#drop original heatwave duration variable\n",
    "heatwave_control.drop('Heat Wave Duration', axis=1, inplace=True)"
   ]
  },
  {
   "cell_type": "code",
   "execution_count": 58,
   "id": "646127dc-0865-4e04-9f9b-ea7893a94b05",
   "metadata": {},
   "outputs": [],
   "source": [
    "#merge duration ID dataframe onto heatwave control\n",
    "heatwave_control = heatwave_control.merge(duration_IDs, on='heat_ID', how='left')"
   ]
  },
  {
   "cell_type": "code",
   "execution_count": 59,
   "id": "345d8f68-bccd-479d-a538-41487b1fd7b3",
   "metadata": {},
   "outputs": [],
   "source": [
    "heatwave_control.drop_duplicates(['location', 'datetime'], inplace=True)"
   ]
  },
  {
   "cell_type": "code",
   "execution_count": 60,
   "id": "77e107d6-21da-40c5-b92a-bb1a1d2d2305",
   "metadata": {},
   "outputs": [],
   "source": [
    "heatwave_control['dur_ranking'] = heatwave_control['Heat Wave Duration'].rank(pct=True)"
   ]
  },
  {
   "cell_type": "code",
   "execution_count": 61,
   "id": "1fa407d0-16ca-4ac5-85d4-3e286fcc418c",
   "metadata": {},
   "outputs": [],
   "source": [
    "#groupby each heatwave, sort by date, assign increasing rank for each passing day\n",
    "heat_stage = heatwave_control.groupby('heat_ID').apply(lambda x: x.datetime.sort_values().rank()).reset_index()"
   ]
  },
  {
   "cell_type": "code",
   "execution_count": 62,
   "id": "761d5fe0-cb1e-4bbf-aa79-906778177dac",
   "metadata": {},
   "outputs": [],
   "source": [
    "heat_stage.columns=['heat_ID', 'index', 'stage']"
   ]
  },
  {
   "cell_type": "code",
   "execution_count": 63,
   "id": "ef203e1e-14d0-4eeb-97bf-6e41041db29e",
   "metadata": {},
   "outputs": [
    {
     "data": {
      "text/plain": [
       "19.0"
      ]
     },
     "execution_count": 63,
     "metadata": {},
     "output_type": "execute_result"
    }
   ],
   "source": [
    "heat_stage['stage'].max()"
   ]
  },
  {
   "cell_type": "code",
   "execution_count": 64,
   "id": "03545e91-0351-43a8-b042-08025947190a",
   "metadata": {},
   "outputs": [],
   "source": [
    "x = heat_stage.merge(duration_IDs, on='heat_ID')"
   ]
  },
  {
   "cell_type": "code",
   "execution_count": 65,
   "id": "c835d2a5-8259-4981-9813-a26235e21c85",
   "metadata": {},
   "outputs": [],
   "source": [
    "heatwave_control.drop('index', axis=1, inplace=True)"
   ]
  },
  {
   "cell_type": "code",
   "execution_count": 66,
   "id": "2e537248-872e-46fe-94a5-ed74c39fc4c3",
   "metadata": {},
   "outputs": [],
   "source": [
    "heatwave_control.reset_index(inplace=True)"
   ]
  },
  {
   "cell_type": "code",
   "execution_count": 67,
   "id": "ce661219-20ba-4e42-843e-7c77234441ae",
   "metadata": {},
   "outputs": [],
   "source": [
    "heatwave_control = heatwave_control.merge(heat_stage, on=['index', 'heat_ID'])"
   ]
  },
  {
   "cell_type": "code",
   "execution_count": 68,
   "id": "b1ba88e1-b48c-4691-8a68-5302d6f67e5c",
   "metadata": {},
   "outputs": [],
   "source": [
    "heatwave_control['datetime'] = pd.to_datetime(heatwave_control['datetime'])"
   ]
  },
  {
   "cell_type": "code",
   "execution_count": 69,
   "id": "72251ff1-be82-48f8-8ad2-04e599ce51ba",
   "metadata": {},
   "outputs": [
    {
     "data": {
      "text/plain": [
       "19.0"
      ]
     },
     "execution_count": 69,
     "metadata": {},
     "output_type": "execute_result"
    }
   ],
   "source": [
    "heatwave_control['stage'].max()"
   ]
  },
  {
   "cell_type": "code",
   "execution_count": 70,
   "id": "8f5613e0-eebd-4c77-9468-982bd7dac05a",
   "metadata": {},
   "outputs": [],
   "source": [
    "mobility_heat['date_heat'] = pd.to_datetime(mobility_heat['date_heat'])"
   ]
  },
  {
   "cell_type": "code",
   "execution_count": 71,
   "id": "f977f5f5-2190-4ae8-9eff-298fa0dd78ab",
   "metadata": {},
   "outputs": [],
   "source": [
    "#merge temporal variables into mobility_heat\n",
    "\n",
    "mobility_heat = mobility_heat.merge(heatwave_control[['location', 'datetime', 'Heat Wave Duration', 'dur_ranking', 'stage']], left_on=['location', 'date_heat'], right_on=['location', 'datetime'])"
   ]
  },
  {
   "cell_type": "code",
   "execution_count": 72,
   "id": "835ba190-31f1-477d-9e6f-6ecd47e83487",
   "metadata": {},
   "outputs": [],
   "source": [
    "mobility_heat.reset_index(inplace=True)"
   ]
  },
  {
   "cell_type": "code",
   "execution_count": 73,
   "id": "9904ecfe-a927-4fe6-9b6e-a77dbe91a4a3",
   "metadata": {},
   "outputs": [],
   "source": [
    "mobility_heat['month'] = [x.month for x in mobility_heat['datetime']]"
   ]
  },
  {
   "cell_type": "code",
   "execution_count": 74,
   "id": "d7f19495-27bc-4199-8098-222d88330847",
   "metadata": {},
   "outputs": [
    {
     "data": {
      "text/plain": [
       "array([6, 7, 5, 4])"
      ]
     },
     "execution_count": 74,
     "metadata": {},
     "output_type": "execute_result"
    }
   ],
   "source": [
    "mobility_heat['month'].unique()"
   ]
  },
  {
   "cell_type": "code",
   "execution_count": 78,
   "id": "f1c56957-1317-4ff6-94a5-2afd7f71e0c1",
   "metadata": {},
   "outputs": [
    {
     "data": {
      "text/plain": [
       "count    1613.000000\n",
       "mean        3.926224\n",
       "std         2.776432\n",
       "min         2.000000\n",
       "25%         2.000000\n",
       "50%         3.000000\n",
       "75%         4.000000\n",
       "max        19.000000\n",
       "Name: Heat Wave Duration, dtype: float64"
      ]
     },
     "execution_count": 78,
     "metadata": {},
     "output_type": "execute_result"
    }
   ],
   "source": [
    "# format final variables\n",
    "mobility_heat['stage_frac'] = (mobility_heat['stage'] / mobility_heat['Heat Wave Duration'] )\n",
    "mobility_heat.drop_duplicates('heat_ID')['Heat Wave Duration'].describe()\n"
   ]
  },
  {
   "cell_type": "code",
   "execution_count": 79,
   "id": "86a91869",
   "metadata": {},
   "outputs": [],
   "source": [
    "mobility_heat['heatwave_dur'] = mobility_heat['Heat Wave Duration'] >= 4"
   ]
  },
  {
   "cell_type": "code",
   "execution_count": 80,
   "id": "62cfdc42-f1f9-4541-8e7f-271f886547bd",
   "metadata": {},
   "outputs": [],
   "source": [
    "mobility_heat['month'] = [x.month for x in pd.to_datetime(mobility_heat['date_control'])]"
   ]
  },
  {
   "cell_type": "code",
   "execution_count": 81,
   "id": "b4277560-2c20-4e18-a210-141686a22d73",
   "metadata": {},
   "outputs": [],
   "source": [
    "mobility_heat['date_control'] = pd.to_datetime(mobility_heat['date_control'])"
   ]
  },
  {
   "cell_type": "markdown",
   "id": "4150163a-09af-4e14-a8b5-7152bf0208e2",
   "metadata": {},
   "source": [
    "## Merge social and physical variables"
   ]
  },
  {
   "cell_type": "code",
   "execution_count": 82,
   "id": "1aca7e7b-3b9a-417e-b7f1-54ff95755a90",
   "metadata": {},
   "outputs": [],
   "source": [
    "soc_phys = gpd.read_file('/Users/shivyucel/Documents/projects/DPhil/Code_Data/data/physical/india/merged.shp')"
   ]
  },
  {
   "cell_type": "code",
   "execution_count": 83,
   "id": "4a0d35a3-a453-44e4-9bd2-b6944ec1b7ef",
   "metadata": {},
   "outputs": [],
   "source": [
    "mobility_heat= mobility_heat.merge(soc_phys[['location', 'mean_elev', 'coast', 'HDI_dec', 'popdens_de', 'over60_dec']], on='location')"
   ]
  },
  {
   "cell_type": "code",
   "execution_count": 84,
   "id": "7a976c7c-5418-4905-b0a0-05f4d32d2661",
   "metadata": {},
   "outputs": [],
   "source": [
    "mobility_heat['elev_1500m'] = mobility_heat['mean_elev'] >= 1500"
   ]
  },
  {
   "cell_type": "code",
   "execution_count": 85,
   "id": "69edee76-207e-49fa-aae0-e4f07b72ebbf",
   "metadata": {},
   "outputs": [],
   "source": [
    "mobility_heat['elev_1500m'] = mobility_heat['elev_1500m'] * 1"
   ]
  },
  {
   "cell_type": "markdown",
   "id": "45a7e265-91b4-44ec-b0c6-d4783f8b5f50",
   "metadata": {},
   "source": [
    "### Remove holidays "
   ]
  },
  {
   "cell_type": "code",
   "execution_count": 86,
   "id": "6c891987-6e97-4d7d-bb97-53bdb9cf06ba",
   "metadata": {},
   "outputs": [],
   "source": [
    "import requests"
   ]
  },
  {
   "cell_type": "code",
   "execution_count": 87,
   "id": "2f119365-1916-4f67-8901-ed13a6fc5c91",
   "metadata": {},
   "outputs": [],
   "source": [
    "hols_2022 = pd.DataFrame(requests.get(\"https://date.nager.at/api/v3/publicholidays/2022/ID\").json())\n",
    "hols_2022['date'] = pd.to_datetime(hols_2022['date'])"
   ]
  },
  {
   "cell_type": "code",
   "execution_count": 88,
   "id": "e58d64ff-f119-4160-85f1-d721a8d9cc40",
   "metadata": {},
   "outputs": [],
   "source": [
    "mobility_heat = mobility_heat[~mobility_heat['datetime_heat'].isin(hols_2022['date'].values)]\n",
    "mobility_heat = mobility_heat[~mobility_heat['datetime_control'].isin(hols_2022['date'].values)]"
   ]
  },
  {
   "cell_type": "markdown",
   "id": "d80629ad",
   "metadata": {},
   "source": [
    "## Normalized rain variable for heatwave and control day"
   ]
  },
  {
   "cell_type": "code",
   "execution_count": 89,
   "id": "c4df4b59",
   "metadata": {},
   "outputs": [],
   "source": [
    "precip = pd.read_csv('/Users/shivyucel/Documents/projects/DPhil/Code_Data/data/precipitation/india/daily_sum_precipitation.csv')\n",
    "precip.rename(columns={'valid_time': 'time'}, inplace=True)\n",
    "precip['time'] = pd.to_datetime(precip['time'])"
   ]
  },
  {
   "cell_type": "code",
   "execution_count": 90,
   "id": "d06bee42",
   "metadata": {},
   "outputs": [],
   "source": [
    "gdf = gpd.read_file('/Users/shivyucel/Documents/projects/DPhil/Code_Data/data/adm0_shp/india/clean_shp.shp')\n",
    "gdf['location'] = gdf['adm2'] + ', ' + gdf['adm1']\n",
    "gdf.to_crs(epsg='3857', inplace=True)\n",
    "gdf['area'] = [x.area for x in gdf['geometry']]"
   ]
  },
  {
   "cell_type": "code",
   "execution_count": 91,
   "id": "855e8316",
   "metadata": {},
   "outputs": [],
   "source": [
    "#area from m --> km\n",
    "#rain from m --> mm\n",
    "precip['daily_precipitation'] = precip['daily_precipitation'] * 1000\n",
    "gdf['area'] = gdf['area'] / 1000"
   ]
  },
  {
   "cell_type": "code",
   "execution_count": 92,
   "id": "0f744560",
   "metadata": {},
   "outputs": [],
   "source": [
    "precip = precip.merge(gdf[['location', 'area']], on='location')\n",
    "precip['rain_normed'] = (precip['daily_precipitation'] / precip['area']) "
   ]
  },
  {
   "cell_type": "code",
   "execution_count": 93,
   "id": "1543b5fc",
   "metadata": {},
   "outputs": [],
   "source": [
    "precip['rain_standard'] = precip.groupby('location')['rain_normed'].rank(pct=True) * 100"
   ]
  },
  {
   "cell_type": "markdown",
   "id": "48bfc0d9",
   "metadata": {},
   "source": [
    "### Control day rain dummy"
   ]
  },
  {
   "cell_type": "code",
   "execution_count": 94,
   "id": "f2279377",
   "metadata": {},
   "outputs": [],
   "source": [
    "mobility_heat = mobility_heat.merge(precip[['time', 'adm1', 'adm2', 'rain_standard']], left_on=['control_day', 'adm1', 'adm2'], right_on=['time', 'adm1', 'adm2'])"
   ]
  },
  {
   "cell_type": "code",
   "execution_count": 95,
   "id": "861c3340",
   "metadata": {},
   "outputs": [],
   "source": [
    "mobility_heat.rename(columns={'rain_standard': \"rain_standard_control\"}, inplace=True)"
   ]
  },
  {
   "cell_type": "markdown",
   "id": "aa656ae4",
   "metadata": {},
   "source": [
    "### Heatwave day rain dummy"
   ]
  },
  {
   "cell_type": "code",
   "execution_count": 96,
   "id": "ced2a9ff",
   "metadata": {},
   "outputs": [],
   "source": [
    "mobility_heat = mobility_heat.merge(precip[['time', 'adm1', 'adm2', 'rain_standard']], left_on=['date_heat', 'adm1', 'adm2'], right_on=['time', 'adm1', 'adm2'])"
   ]
  },
  {
   "cell_type": "code",
   "execution_count": 97,
   "id": "07ba8e19",
   "metadata": {},
   "outputs": [],
   "source": [
    "mobility_heat.rename(columns={'rain_standard': \"rain_standard_heat\"}, inplace=True)"
   ]
  },
  {
   "cell_type": "markdown",
   "id": "d0dab0cf-08d9-4ad8-8dfb-14b8a4e639c9",
   "metadata": {},
   "source": [
    "### Prepare final dataset"
   ]
  },
  {
   "cell_type": "code",
   "execution_count": 98,
   "id": "c062a261-65a5-43ab-a792-49f3a0f08b69",
   "metadata": {},
   "outputs": [],
   "source": [
    "df = mobility_heat.copy()"
   ]
  },
  {
   "cell_type": "code",
   "execution_count": 99,
   "id": "d11dc520-00bc-4391-8ae8-6e171f2521cf",
   "metadata": {},
   "outputs": [],
   "source": [
    "df = df[df['mean_elev'] <= 2500]"
   ]
  },
  {
   "cell_type": "code",
   "execution_count": 100,
   "id": "d31c1aeb-871a-4d19-ae60-e6485fb7b69d",
   "metadata": {},
   "outputs": [],
   "source": [
    "#set outlier cutoff (how many SDs away from mean)\n",
    "SD = 4"
   ]
  },
  {
   "cell_type": "code",
   "execution_count": 102,
   "id": "29bd7938-76cd-4433-bb7c-e62e11e6ced3",
   "metadata": {},
   "outputs": [],
   "source": [
    "for variable in ['workplace_difference', 'residential_difference', 'grocery_pharm_difference', 'parks_difference', 'retail_rec_difference', 'transit_difference']:\n",
    "    \n",
    "    df[variable] = [np.nan if (x >= df[variable].mean() + (SD * df[variable].std())) | (x <= df[variable].mean() - (SD * df[variable].std())) else x for x in df[variable] ]\n",
    "    \n",
    "\n",
    "    #v13\n",
    "df.dropna(how='all', subset=['workplace_difference', 'residential_difference', 'transit_difference', 'grocery_pharm_difference', 'parks_difference', 'retail_rec_difference'], inplace=True)"
   ]
  },
  {
   "cell_type": "code",
   "execution_count": 103,
   "id": "492ba64c-3304-400e-a654-e02cf22c94e1",
   "metadata": {},
   "outputs": [],
   "source": [
    "df = df.iloc[:, 3:]\n",
    "df['index'] = range(0, len(df))"
   ]
  },
  {
   "cell_type": "code",
   "execution_count": 104,
   "id": "595439ab-11e0-4791-a993-11ceeddf23d6",
   "metadata": {},
   "outputs": [],
   "source": [
    "df.reset_index(inplace=True)"
   ]
  },
  {
   "cell_type": "code",
   "execution_count": 105,
   "id": "c6a0e5cf-ae11-4c37-b8a8-edb599c40cef",
   "metadata": {},
   "outputs": [
    {
     "data": {
      "text/html": [
       "<div>\n",
       "<style scoped>\n",
       "    .dataframe tbody tr th:only-of-type {\n",
       "        vertical-align: middle;\n",
       "    }\n",
       "\n",
       "    .dataframe tbody tr th {\n",
       "        vertical-align: top;\n",
       "    }\n",
       "\n",
       "    .dataframe thead th {\n",
       "        text-align: right;\n",
       "    }\n",
       "</style>\n",
       "<table border=\"1\" class=\"dataframe\">\n",
       "  <thead>\n",
       "    <tr style=\"text-align: right;\">\n",
       "      <th></th>\n",
       "      <th>count</th>\n",
       "      <th>mean</th>\n",
       "      <th>std</th>\n",
       "      <th>min</th>\n",
       "      <th>max</th>\n",
       "    </tr>\n",
       "  </thead>\n",
       "  <tbody>\n",
       "    <tr>\n",
       "      <th>residential_difference</th>\n",
       "      <td>5417.0</td>\n",
       "      <td>0.123500</td>\n",
       "      <td>2.146516</td>\n",
       "      <td>-11.0</td>\n",
       "      <td>11.0</td>\n",
       "    </tr>\n",
       "    <tr>\n",
       "      <th>workplace_difference</th>\n",
       "      <td>5708.0</td>\n",
       "      <td>-1.720217</td>\n",
       "      <td>11.802506</td>\n",
       "      <td>-56.0</td>\n",
       "      <td>50.0</td>\n",
       "    </tr>\n",
       "    <tr>\n",
       "      <th>transit_difference</th>\n",
       "      <td>5320.0</td>\n",
       "      <td>0.659398</td>\n",
       "      <td>12.322703</td>\n",
       "      <td>-61.0</td>\n",
       "      <td>57.0</td>\n",
       "    </tr>\n",
       "    <tr>\n",
       "      <th>grocery_pharm_difference</th>\n",
       "      <td>4729.0</td>\n",
       "      <td>-3.588708</td>\n",
       "      <td>15.612434</td>\n",
       "      <td>-77.0</td>\n",
       "      <td>70.0</td>\n",
       "    </tr>\n",
       "    <tr>\n",
       "      <th>retail_rec_difference</th>\n",
       "      <td>5319.0</td>\n",
       "      <td>-2.823651</td>\n",
       "      <td>11.751698</td>\n",
       "      <td>-56.0</td>\n",
       "      <td>51.0</td>\n",
       "    </tr>\n",
       "    <tr>\n",
       "      <th>parks_difference</th>\n",
       "      <td>5058.0</td>\n",
       "      <td>0.550217</td>\n",
       "      <td>19.085156</td>\n",
       "      <td>-92.0</td>\n",
       "      <td>92.0</td>\n",
       "    </tr>\n",
       "  </tbody>\n",
       "</table>\n",
       "</div>"
      ],
      "text/plain": [
       "                           count      mean        std   min   max\n",
       "residential_difference    5417.0  0.123500   2.146516 -11.0  11.0\n",
       "workplace_difference      5708.0 -1.720217  11.802506 -56.0  50.0\n",
       "transit_difference        5320.0  0.659398  12.322703 -61.0  57.0\n",
       "grocery_pharm_difference  4729.0 -3.588708  15.612434 -77.0  70.0\n",
       "retail_rec_difference     5319.0 -2.823651  11.751698 -56.0  51.0\n",
       "parks_difference          5058.0  0.550217  19.085156 -92.0  92.0"
      ]
     },
     "execution_count": 105,
     "metadata": {},
     "output_type": "execute_result"
    }
   ],
   "source": [
    "df[['residential_difference', 'workplace_difference', 'transit_difference', 'grocery_pharm_difference', 'retail_rec_difference', 'parks_difference']].describe().transpose()[['count', 'mean', 'std', 'min', 'max']]"
   ]
  },
  {
   "cell_type": "code",
   "execution_count": 106,
   "id": "82fffcd1-53b7-4c30-b5f6-b9a3461ccb18",
   "metadata": {},
   "outputs": [],
   "source": [
    "df.rename(columns={'workplace_difference': 'workplaces_difference'}, inplace=True)"
   ]
  },
  {
   "cell_type": "code",
   "execution_count": 107,
   "id": "af4b8ccd-b99c-4371-acaa-602f7b2375d6",
   "metadata": {},
   "outputs": [],
   "source": [
    "df.to_csv(f'/Users/shivyucel/Documents/projects/DPhil/Code_Data/data/paper2/india/THI_mobility_heat_w_vars_90_{SD}SD_precip.csv')"
   ]
  },
  {
   "cell_type": "code",
   "execution_count": 167,
   "id": "7d921413-a0f5-4f1c-9ea0-043067ed7bab",
   "metadata": {},
   "outputs": [],
   "source": [
    "plt.rcParams[\"image.cmap\"] = 'Reds'\n",
    "\n"
   ]
  },
  {
   "cell_type": "code",
   "execution_count": 168,
   "id": "976c0748-fc09-494d-be10-dcc8a3b1ae72",
   "metadata": {},
   "outputs": [
    {
     "data": {
      "text/html": [
       "<style type=\"text/css\">\n",
       "#T_855d1_row0_col0, #T_855d1_row3_col4 {\n",
       "  background-color: #ce1a1e;\n",
       "  color: #f1f1f1;\n",
       "}\n",
       "#T_855d1_row0_col1 {\n",
       "  background-color: #f24734;\n",
       "  color: #f1f1f1;\n",
       "}\n",
       "#T_855d1_row0_col2, #T_855d1_row0_col4, #T_855d1_row1_col1, #T_855d1_row3_col0, #T_855d1_row5_col3 {\n",
       "  background-color: #fff5f0;\n",
       "  color: #000000;\n",
       "}\n",
       "#T_855d1_row0_col3, #T_855d1_row1_col0, #T_855d1_row2_col1, #T_855d1_row5_col2, #T_855d1_row5_col4 {\n",
       "  background-color: #67000d;\n",
       "  color: #f1f1f1;\n",
       "}\n",
       "#T_855d1_row1_col2 {\n",
       "  background-color: #f4503a;\n",
       "  color: #f1f1f1;\n",
       "}\n",
       "#T_855d1_row1_col3 {\n",
       "  background-color: #fc9777;\n",
       "  color: #000000;\n",
       "}\n",
       "#T_855d1_row1_col4 {\n",
       "  background-color: #f96245;\n",
       "  color: #f1f1f1;\n",
       "}\n",
       "#T_855d1_row2_col0 {\n",
       "  background-color: #de2b25;\n",
       "  color: #f1f1f1;\n",
       "}\n",
       "#T_855d1_row2_col2 {\n",
       "  background-color: #ea362a;\n",
       "  color: #f1f1f1;\n",
       "}\n",
       "#T_855d1_row2_col3 {\n",
       "  background-color: #fc9272;\n",
       "  color: #000000;\n",
       "}\n",
       "#T_855d1_row2_col4, #T_855d1_row4_col0 {\n",
       "  background-color: #e93529;\n",
       "  color: #f1f1f1;\n",
       "}\n",
       "#T_855d1_row3_col1, #T_855d1_row5_col0 {\n",
       "  background-color: #fca588;\n",
       "  color: #000000;\n",
       "}\n",
       "#T_855d1_row3_col2 {\n",
       "  background-color: #be151a;\n",
       "  color: #f1f1f1;\n",
       "}\n",
       "#T_855d1_row3_col3 {\n",
       "  background-color: #fdd0bc;\n",
       "  color: #000000;\n",
       "}\n",
       "#T_855d1_row4_col1 {\n",
       "  background-color: #fc8f6f;\n",
       "  color: #000000;\n",
       "}\n",
       "#T_855d1_row4_col2 {\n",
       "  background-color: #f75c41;\n",
       "  color: #f1f1f1;\n",
       "}\n",
       "#T_855d1_row4_col3 {\n",
       "  background-color: #fb7c5c;\n",
       "  color: #f1f1f1;\n",
       "}\n",
       "#T_855d1_row4_col4 {\n",
       "  background-color: #fb6c4c;\n",
       "  color: #f1f1f1;\n",
       "}\n",
       "#T_855d1_row5_col1 {\n",
       "  background-color: #7e0610;\n",
       "  color: #f1f1f1;\n",
       "}\n",
       "</style>\n",
       "<table id=\"T_855d1\">\n",
       "  <thead>\n",
       "    <tr>\n",
       "      <th class=\"blank level0\" >&nbsp;</th>\n",
       "      <th id=\"T_855d1_level0_col0\" class=\"col_heading level0 col0\" >count</th>\n",
       "      <th id=\"T_855d1_level0_col1\" class=\"col_heading level0 col1\" >mean</th>\n",
       "      <th id=\"T_855d1_level0_col2\" class=\"col_heading level0 col2\" >std</th>\n",
       "      <th id=\"T_855d1_level0_col3\" class=\"col_heading level0 col3\" >min</th>\n",
       "      <th id=\"T_855d1_level0_col4\" class=\"col_heading level0 col4\" >max</th>\n",
       "    </tr>\n",
       "  </thead>\n",
       "  <tbody>\n",
       "    <tr>\n",
       "      <th id=\"T_855d1_level0_row0\" class=\"row_heading level0 row0\" >residential_difference</th>\n",
       "      <td id=\"T_855d1_row0_col0\" class=\"data row0 col0\" >9919.000000</td>\n",
       "      <td id=\"T_855d1_row0_col1\" class=\"data row0 col1\" >0.184898</td>\n",
       "      <td id=\"T_855d1_row0_col2\" class=\"data row0 col2\" >2.068959</td>\n",
       "      <td id=\"T_855d1_row0_col3\" class=\"data row0 col3\" >-8.000000</td>\n",
       "      <td id=\"T_855d1_row0_col4\" class=\"data row0 col4\" >8.000000</td>\n",
       "    </tr>\n",
       "    <tr>\n",
       "      <th id=\"T_855d1_level0_row1\" class=\"row_heading level0 row1\" >workplace_difference</th>\n",
       "      <td id=\"T_855d1_row1_col0\" class=\"data row1 col0\" >10292.000000</td>\n",
       "      <td id=\"T_855d1_row1_col1\" class=\"data row1 col1\" >-2.599786</td>\n",
       "      <td id=\"T_855d1_row1_col2\" class=\"data row1 col2\" >10.676353</td>\n",
       "      <td id=\"T_855d1_row1_col3\" class=\"data row1 col3\" >-47.000000</td>\n",
       "      <td id=\"T_855d1_row1_col4\" class=\"data row1 col4\" >42.000000</td>\n",
       "    </tr>\n",
       "    <tr>\n",
       "      <th id=\"T_855d1_level0_row2\" class=\"row_heading level0 row2\" >transit_difference</th>\n",
       "      <td id=\"T_855d1_row2_col0\" class=\"data row2 col0\" >9835.000000</td>\n",
       "      <td id=\"T_855d1_row2_col1\" class=\"data row2 col1\" >2.097407</td>\n",
       "      <td id=\"T_855d1_row2_col2\" class=\"data row2 col2\" >11.792183</td>\n",
       "      <td id=\"T_855d1_row2_col3\" class=\"data row2 col3\" >-46.000000</td>\n",
       "      <td id=\"T_855d1_row2_col4\" class=\"data row2 col4\" >50.000000</td>\n",
       "    </tr>\n",
       "    <tr>\n",
       "      <th id=\"T_855d1_level0_row3\" class=\"row_heading level0 row3\" >grocery_pharm_difference</th>\n",
       "      <td id=\"T_855d1_row3_col0\" class=\"data row3 col0\" >8863.000000</td>\n",
       "      <td id=\"T_855d1_row3_col1\" class=\"data row3 col1\" >-1.103802</td>\n",
       "      <td id=\"T_855d1_row3_col2\" class=\"data row3 col2\" >14.034079</td>\n",
       "      <td id=\"T_855d1_row3_col3\" class=\"data row3 col3\" >-58.000000</td>\n",
       "      <td id=\"T_855d1_row3_col4\" class=\"data row3 col4\" >56.000000</td>\n",
       "    </tr>\n",
       "    <tr>\n",
       "      <th id=\"T_855d1_level0_row4\" class=\"row_heading level0 row4\" >retail_rec_difference</th>\n",
       "      <td id=\"T_855d1_row4_col0\" class=\"data row4 col0\" >9789.000000</td>\n",
       "      <td id=\"T_855d1_row4_col1\" class=\"data row4 col1\" >-0.795689</td>\n",
       "      <td id=\"T_855d1_row4_col2\" class=\"data row4 col2\" >10.236593</td>\n",
       "      <td id=\"T_855d1_row4_col3\" class=\"data row4 col3\" >-42.000000</td>\n",
       "      <td id=\"T_855d1_row4_col4\" class=\"data row4 col4\" >40.000000</td>\n",
       "    </tr>\n",
       "    <tr>\n",
       "      <th id=\"T_855d1_level0_row5\" class=\"row_heading level0 row5\" >parks_difference</th>\n",
       "      <td id=\"T_855d1_row5_col0\" class=\"data row5 col0\" >9318.000000</td>\n",
       "      <td id=\"T_855d1_row5_col1\" class=\"data row5 col1\" >1.875402</td>\n",
       "      <td id=\"T_855d1_row5_col2\" class=\"data row5 col2\" >17.225862</td>\n",
       "      <td id=\"T_855d1_row5_col3\" class=\"data row5 col3\" >-69.000000</td>\n",
       "      <td id=\"T_855d1_row5_col4\" class=\"data row5 col4\" >73.000000</td>\n",
       "    </tr>\n",
       "  </tbody>\n",
       "</table>\n"
      ],
      "text/plain": [
       "<pandas.io.formats.style.Styler at 0x191937e50>"
      ]
     },
     "execution_count": 168,
     "metadata": {},
     "output_type": "execute_result"
    }
   ],
   "source": [
    "df[['residential_difference', 'workplace_difference', 'transit_difference', 'grocery_pharm_difference', 'retail_rec_difference', 'parks_difference']].describe().transpose()[['count', 'mean', 'std', 'min', 'max']].style.background_gradient(cmap=None)"
   ]
  },
  {
   "cell_type": "code",
   "execution_count": 3,
   "id": "acb45164",
   "metadata": {},
   "outputs": [],
   "source": [
    "df = pd.read_csv(f'/Users/shivyucel/Documents/projects/DPhil/Code_Data/data/paper2/india/THI_mobility_heat_w_vars_90_4SD.csv')"
   ]
  },
  {
   "cell_type": "code",
   "execution_count": 13,
   "id": "f78ba40e",
   "metadata": {},
   "outputs": [
    {
     "data": {
      "text/html": [
       "<style type=\"text/css\">\n",
       "#T_c6e43_row0_col0, #T_c6e43_row0_col1, #T_c6e43_row0_col2, #T_c6e43_row0_col3, #T_c6e43_row0_col4, #T_c6e43_row0_col5, #T_c6e43_row0_col6, #T_c6e43_row0_col7 {\n",
       "  background-color: #faebdd;\n",
       "  color: #000000;\n",
       "}\n",
       "#T_c6e43_row1_col0, #T_c6e43_row1_col1, #T_c6e43_row1_col2, #T_c6e43_row1_col3, #T_c6e43_row1_col4, #T_c6e43_row1_col5, #T_c6e43_row1_col6, #T_c6e43_row1_col7 {\n",
       "  background-color: #03051a;\n",
       "  color: #f1f1f1;\n",
       "}\n",
       "</style>\n",
       "<table id=\"T_c6e43\">\n",
       "  <thead>\n",
       "    <tr>\n",
       "      <th class=\"blank level0\" >&nbsp;</th>\n",
       "      <th id=\"T_c6e43_level0_col0\" class=\"col_heading level0 col0\" >count</th>\n",
       "      <th id=\"T_c6e43_level0_col1\" class=\"col_heading level0 col1\" >mean</th>\n",
       "      <th id=\"T_c6e43_level0_col2\" class=\"col_heading level0 col2\" >std</th>\n",
       "      <th id=\"T_c6e43_level0_col3\" class=\"col_heading level0 col3\" >min</th>\n",
       "      <th id=\"T_c6e43_level0_col4\" class=\"col_heading level0 col4\" >25%</th>\n",
       "      <th id=\"T_c6e43_level0_col5\" class=\"col_heading level0 col5\" >50%</th>\n",
       "      <th id=\"T_c6e43_level0_col6\" class=\"col_heading level0 col6\" >75%</th>\n",
       "      <th id=\"T_c6e43_level0_col7\" class=\"col_heading level0 col7\" >max</th>\n",
       "    </tr>\n",
       "    <tr>\n",
       "      <th class=\"index_name level0\" >elev_1500m</th>\n",
       "      <th class=\"blank col0\" >&nbsp;</th>\n",
       "      <th class=\"blank col1\" >&nbsp;</th>\n",
       "      <th class=\"blank col2\" >&nbsp;</th>\n",
       "      <th class=\"blank col3\" >&nbsp;</th>\n",
       "      <th class=\"blank col4\" >&nbsp;</th>\n",
       "      <th class=\"blank col5\" >&nbsp;</th>\n",
       "      <th class=\"blank col6\" >&nbsp;</th>\n",
       "      <th class=\"blank col7\" >&nbsp;</th>\n",
       "    </tr>\n",
       "  </thead>\n",
       "  <tbody>\n",
       "    <tr>\n",
       "      <th id=\"T_c6e43_level0_row0\" class=\"row_heading level0 row0\" >0</th>\n",
       "      <td id=\"T_c6e43_row0_col0\" class=\"data row0 col0\" >5568.000000</td>\n",
       "      <td id=\"T_c6e43_row0_col1\" class=\"data row0 col1\" >41.545475</td>\n",
       "      <td id=\"T_c6e43_row0_col2\" class=\"data row0 col2\" >3.944329</td>\n",
       "      <td id=\"T_c6e43_row0_col3\" class=\"data row0 col3\" >26.374187</td>\n",
       "      <td id=\"T_c6e43_row0_col4\" class=\"data row0 col4\" >39.814339</td>\n",
       "      <td id=\"T_c6e43_row0_col5\" class=\"data row0 col5\" >42.442004</td>\n",
       "      <td id=\"T_c6e43_row0_col6\" class=\"data row0 col6\" >44.323891</td>\n",
       "      <td id=\"T_c6e43_row0_col7\" class=\"data row0 col7\" >49.439260</td>\n",
       "    </tr>\n",
       "    <tr>\n",
       "      <th id=\"T_c6e43_level0_row1\" class=\"row_heading level0 row1\" >1</th>\n",
       "      <td id=\"T_c6e43_row1_col0\" class=\"data row1 col0\" >173.000000</td>\n",
       "      <td id=\"T_c6e43_row1_col1\" class=\"data row1 col1\" >23.842177</td>\n",
       "      <td id=\"T_c6e43_row1_col2\" class=\"data row1 col2\" >2.825217</td>\n",
       "      <td id=\"T_c6e43_row1_col3\" class=\"data row1 col3\" >19.090580</td>\n",
       "      <td id=\"T_c6e43_row1_col4\" class=\"data row1 col4\" >21.976141</td>\n",
       "      <td id=\"T_c6e43_row1_col5\" class=\"data row1 col5\" >23.148405</td>\n",
       "      <td id=\"T_c6e43_row1_col6\" class=\"data row1 col6\" >26.360503</td>\n",
       "      <td id=\"T_c6e43_row1_col7\" class=\"data row1 col7\" >30.555989</td>\n",
       "    </tr>\n",
       "  </tbody>\n",
       "</table>\n"
      ],
      "text/plain": [
       "<pandas.io.formats.style.Styler at 0x18fe2ed10>"
      ]
     },
     "execution_count": 13,
     "metadata": {},
     "output_type": "execute_result"
    }
   ],
   "source": [
    "df.groupby('elev_1500m')['thi_heat'].describe().style.background_gradient(cmap=None)"
   ]
  },
  {
   "cell_type": "code",
   "execution_count": 7,
   "id": "045ff998",
   "metadata": {},
   "outputs": [],
   "source": [
    "low_elev = df[df['elev_1500m'] == 0]"
   ]
  },
  {
   "cell_type": "code",
   "execution_count": 9,
   "id": "8dee11c3",
   "metadata": {},
   "outputs": [],
   "source": [
    "low_elev.to_csv(f'/Users/shivyucel/Documents/projects/DPhil/Code_Data/data/paper2/india/low_elev_THI_mobility_heat_w_vars_90_4SD.csv')"
   ]
  },
  {
   "cell_type": "code",
   "execution_count": null,
   "id": "8dc32125",
   "metadata": {},
   "outputs": [],
   "source": [
    "low"
   ]
  }
 ],
 "metadata": {
  "kernelspec": {
   "display_name": "ox",
   "language": "python",
   "name": "python3"
  },
  "language_info": {
   "codemirror_mode": {
    "name": "ipython",
    "version": 3
   },
   "file_extension": ".py",
   "mimetype": "text/x-python",
   "name": "python",
   "nbconvert_exporter": "python",
   "pygments_lexer": "ipython3",
   "version": "3.11.0"
  }
 },
 "nbformat": 4,
 "nbformat_minor": 5
}

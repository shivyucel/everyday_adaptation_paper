{
 "cells": [
  {
   "cell_type": "code",
   "execution_count": 1,
   "id": "d4a26202-7f6b-4cc1-8d3a-24a730f53544",
   "metadata": {},
   "outputs": [
    {
     "name": "stderr",
     "output_type": "stream",
     "text": [
      "/var/folders/8g/qp1k_1g91m5f2m9pypxwxdhh0000gn/T/ipykernel_99403/278595787.py:8: DeprecationWarning: Please use `pearsonr` from the `scipy.stats` namespace, the `scipy.stats.stats` namespace is deprecated.\n",
      "  from scipy.stats.stats import pearsonr\n"
     ]
    }
   ],
   "source": [
    "import pandas as pd\n",
    "import geopandas as gpd\n",
    "import matplotlib.pyplot as plt\n",
    "import seaborn as sns\n",
    "sns.set_style('darkgrid')\n",
    "from scipy.stats import ttest_ind\n",
    "import numpy as np\n",
    "from scipy.stats.stats import pearsonr\n",
    "from IPython.display import display, Markdown, Latex\n",
    "plt.style.use('ggplot')\n",
    "from datetime import timedelta\n",
    "from dateutil.parser import parse\n",
    "\n",
    "data_path = '/Users/shivyucel/Documents/projects/DPhil/Code_Data/data/'"
   ]
  },
  {
   "cell_type": "markdown",
   "id": "6370a074-6b64-4470-8ed6-683259025ab6",
   "metadata": {},
   "source": [
    "### Load mobility data files"
   ]
  },
  {
   "cell_type": "markdown",
   "id": "7db56c9f-e4a3-4eea-bb58-1e1186c795e2",
   "metadata": {},
   "source": [
    "### Load/Clean Simple Heatwave Data"
   ]
  },
  {
   "cell_type": "code",
   "execution_count": 2,
   "id": "5102158f-5eb6-4bf6-85fa-2e89dded36cc",
   "metadata": {},
   "outputs": [],
   "source": [
    "#heatwave_control = pd.read_csv('/Users/shivyucel/Documents/projects/DPhil/Code_Data/data/heatwave_control/heatwave_control_90_v2.csv')\n",
    "heatwave_control = pd.read_csv('/Users/shivyucel/Documents/projects/DPhil/Code_Data/data/paper2/nigeria/THI_heatwave_control_90.csv')"
   ]
  },
  {
   "cell_type": "code",
   "execution_count": 3,
   "id": "826779e5-9a29-40b9-b6f4-b6a0f08fcf32",
   "metadata": {},
   "outputs": [
    {
     "data": {
      "text/plain": [
       "count    2275.000000\n",
       "mean        4.041758\n",
       "std         2.815730\n",
       "min         2.000000\n",
       "25%         2.000000\n",
       "50%         3.000000\n",
       "75%         5.000000\n",
       "max        15.000000\n",
       "Name: Heat Wave Duration, dtype: float64"
      ]
     },
     "execution_count": 3,
     "metadata": {},
     "output_type": "execute_result"
    }
   ],
   "source": [
    "heatwave_control['Heat Wave Duration'].describe()"
   ]
  },
  {
   "cell_type": "code",
   "execution_count": 4,
   "id": "fe24eff3-f42a-41c6-844b-18795bd60332",
   "metadata": {},
   "outputs": [],
   "source": [
    "heatwave_control['control_day'] = [parse(x) for x in heatwave_control['control_day']]\n",
    "heatwave_control['datetime'] = [parse(x) for x in heatwave_control['datetime']]"
   ]
  },
  {
   "cell_type": "code",
   "execution_count": 5,
   "id": "ca8c1be6-84a6-46ce-bcaa-df794d9d5606",
   "metadata": {},
   "outputs": [
    {
     "data": {
      "text/plain": [
       "count                          9195\n",
       "mean     15 days 12:08:22.707993474\n",
       "std       8 days 22:01:01.963388703\n",
       "min                 7 days 00:00:00\n",
       "25%                 7 days 00:00:00\n",
       "50%                14 days 00:00:00\n",
       "75%                21 days 00:00:00\n",
       "max                56 days 00:00:00\n",
       "dtype: object"
      ]
     },
     "execution_count": 5,
     "metadata": {},
     "output_type": "execute_result"
    }
   ],
   "source": [
    "(heatwave_control['datetime'] - heatwave_control['control_day']).describe()"
   ]
  },
  {
   "cell_type": "code",
   "execution_count": 6,
   "id": "f50b72fe-64ff-478e-b53b-4bb1f6d3302a",
   "metadata": {},
   "outputs": [],
   "source": [
    "heatwave_control['diff'] = (heatwave_control['datetime'] - heatwave_control['control_day'])"
   ]
  },
  {
   "cell_type": "code",
   "execution_count": 7,
   "id": "1a5ba297-3799-4cdc-958f-992ccacf0b79",
   "metadata": {},
   "outputs": [],
   "source": [
    "temp = pd.DataFrame(heatwave_control['diff'].value_counts()).sort_index()"
   ]
  },
  {
   "cell_type": "code",
   "execution_count": 8,
   "id": "d0032ddd-08a6-4bcf-81b7-c0d496d2880c",
   "metadata": {},
   "outputs": [],
   "source": [
    "temp.columns = ['Number of Instances']"
   ]
  },
  {
   "cell_type": "code",
   "execution_count": 9,
   "id": "12aa61f2-c3dd-4c16-bf33-cf668e36ce62",
   "metadata": {},
   "outputs": [
    {
     "data": {
      "text/plain": [
       "Text(0, 0.5, 'Heat and Control Difference')"
      ]
     },
     "execution_count": 9,
     "metadata": {},
     "output_type": "execute_result"
    },
    {
     "data": {
      "image/png": "[encoded data removed]",
      "text/plain": [
       "<Figure size 640x480 with 1 Axes>"
      ]
     },
     "metadata": {},
     "output_type": "display_data"
    }
   ],
   "source": [
    "sns.barplot(temp, y=temp.index, x='Number of Instances')\n",
    "plt.ylabel(\"Heat and Control Difference\")"
   ]
  },
  {
   "cell_type": "markdown",
   "id": "bf1fb5a0-5c1a-464f-a38b-3ca333e0ec19",
   "metadata": {},
   "source": [
    "### Merge Mobility with Heat Data"
   ]
  },
  {
   "cell_type": "code",
   "execution_count": 10,
   "id": "21bf874a-bde6-4880-ba4f-8eecdc6b7940",
   "metadata": {},
   "outputs": [],
   "source": [
    "mobility = pd.read_csv('/Users/shivyucel/Documents/projects/DPhil/Code_Data/data/google_mobility/NG_clean_google.csv')  "
   ]
  },
  {
   "cell_type": "code",
   "execution_count": 11,
   "id": "53bcc7f1-6aad-4343-b684-642089b06018",
   "metadata": {},
   "outputs": [],
   "source": [
    "mobility.rename(columns = {\n",
    "                                'retail_and_recreation_percent_change_from_baseline':'retail_rec', \n",
    "                                'grocery_and_pharmacy_percent_change_from_baseline':'grocery_pharm',\n",
    "                                'parks_percent_change_from_baseline': 'parks', \n",
    "                                'transit_stations_percent_change_from_baseline': 'transit', \n",
    "                                'workplaces_percent_change_from_baseline':'workplaces',\n",
    "                                'residential_percent_change_from_baseline': 'residential'}, inplace=True)\n",
    "                                "
   ]
  },
  {
   "cell_type": "code",
   "execution_count": 12,
   "id": "4a78d01a-272f-4594-9440-639c792b5942",
   "metadata": {},
   "outputs": [],
   "source": [
    "mobility.drop_duplicates(['location', 'date'], inplace=True)"
   ]
  },
  {
   "cell_type": "code",
   "execution_count": 13,
   "id": "73795e3d-11b9-445a-9758-107eb25e35a8",
   "metadata": {},
   "outputs": [],
   "source": [
    "mobility['date'] = pd.to_datetime(mobility['date'])"
   ]
  },
  {
   "cell_type": "code",
   "execution_count": 15,
   "id": "0925d0d6-3ed2-4ba6-b9dd-8a4824f5fa70",
   "metadata": {
    "tags": []
   },
   "outputs": [],
   "source": [
    "#merge mobility data with heatwave and control day data\n",
    "mobility_heat = mobility.merge(heatwave_control[['control_day', 'thi', 'location', 'datetime', 'heat_ID']], left_on=['location', 'date'], right_on=['location', 'datetime'])"
   ]
  },
  {
   "cell_type": "code",
   "execution_count": 16,
   "id": "317ec5b7-f1cf-431d-ba21-b891e4644118",
   "metadata": {},
   "outputs": [],
   "source": [
    "#get mobility on control day\n",
    "mobility_heat = mobility_heat.merge(mobility[['location', 'date', 'retail_rec', 'grocery_pharm', 'parks', 'transit', 'workplaces', 'residential']], left_on=['location', 'control_day'], right_on=['location', 'date'], suffixes=['_heat', '_control'])"
   ]
  },
  {
   "cell_type": "code",
   "execution_count": 17,
   "id": "0c91f7d3-cf1d-4735-80ad-a0333aec0d13",
   "metadata": {},
   "outputs": [],
   "source": [
    "#calculate differences between heat and control \n",
    "mobility_heat['retail_rec_difference'] = mobility_heat['retail_rec_heat'] - mobility_heat['retail_rec_control']\n",
    "mobility_heat['grocery_pharm_difference'] = mobility_heat['grocery_pharm_heat'] - mobility_heat['grocery_pharm_control']\n",
    "mobility_heat['parks_difference'] = mobility_heat['parks_heat'] - mobility_heat['parks_control']\n",
    "mobility_heat['transit_difference'] = mobility_heat['transit_heat'] - mobility_heat['transit_control']\n",
    "mobility_heat['workplaces_difference'] = mobility_heat['workplaces_heat'] - mobility_heat['workplaces_control']\n",
    "mobility_heat['residential_difference'] = mobility_heat['residential_heat'] - mobility_heat['residential_control']"
   ]
  },
  {
   "cell_type": "code",
   "execution_count": 18,
   "id": "529e040d-acd4-4cee-a4f1-3af5169b448c",
   "metadata": {},
   "outputs": [],
   "source": [
    "mobility_heat['day_of_week'] = [x.day_of_week for x in mobility_heat['date_heat']]\n",
    "mobility_heat['weekend'] = [1 if x in [5,6] else 0 for x in mobility_heat['day_of_week']]"
   ]
  },
  {
   "cell_type": "code",
   "execution_count": 19,
   "id": "f6673b21-0a56-4ad3-babe-67422f4950a6",
   "metadata": {},
   "outputs": [],
   "source": [
    "mobility_heat.reset_index(drop=True,inplace=True)"
   ]
  },
  {
   "cell_type": "code",
   "execution_count": 20,
   "id": "796a519a-f265-4472-a54b-b441064c3ce2",
   "metadata": {},
   "outputs": [
    {
     "data": {
      "text/html": [
       "<div>\n",
       "<style scoped>\n",
       "    .dataframe tbody tr th:only-of-type {\n",
       "        vertical-align: middle;\n",
       "    }\n",
       "\n",
       "    .dataframe tbody tr th {\n",
       "        vertical-align: top;\n",
       "    }\n",
       "\n",
       "    .dataframe thead th {\n",
       "        text-align: right;\n",
       "    }\n",
       "</style>\n",
       "<table border=\"1\" class=\"dataframe\">\n",
       "  <thead>\n",
       "    <tr style=\"text-align: right;\">\n",
       "      <th></th>\n",
       "      <th>Unnamed: 0</th>\n",
       "      <th>country_region_code</th>\n",
       "      <th>country_region</th>\n",
       "      <th>adm1</th>\n",
       "      <th>adm2</th>\n",
       "      <th>metro_area</th>\n",
       "      <th>iso_3166_2_code</th>\n",
       "      <th>census_fips_code</th>\n",
       "      <th>place_id</th>\n",
       "      <th>date_heat</th>\n",
       "      <th>...</th>\n",
       "      <th>workplaces_control</th>\n",
       "      <th>residential_control</th>\n",
       "      <th>retail_rec_difference</th>\n",
       "      <th>grocery_pharm_difference</th>\n",
       "      <th>parks_difference</th>\n",
       "      <th>transit_difference</th>\n",
       "      <th>workplaces_difference</th>\n",
       "      <th>residential_difference</th>\n",
       "      <th>day_of_week</th>\n",
       "      <th>weekend</th>\n",
       "    </tr>\n",
       "  </thead>\n",
       "  <tbody>\n",
       "    <tr>\n",
       "      <th>0</th>\n",
       "      <td>641</td>\n",
       "      <td>NG</td>\n",
       "      <td>Nigeria</td>\n",
       "      <td>Abia</td>\n",
       "      <td>Aba North</td>\n",
       "      <td>NaN</td>\n",
       "      <td>NaN</td>\n",
       "      <td>NaN</td>\n",
       "      <td>ChIJJ9SHpK2eQhARZRwKEePBcuk</td>\n",
       "      <td>2022-03-07</td>\n",
       "      <td>...</td>\n",
       "      <td>-29.0</td>\n",
       "      <td>NaN</td>\n",
       "      <td>NaN</td>\n",
       "      <td>-2.0</td>\n",
       "      <td>NaN</td>\n",
       "      <td>NaN</td>\n",
       "      <td>1.0</td>\n",
       "      <td>NaN</td>\n",
       "      <td>0</td>\n",
       "      <td>0</td>\n",
       "    </tr>\n",
       "    <tr>\n",
       "      <th>1</th>\n",
       "      <td>642</td>\n",
       "      <td>NG</td>\n",
       "      <td>Nigeria</td>\n",
       "      <td>Abia</td>\n",
       "      <td>Aba North</td>\n",
       "      <td>NaN</td>\n",
       "      <td>NaN</td>\n",
       "      <td>NaN</td>\n",
       "      <td>ChIJJ9SHpK2eQhARZRwKEePBcuk</td>\n",
       "      <td>2022-03-08</td>\n",
       "      <td>...</td>\n",
       "      <td>41.0</td>\n",
       "      <td>NaN</td>\n",
       "      <td>NaN</td>\n",
       "      <td>6.0</td>\n",
       "      <td>NaN</td>\n",
       "      <td>NaN</td>\n",
       "      <td>13.0</td>\n",
       "      <td>NaN</td>\n",
       "      <td>1</td>\n",
       "      <td>0</td>\n",
       "    </tr>\n",
       "    <tr>\n",
       "      <th>2</th>\n",
       "      <td>929</td>\n",
       "      <td>NG</td>\n",
       "      <td>Nigeria</td>\n",
       "      <td>Abia</td>\n",
       "      <td>Aba South</td>\n",
       "      <td>NaN</td>\n",
       "      <td>NaN</td>\n",
       "      <td>NaN</td>\n",
       "      <td>ChIJcXDuChycQhARUr8yL5GPm98</td>\n",
       "      <td>2022-03-07</td>\n",
       "      <td>...</td>\n",
       "      <td>-42.0</td>\n",
       "      <td>NaN</td>\n",
       "      <td>10.0</td>\n",
       "      <td>NaN</td>\n",
       "      <td>NaN</td>\n",
       "      <td>-27.0</td>\n",
       "      <td>1.0</td>\n",
       "      <td>NaN</td>\n",
       "      <td>0</td>\n",
       "      <td>0</td>\n",
       "    </tr>\n",
       "    <tr>\n",
       "      <th>3</th>\n",
       "      <td>930</td>\n",
       "      <td>NG</td>\n",
       "      <td>Nigeria</td>\n",
       "      <td>Abia</td>\n",
       "      <td>Aba South</td>\n",
       "      <td>NaN</td>\n",
       "      <td>NaN</td>\n",
       "      <td>NaN</td>\n",
       "      <td>ChIJcXDuChycQhARUr8yL5GPm98</td>\n",
       "      <td>2022-03-08</td>\n",
       "      <td>...</td>\n",
       "      <td>39.0</td>\n",
       "      <td>NaN</td>\n",
       "      <td>19.0</td>\n",
       "      <td>NaN</td>\n",
       "      <td>NaN</td>\n",
       "      <td>6.0</td>\n",
       "      <td>15.0</td>\n",
       "      <td>NaN</td>\n",
       "      <td>1</td>\n",
       "      <td>0</td>\n",
       "    </tr>\n",
       "    <tr>\n",
       "      <th>4</th>\n",
       "      <td>951</td>\n",
       "      <td>NG</td>\n",
       "      <td>Nigeria</td>\n",
       "      <td>Abia</td>\n",
       "      <td>Aba South</td>\n",
       "      <td>NaN</td>\n",
       "      <td>NaN</td>\n",
       "      <td>NaN</td>\n",
       "      <td>ChIJcXDuChycQhARUr8yL5GPm98</td>\n",
       "      <td>2022-03-29</td>\n",
       "      <td>...</td>\n",
       "      <td>51.0</td>\n",
       "      <td>NaN</td>\n",
       "      <td>6.0</td>\n",
       "      <td>NaN</td>\n",
       "      <td>NaN</td>\n",
       "      <td>11.0</td>\n",
       "      <td>6.0</td>\n",
       "      <td>NaN</td>\n",
       "      <td>1</td>\n",
       "      <td>0</td>\n",
       "    </tr>\n",
       "    <tr>\n",
       "      <th>...</th>\n",
       "      <td>...</td>\n",
       "      <td>...</td>\n",
       "      <td>...</td>\n",
       "      <td>...</td>\n",
       "      <td>...</td>\n",
       "      <td>...</td>\n",
       "      <td>...</td>\n",
       "      <td>...</td>\n",
       "      <td>...</td>\n",
       "      <td>...</td>\n",
       "      <td>...</td>\n",
       "      <td>...</td>\n",
       "      <td>...</td>\n",
       "      <td>...</td>\n",
       "      <td>...</td>\n",
       "      <td>...</td>\n",
       "      <td>...</td>\n",
       "      <td>...</td>\n",
       "      <td>...</td>\n",
       "      <td>...</td>\n",
       "      <td>...</td>\n",
       "    </tr>\n",
       "    <tr>\n",
       "      <th>1483</th>\n",
       "      <td>55163</td>\n",
       "      <td>NG</td>\n",
       "      <td>Nigeria</td>\n",
       "      <td>Zamfara</td>\n",
       "      <td>Gusau</td>\n",
       "      <td>NaN</td>\n",
       "      <td>NaN</td>\n",
       "      <td>NaN</td>\n",
       "      <td>ChIJlyUOw4XCsxERJi_qqjf8lzI</td>\n",
       "      <td>2022-04-14</td>\n",
       "      <td>...</td>\n",
       "      <td>151.0</td>\n",
       "      <td>NaN</td>\n",
       "      <td>NaN</td>\n",
       "      <td>-12.0</td>\n",
       "      <td>NaN</td>\n",
       "      <td>NaN</td>\n",
       "      <td>-15.0</td>\n",
       "      <td>NaN</td>\n",
       "      <td>3</td>\n",
       "      <td>0</td>\n",
       "    </tr>\n",
       "    <tr>\n",
       "      <th>1484</th>\n",
       "      <td>55168</td>\n",
       "      <td>NG</td>\n",
       "      <td>Nigeria</td>\n",
       "      <td>Zamfara</td>\n",
       "      <td>Gusau</td>\n",
       "      <td>NaN</td>\n",
       "      <td>NaN</td>\n",
       "      <td>NaN</td>\n",
       "      <td>ChIJlyUOw4XCsxERJi_qqjf8lzI</td>\n",
       "      <td>2022-04-21</td>\n",
       "      <td>...</td>\n",
       "      <td>151.0</td>\n",
       "      <td>NaN</td>\n",
       "      <td>NaN</td>\n",
       "      <td>-29.0</td>\n",
       "      <td>NaN</td>\n",
       "      <td>NaN</td>\n",
       "      <td>-20.0</td>\n",
       "      <td>NaN</td>\n",
       "      <td>3</td>\n",
       "      <td>0</td>\n",
       "    </tr>\n",
       "    <tr>\n",
       "      <th>1485</th>\n",
       "      <td>55158</td>\n",
       "      <td>NG</td>\n",
       "      <td>Nigeria</td>\n",
       "      <td>Zamfara</td>\n",
       "      <td>Gusau</td>\n",
       "      <td>NaN</td>\n",
       "      <td>NaN</td>\n",
       "      <td>NaN</td>\n",
       "      <td>ChIJlyUOw4XCsxERJi_qqjf8lzI</td>\n",
       "      <td>2022-04-08</td>\n",
       "      <td>...</td>\n",
       "      <td>149.0</td>\n",
       "      <td>NaN</td>\n",
       "      <td>NaN</td>\n",
       "      <td>4.0</td>\n",
       "      <td>NaN</td>\n",
       "      <td>NaN</td>\n",
       "      <td>1.0</td>\n",
       "      <td>NaN</td>\n",
       "      <td>4</td>\n",
       "      <td>0</td>\n",
       "    </tr>\n",
       "    <tr>\n",
       "      <th>1486</th>\n",
       "      <td>55169</td>\n",
       "      <td>NG</td>\n",
       "      <td>Nigeria</td>\n",
       "      <td>Zamfara</td>\n",
       "      <td>Gusau</td>\n",
       "      <td>NaN</td>\n",
       "      <td>NaN</td>\n",
       "      <td>NaN</td>\n",
       "      <td>ChIJlyUOw4XCsxERJi_qqjf8lzI</td>\n",
       "      <td>2022-04-22</td>\n",
       "      <td>...</td>\n",
       "      <td>101.0</td>\n",
       "      <td>NaN</td>\n",
       "      <td>NaN</td>\n",
       "      <td>9.0</td>\n",
       "      <td>NaN</td>\n",
       "      <td>NaN</td>\n",
       "      <td>46.0</td>\n",
       "      <td>NaN</td>\n",
       "      <td>4</td>\n",
       "      <td>0</td>\n",
       "    </tr>\n",
       "    <tr>\n",
       "      <th>1487</th>\n",
       "      <td>55170</td>\n",
       "      <td>NG</td>\n",
       "      <td>Nigeria</td>\n",
       "      <td>Zamfara</td>\n",
       "      <td>Gusau</td>\n",
       "      <td>NaN</td>\n",
       "      <td>NaN</td>\n",
       "      <td>NaN</td>\n",
       "      <td>ChIJlyUOw4XCsxERJi_qqjf8lzI</td>\n",
       "      <td>2022-04-25</td>\n",
       "      <td>...</td>\n",
       "      <td>77.0</td>\n",
       "      <td>NaN</td>\n",
       "      <td>NaN</td>\n",
       "      <td>15.0</td>\n",
       "      <td>NaN</td>\n",
       "      <td>NaN</td>\n",
       "      <td>44.0</td>\n",
       "      <td>NaN</td>\n",
       "      <td>0</td>\n",
       "      <td>0</td>\n",
       "    </tr>\n",
       "  </tbody>\n",
       "</table>\n",
       "<p>1488 rows × 36 columns</p>\n",
       "</div>"
      ],
      "text/plain": [
       "      Unnamed: 0 country_region_code country_region     adm1       adm2  \\\n",
       "0            641                  NG        Nigeria     Abia  Aba North   \n",
       "1            642                  NG        Nigeria     Abia  Aba North   \n",
       "2            929                  NG        Nigeria     Abia  Aba South   \n",
       "3            930                  NG        Nigeria     Abia  Aba South   \n",
       "4            951                  NG        Nigeria     Abia  Aba South   \n",
       "...          ...                 ...            ...      ...        ...   \n",
       "1483       55163                  NG        Nigeria  Zamfara      Gusau   \n",
       "1484       55168                  NG        Nigeria  Zamfara      Gusau   \n",
       "1485       55158                  NG        Nigeria  Zamfara      Gusau   \n",
       "1486       55169                  NG        Nigeria  Zamfara      Gusau   \n",
       "1487       55170                  NG        Nigeria  Zamfara      Gusau   \n",
       "\n",
       "      metro_area iso_3166_2_code  census_fips_code  \\\n",
       "0            NaN             NaN               NaN   \n",
       "1            NaN             NaN               NaN   \n",
       "2            NaN             NaN               NaN   \n",
       "3            NaN             NaN               NaN   \n",
       "4            NaN             NaN               NaN   \n",
       "...          ...             ...               ...   \n",
       "1483         NaN             NaN               NaN   \n",
       "1484         NaN             NaN               NaN   \n",
       "1485         NaN             NaN               NaN   \n",
       "1486         NaN             NaN               NaN   \n",
       "1487         NaN             NaN               NaN   \n",
       "\n",
       "                         place_id  date_heat  ...  workplaces_control  \\\n",
       "0     ChIJJ9SHpK2eQhARZRwKEePBcuk 2022-03-07  ...               -29.0   \n",
       "1     ChIJJ9SHpK2eQhARZRwKEePBcuk 2022-03-08  ...                41.0   \n",
       "2     ChIJcXDuChycQhARUr8yL5GPm98 2022-03-07  ...               -42.0   \n",
       "3     ChIJcXDuChycQhARUr8yL5GPm98 2022-03-08  ...                39.0   \n",
       "4     ChIJcXDuChycQhARUr8yL5GPm98 2022-03-29  ...                51.0   \n",
       "...                           ...        ...  ...                 ...   \n",
       "1483  ChIJlyUOw4XCsxERJi_qqjf8lzI 2022-04-14  ...               151.0   \n",
       "1484  ChIJlyUOw4XCsxERJi_qqjf8lzI 2022-04-21  ...               151.0   \n",
       "1485  ChIJlyUOw4XCsxERJi_qqjf8lzI 2022-04-08  ...               149.0   \n",
       "1486  ChIJlyUOw4XCsxERJi_qqjf8lzI 2022-04-22  ...               101.0   \n",
       "1487  ChIJlyUOw4XCsxERJi_qqjf8lzI 2022-04-25  ...                77.0   \n",
       "\n",
       "      residential_control  retail_rec_difference  grocery_pharm_difference  \\\n",
       "0                     NaN                    NaN                      -2.0   \n",
       "1                     NaN                    NaN                       6.0   \n",
       "2                     NaN                   10.0                       NaN   \n",
       "3                     NaN                   19.0                       NaN   \n",
       "4                     NaN                    6.0                       NaN   \n",
       "...                   ...                    ...                       ...   \n",
       "1483                  NaN                    NaN                     -12.0   \n",
       "1484                  NaN                    NaN                     -29.0   \n",
       "1485                  NaN                    NaN                       4.0   \n",
       "1486                  NaN                    NaN                       9.0   \n",
       "1487                  NaN                    NaN                      15.0   \n",
       "\n",
       "      parks_difference  transit_difference workplaces_difference  \\\n",
       "0                  NaN                 NaN                   1.0   \n",
       "1                  NaN                 NaN                  13.0   \n",
       "2                  NaN               -27.0                   1.0   \n",
       "3                  NaN                 6.0                  15.0   \n",
       "4                  NaN                11.0                   6.0   \n",
       "...                ...                 ...                   ...   \n",
       "1483               NaN                 NaN                 -15.0   \n",
       "1484               NaN                 NaN                 -20.0   \n",
       "1485               NaN                 NaN                   1.0   \n",
       "1486               NaN                 NaN                  46.0   \n",
       "1487               NaN                 NaN                  44.0   \n",
       "\n",
       "     residential_difference  day_of_week weekend  \n",
       "0                       NaN            0       0  \n",
       "1                       NaN            1       0  \n",
       "2                       NaN            0       0  \n",
       "3                       NaN            1       0  \n",
       "4                       NaN            1       0  \n",
       "...                     ...          ...     ...  \n",
       "1483                    NaN            3       0  \n",
       "1484                    NaN            3       0  \n",
       "1485                    NaN            4       0  \n",
       "1486                    NaN            4       0  \n",
       "1487                    NaN            0       0  \n",
       "\n",
       "[1488 rows x 36 columns]"
      ]
     },
     "execution_count": 20,
     "metadata": {},
     "output_type": "execute_result"
    }
   ],
   "source": [
    "mobility_heat"
   ]
  },
  {
   "cell_type": "code",
   "execution_count": 21,
   "id": "e599eb38-847a-4dd6-8754-1e6965613900",
   "metadata": {},
   "outputs": [],
   "source": [
    "mobility_heat['datetime'] = pd.to_datetime(mobility_heat['datetime'])"
   ]
  },
  {
   "cell_type": "code",
   "execution_count": 22,
   "id": "de801a65-18e2-4ff0-b2ca-0606e20fe1ce",
   "metadata": {},
   "outputs": [],
   "source": [
    "mobility_heat.to_csv('/Users/shivyucel/Documents/projects/DPhil/Code_Data/data/paper2/nigeria/THI_mobility_heat_clean_90.csv')"
   ]
  }
 ],
 "metadata": {
  "kernelspec": {
   "display_name": "Python 3 (ipykernel)",
   "language": "python",
   "name": "python3"
  },
  "language_info": {
   "codemirror_mode": {
    "name": "ipython",
    "version": 3
   },
   "file_extension": ".py",
   "mimetype": "text/x-python",
   "name": "python",
   "nbconvert_exporter": "python",
   "pygments_lexer": "ipython3",
   "version": "3.11.0"
  }
 },
 "nbformat": 4,
 "nbformat_minor": 5
}

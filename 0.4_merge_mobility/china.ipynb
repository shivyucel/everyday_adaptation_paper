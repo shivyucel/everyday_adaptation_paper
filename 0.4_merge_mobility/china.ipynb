{
 "cells": [
  {
   "cell_type": "code",
   "execution_count": 33,
   "id": "d3218219",
   "metadata": {
    "ExecuteTime": {
     "end_time": "2024-07-02T06:21:09.162975Z",
     "start_time": "2024-07-02T06:21:07.869813Z"
    }
   },
   "outputs": [
    {
     "name": "stderr",
     "output_type": "stream",
     "text": [
      "/var/folders/w3/nxkwqd7x4rjb765dvpmhnksc0000gn/T/ipykernel_1072/2305825900.py:8: DeprecationWarning: Please import `pearsonr` from the `scipy.stats` namespace; the `scipy.stats.stats` namespace is deprecated and will be removed in SciPy 2.0.0.\n",
      "  from scipy.stats.stats import pearsonr\n"
     ]
    }
   ],
   "source": [
    "import pandas as pd\n",
    "import geopandas as gpd\n",
    "import matplotlib.pyplot as plt\n",
    "import seaborn as sns\n",
    "sns.set_style('darkgrid')\n",
    "from scipy.stats import ttest_ind\n",
    "import numpy as np\n",
    "from scipy.stats.stats import pearsonr\n",
    "from IPython.display import display, Markdown, Latex\n",
    "plt.style.use('ggplot')\n",
    "from datetime import timedelta,datetime\n",
    "from dateutil.parser import parse"
   ]
  },
  {
   "cell_type": "code",
   "execution_count": 35,
   "id": "ebfbbced-8fee-4514-9043-f5d434239e43",
   "metadata": {},
   "outputs": [],
   "source": [
    "pd.set_option('display.max_columns', None)"
   ]
  },
  {
   "cell_type": "markdown",
   "id": "4d35793b",
   "metadata": {
    "jp-MarkdownHeadingCollapsed": true
   },
   "source": [
    "### Load mobility data files"
   ]
  },
  {
   "cell_type": "markdown",
   "id": "dae89337",
   "metadata": {},
   "source": [
    "### Load/Clean Simple Heatwave Data"
   ]
  },
  {
   "cell_type": "code",
   "execution_count": 39,
   "id": "7d94931a",
   "metadata": {
    "ExecuteTime": {
     "end_time": "2024-07-02T06:21:09.192329Z",
     "start_time": "2024-07-02T06:21:09.174952Z"
    }
   },
   "outputs": [],
   "source": [
    "heatwave_control = pd.read_csv('THI_heatwave_control_90.csv')"
   ]
  },
  {
   "cell_type": "code",
   "execution_count": 41,
   "id": "4ac60470",
   "metadata": {
    "ExecuteTime": {
     "end_time": "2024-07-02T06:21:09.238208Z",
     "start_time": "2024-07-02T06:21:09.229732Z"
    }
   },
   "outputs": [
    {
     "data": {
      "text/plain": [
       "374"
      ]
     },
     "execution_count": 41,
     "metadata": {},
     "output_type": "execute_result"
    }
   ],
   "source": [
    "len(heatwave_control['location'].unique())"
   ]
  },
  {
   "cell_type": "code",
   "execution_count": 43,
   "id": "0aadac0f",
   "metadata": {
    "ExecuteTime": {
     "end_time": "2024-07-02T06:21:09.631136Z",
     "start_time": "2024-07-02T06:21:09.272401Z"
    }
   },
   "outputs": [],
   "source": [
    "heatwave_control['control_day'] = [parse(x) for x in heatwave_control['control_day']]\n",
    "heatwave_control['datetime'] = [parse(x) for x in heatwave_control['datetime']]"
   ]
  },
  {
   "cell_type": "code",
   "execution_count": 45,
   "id": "65b2e39c",
   "metadata": {
    "ExecuteTime": {
     "end_time": "2024-07-02T06:21:09.672453Z",
     "start_time": "2024-07-02T06:21:09.665005Z"
    }
   },
   "outputs": [
    {
     "data": {
      "text/plain": [
       "count                          5438\n",
       "mean     12 days 07:33:36.476645825\n",
       "std      10 days 03:13:21.598469822\n",
       "min              -42 days +00:00:00\n",
       "25%                 7 days 00:00:00\n",
       "50%                 7 days 00:00:00\n",
       "75%                14 days 00:00:00\n",
       "max                70 days 00:00:00\n",
       "dtype: object"
      ]
     },
     "execution_count": 45,
     "metadata": {},
     "output_type": "execute_result"
    }
   ],
   "source": [
    "(heatwave_control['datetime'] - heatwave_control['control_day']).describe()"
   ]
  },
  {
   "cell_type": "code",
   "execution_count": 47,
   "id": "15b08fd4",
   "metadata": {
    "ExecuteTime": {
     "end_time": "2024-07-02T06:21:09.708876Z",
     "start_time": "2024-07-02T06:21:09.705506Z"
    }
   },
   "outputs": [],
   "source": [
    "heatwave_control['diff'] = (heatwave_control['datetime'] - heatwave_control['control_day'])"
   ]
  },
  {
   "cell_type": "code",
   "execution_count": 49,
   "id": "8fe10458",
   "metadata": {
    "ExecuteTime": {
     "end_time": "2024-07-02T06:21:09.747086Z",
     "start_time": "2024-07-02T06:21:09.743507Z"
    }
   },
   "outputs": [],
   "source": [
    "temp = pd.DataFrame(heatwave_control['diff'].value_counts()).sort_index()"
   ]
  },
  {
   "cell_type": "code",
   "execution_count": 51,
   "id": "9d35a148",
   "metadata": {
    "ExecuteTime": {
     "end_time": "2024-07-02T06:21:09.789361Z",
     "start_time": "2024-07-02T06:21:09.786817Z"
    }
   },
   "outputs": [],
   "source": [
    "temp.columns = ['Number of Instances']"
   ]
  },
  {
   "cell_type": "markdown",
   "id": "8afaf100",
   "metadata": {},
   "source": [
    "### Merge Mobility with Heat Data"
   ]
  },
  {
   "cell_type": "code",
   "execution_count": 58,
   "id": "07554309",
   "metadata": {
    "ExecuteTime": {
     "end_time": "2024-07-02T06:21:10.041577Z",
     "start_time": "2024-07-02T06:21:09.960136Z"
    }
   },
   "outputs": [],
   "source": [
    "mobility = pd.read_csv('mobility_data_clean/bd_mobility_china.csv')  "
   ]
  },
  {
   "cell_type": "code",
   "execution_count": 60,
   "id": "69313007",
   "metadata": {
    "ExecuteTime": {
     "end_time": "2024-07-02T06:21:10.135110Z",
     "start_time": "2024-07-02T06:21:10.090208Z"
    }
   },
   "outputs": [],
   "source": [
    "mobility['date'] = mobility['date'].astype(str)"
   ]
  },
  {
   "cell_type": "code",
   "execution_count": 62,
   "id": "d1e67dbc",
   "metadata": {
    "ExecuteTime": {
     "end_time": "2024-07-02T06:21:10.253713Z",
     "start_time": "2024-07-02T06:21:10.180798Z"
    }
   },
   "outputs": [],
   "source": [
    "mobility['date'] = mobility['date'].apply(lambda x: datetime(int(x[:4]),int(x[4:6]),int(x[6:])))"
   ]
  },
  {
   "cell_type": "code",
   "execution_count": 65,
   "id": "8a838092",
   "metadata": {
    "ExecuteTime": {
     "end_time": "2024-07-02T06:21:10.318894Z",
     "start_time": "2024-07-02T06:21:10.301854Z"
    }
   },
   "outputs": [],
   "source": [
    "#### excluding some cities that lack mobility data\n",
    "mobility_heat = mobility.merge(heatwave_control[['control_day', 'thi','t2m', 'location', 'datetime', 'heat_ID']], left_on=['location', 'date'], right_on=['location', 'datetime'])"
   ]
  },
  {
   "cell_type": "code",
   "execution_count": 69,
   "id": "cf1e82c7",
   "metadata": {
    "ExecuteTime": {
     "end_time": "2024-07-02T06:21:10.386766Z",
     "start_time": "2024-07-02T06:21:10.384249Z"
    }
   },
   "outputs": [],
   "source": [
    "# missing mobility data\n",
    "# ['taizishantianranlinbaohuqu, gansusheng',\n",
    "#      'zhongnongfashandanmachang, gansusheng',\n",
    "#      'taiwansheng, taiwansheng',\n",
    "#      'xianggangtebiexingzhengqu, xianggangtebiexingzhengqu',\n",
    "#      'baiyangshi, xinjiangweiwuerzizhiqu',\n",
    "#      'huyangheshi, xinjiangweiwuerzizhiqu',\n",
    "#      'xinxingshi, xinjiangweiwuerzizhiqu']"
   ]
  },
  {
   "cell_type": "code",
   "execution_count": 71,
   "id": "35d731ea",
   "metadata": {
    "ExecuteTime": {
     "end_time": "2024-07-02T06:21:10.471265Z",
     "start_time": "2024-07-02T06:21:10.451961Z"
    }
   },
   "outputs": [],
   "source": [
    "mobility_heat = mobility_heat.merge(mobility[['location', 'date', 'mob_index','holiday','makeup_day']], left_on=['location', 'control_day'], right_on=['location', 'date'], suffixes=['_heat', '_control'])"
   ]
  },
  {
   "cell_type": "code",
   "execution_count": 74,
   "id": "dc5a2442",
   "metadata": {
    "ExecuteTime": {
     "end_time": "2024-07-02T06:21:10.540966Z",
     "start_time": "2024-07-02T06:21:10.538363Z"
    }
   },
   "outputs": [],
   "source": [
    "#calculate differences between heat and control \n",
    "mobility_heat['mobility_difference'] = mobility_heat['mob_index_heat'] - mobility_heat['mob_index_control']"
   ]
  },
  {
   "cell_type": "code",
   "execution_count": 77,
   "id": "9b84e007",
   "metadata": {
    "ExecuteTime": {
     "end_time": "2024-07-02T06:21:10.616540Z",
     "start_time": "2024-07-02T06:21:10.607521Z"
    }
   },
   "outputs": [],
   "source": [
    "mobility_heat['day_of_week'] = [x.day_of_week for x in mobility_heat['date_heat']]\n",
    "mobility_heat['weekend'] = [1 if x in [5,6] else 0 for x in mobility_heat['day_of_week']]"
   ]
  },
  {
   "cell_type": "code",
   "execution_count": 80,
   "id": "867bf187",
   "metadata": {
    "ExecuteTime": {
     "end_time": "2024-07-02T06:21:10.684360Z",
     "start_time": "2024-07-02T06:21:10.681913Z"
    }
   },
   "outputs": [],
   "source": [
    "mobility_heat.reset_index(drop=True,inplace=True)"
   ]
  },
  {
   "cell_type": "code",
   "execution_count": 83,
   "id": "5c0bb55e",
   "metadata": {
    "ExecuteTime": {
     "end_time": "2024-07-02T06:21:10.758905Z",
     "start_time": "2024-07-02T06:21:10.753081Z"
    }
   },
   "outputs": [
    {
     "data": {
      "text/plain": [
       "count    5298.000000\n",
       "mean        0.134225\n",
       "std         0.483444\n",
       "min        -1.863700\n",
       "25%        -0.096625\n",
       "50%         0.061750\n",
       "75%         0.325075\n",
       "max         4.885300\n",
       "Name: mobility_difference, dtype: float64"
      ]
     },
     "execution_count": 83,
     "metadata": {},
     "output_type": "execute_result"
    }
   ],
   "source": [
    "mobility_heat['mobility_difference'].describe()"
   ]
  },
  {
   "cell_type": "code",
   "execution_count": 88,
   "id": "8c51e741",
   "metadata": {
    "ExecuteTime": {
     "end_time": "2024-07-02T06:21:10.934853Z",
     "start_time": "2024-07-02T06:21:10.929999Z"
    }
   },
   "outputs": [],
   "source": [
    "### excluding holiday and makeup day samples\n",
    "mobility_heat = mobility_heat[(mobility_heat['holiday_heat']==0)&(mobility_heat['holiday_control']==0)&(mobility_heat['makeup_day_heat']==0)&(mobility_heat['makeup_day_control']==0)]"
   ]
  },
  {
   "cell_type": "code",
   "execution_count": 90,
   "id": "e5320504",
   "metadata": {
    "ExecuteTime": {
     "end_time": "2024-07-02T06:21:11.038071Z",
     "start_time": "2024-07-02T06:21:11.006495Z"
    }
   },
   "outputs": [
    {
     "data": {
      "text/html": [
       "<div>\n",
       "<style scoped>\n",
       "    .dataframe tbody tr th:only-of-type {\n",
       "        vertical-align: middle;\n",
       "    }\n",
       "\n",
       "    .dataframe tbody tr th {\n",
       "        vertical-align: top;\n",
       "    }\n",
       "\n",
       "    .dataframe thead th {\n",
       "        text-align: right;\n",
       "    }\n",
       "</style>\n",
       "<table border=\"1\" class=\"dataframe\">\n",
       "  <thead>\n",
       "    <tr style=\"text-align: right;\">\n",
       "      <th></th>\n",
       "      <th>date_heat</th>\n",
       "      <th>mob_index_heat</th>\n",
       "      <th>dayofweek</th>\n",
       "      <th>holiday_heat</th>\n",
       "      <th>makeup_day_heat</th>\n",
       "      <th>control_day</th>\n",
       "      <th>thi</th>\n",
       "      <th>t2m</th>\n",
       "      <th>datetime</th>\n",
       "      <th>date_control</th>\n",
       "      <th>mob_index_control</th>\n",
       "      <th>holiday_control</th>\n",
       "      <th>makeup_day_control</th>\n",
       "      <th>mobility_difference</th>\n",
       "      <th>day_of_week</th>\n",
       "      <th>weekend</th>\n",
       "    </tr>\n",
       "  </thead>\n",
       "  <tbody>\n",
       "    <tr>\n",
       "      <th>count</th>\n",
       "      <td>4889</td>\n",
       "      <td>4889.000000</td>\n",
       "      <td>4889.000000</td>\n",
       "      <td>4889.0</td>\n",
       "      <td>4889.0</td>\n",
       "      <td>4889</td>\n",
       "      <td>4889.000000</td>\n",
       "      <td>4889.000000</td>\n",
       "      <td>4889</td>\n",
       "      <td>4889</td>\n",
       "      <td>4889.000000</td>\n",
       "      <td>4889.0</td>\n",
       "      <td>4889.0</td>\n",
       "      <td>4889.000000</td>\n",
       "      <td>4889.000000</td>\n",
       "      <td>4889.000000</td>\n",
       "    </tr>\n",
       "    <tr>\n",
       "      <th>mean</th>\n",
       "      <td>2023-07-18 20:34:42.389036544</td>\n",
       "      <td>7.199639</td>\n",
       "      <td>3.944160</td>\n",
       "      <td>0.0</td>\n",
       "      <td>0.0</td>\n",
       "      <td>2023-07-06 12:11:55.729187840</td>\n",
       "      <td>35.372838</td>\n",
       "      <td>31.606965</td>\n",
       "      <td>2023-07-18 20:34:42.389036544</td>\n",
       "      <td>2023-07-06 12:11:55.729187840</td>\n",
       "      <td>7.054292</td>\n",
       "      <td>0.0</td>\n",
       "      <td>0.0</td>\n",
       "      <td>0.145348</td>\n",
       "      <td>2.944160</td>\n",
       "      <td>0.267539</td>\n",
       "    </tr>\n",
       "    <tr>\n",
       "      <th>min</th>\n",
       "      <td>2023-05-04 00:00:00</td>\n",
       "      <td>3.220000</td>\n",
       "      <td>1.000000</td>\n",
       "      <td>0.0</td>\n",
       "      <td>0.0</td>\n",
       "      <td>2023-05-04 00:00:00</td>\n",
       "      <td>11.363968</td>\n",
       "      <td>12.379485</td>\n",
       "      <td>2023-05-04 00:00:00</td>\n",
       "      <td>2023-05-04 00:00:00</td>\n",
       "      <td>3.458500</td>\n",
       "      <td>0.0</td>\n",
       "      <td>0.0</td>\n",
       "      <td>-1.387000</td>\n",
       "      <td>0.000000</td>\n",
       "      <td>0.000000</td>\n",
       "    </tr>\n",
       "    <tr>\n",
       "      <th>25%</th>\n",
       "      <td>2023-07-10 00:00:00</td>\n",
       "      <td>6.541400</td>\n",
       "      <td>2.000000</td>\n",
       "      <td>0.0</td>\n",
       "      <td>0.0</td>\n",
       "      <td>2023-06-29 00:00:00</td>\n",
       "      <td>30.793822</td>\n",
       "      <td>30.022495</td>\n",
       "      <td>2023-07-10 00:00:00</td>\n",
       "      <td>2023-06-29 00:00:00</td>\n",
       "      <td>6.440900</td>\n",
       "      <td>0.0</td>\n",
       "      <td>0.0</td>\n",
       "      <td>-0.086000</td>\n",
       "      <td>1.000000</td>\n",
       "      <td>0.000000</td>\n",
       "    </tr>\n",
       "    <tr>\n",
       "      <th>50%</th>\n",
       "      <td>2023-07-23 00:00:00</td>\n",
       "      <td>7.184100</td>\n",
       "      <td>4.000000</td>\n",
       "      <td>0.0</td>\n",
       "      <td>0.0</td>\n",
       "      <td>2023-07-08 00:00:00</td>\n",
       "      <td>36.121507</td>\n",
       "      <td>32.320057</td>\n",
       "      <td>2023-07-23 00:00:00</td>\n",
       "      <td>2023-07-08 00:00:00</td>\n",
       "      <td>7.016200</td>\n",
       "      <td>0.0</td>\n",
       "      <td>0.0</td>\n",
       "      <td>0.063200</td>\n",
       "      <td>3.000000</td>\n",
       "      <td>0.000000</td>\n",
       "    </tr>\n",
       "    <tr>\n",
       "      <th>75%</th>\n",
       "      <td>2023-08-04 00:00:00</td>\n",
       "      <td>7.812100</td>\n",
       "      <td>6.000000</td>\n",
       "      <td>0.0</td>\n",
       "      <td>0.0</td>\n",
       "      <td>2023-07-19 00:00:00</td>\n",
       "      <td>40.989366</td>\n",
       "      <td>33.999104</td>\n",
       "      <td>2023-08-04 00:00:00</td>\n",
       "      <td>2023-07-19 00:00:00</td>\n",
       "      <td>7.627000</td>\n",
       "      <td>0.0</td>\n",
       "      <td>0.0</td>\n",
       "      <td>0.316300</td>\n",
       "      <td>5.000000</td>\n",
       "      <td>1.000000</td>\n",
       "    </tr>\n",
       "    <tr>\n",
       "      <th>max</th>\n",
       "      <td>2023-09-28 00:00:00</td>\n",
       "      <td>18.706500</td>\n",
       "      <td>7.000000</td>\n",
       "      <td>0.0</td>\n",
       "      <td>0.0</td>\n",
       "      <td>2023-09-21 00:00:00</td>\n",
       "      <td>51.377591</td>\n",
       "      <td>42.959206</td>\n",
       "      <td>2023-09-28 00:00:00</td>\n",
       "      <td>2023-09-21 00:00:00</td>\n",
       "      <td>14.352700</td>\n",
       "      <td>0.0</td>\n",
       "      <td>0.0</td>\n",
       "      <td>4.885300</td>\n",
       "      <td>6.000000</td>\n",
       "      <td>1.000000</td>\n",
       "    </tr>\n",
       "    <tr>\n",
       "      <th>std</th>\n",
       "      <td>NaN</td>\n",
       "      <td>1.064732</td>\n",
       "      <td>1.957599</td>\n",
       "      <td>0.0</td>\n",
       "      <td>0.0</td>\n",
       "      <td>NaN</td>\n",
       "      <td>6.952879</td>\n",
       "      <td>4.226089</td>\n",
       "      <td>NaN</td>\n",
       "      <td>NaN</td>\n",
       "      <td>0.991782</td>\n",
       "      <td>0.0</td>\n",
       "      <td>0.0</td>\n",
       "      <td>0.466521</td>\n",
       "      <td>1.957599</td>\n",
       "      <td>0.442721</td>\n",
       "    </tr>\n",
       "  </tbody>\n",
       "</table>\n",
       "</div>"
      ],
      "text/plain": [
       "                           date_heat  mob_index_heat    dayofweek  \\\n",
       "count                           4889     4889.000000  4889.000000   \n",
       "mean   2023-07-18 20:34:42.389036544        7.199639     3.944160   \n",
       "min              2023-05-04 00:00:00        3.220000     1.000000   \n",
       "25%              2023-07-10 00:00:00        6.541400     2.000000   \n",
       "50%              2023-07-23 00:00:00        7.184100     4.000000   \n",
       "75%              2023-08-04 00:00:00        7.812100     6.000000   \n",
       "max              2023-09-28 00:00:00       18.706500     7.000000   \n",
       "std                              NaN        1.064732     1.957599   \n",
       "\n",
       "       holiday_heat  makeup_day_heat                    control_day  \\\n",
       "count        4889.0           4889.0                           4889   \n",
       "mean            0.0              0.0  2023-07-06 12:11:55.729187840   \n",
       "min             0.0              0.0            2023-05-04 00:00:00   \n",
       "25%             0.0              0.0            2023-06-29 00:00:00   \n",
       "50%             0.0              0.0            2023-07-08 00:00:00   \n",
       "75%             0.0              0.0            2023-07-19 00:00:00   \n",
       "max             0.0              0.0            2023-09-21 00:00:00   \n",
       "std             0.0              0.0                            NaN   \n",
       "\n",
       "               thi          t2m                       datetime  \\\n",
       "count  4889.000000  4889.000000                           4889   \n",
       "mean     35.372838    31.606965  2023-07-18 20:34:42.389036544   \n",
       "min      11.363968    12.379485            2023-05-04 00:00:00   \n",
       "25%      30.793822    30.022495            2023-07-10 00:00:00   \n",
       "50%      36.121507    32.320057            2023-07-23 00:00:00   \n",
       "75%      40.989366    33.999104            2023-08-04 00:00:00   \n",
       "max      51.377591    42.959206            2023-09-28 00:00:00   \n",
       "std       6.952879     4.226089                            NaN   \n",
       "\n",
       "                        date_control  mob_index_control  holiday_control  \\\n",
       "count                           4889        4889.000000           4889.0   \n",
       "mean   2023-07-06 12:11:55.729187840           7.054292              0.0   \n",
       "min              2023-05-04 00:00:00           3.458500              0.0   \n",
       "25%              2023-06-29 00:00:00           6.440900              0.0   \n",
       "50%              2023-07-08 00:00:00           7.016200              0.0   \n",
       "75%              2023-07-19 00:00:00           7.627000              0.0   \n",
       "max              2023-09-21 00:00:00          14.352700              0.0   \n",
       "std                              NaN           0.991782              0.0   \n",
       "\n",
       "       makeup_day_control  mobility_difference  day_of_week      weekend  \n",
       "count              4889.0          4889.000000  4889.000000  4889.000000  \n",
       "mean                  0.0             0.145348     2.944160     0.267539  \n",
       "min                   0.0            -1.387000     0.000000     0.000000  \n",
       "25%                   0.0            -0.086000     1.000000     0.000000  \n",
       "50%                   0.0             0.063200     3.000000     0.000000  \n",
       "75%                   0.0             0.316300     5.000000     1.000000  \n",
       "max                   0.0             4.885300     6.000000     1.000000  \n",
       "std                   0.0             0.466521     1.957599     0.442721  "
      ]
     },
     "execution_count": 90,
     "metadata": {},
     "output_type": "execute_result"
    }
   ],
   "source": [
    "mobility_heat.describe()"
   ]
  },
  {
   "cell_type": "code",
   "execution_count": 93,
   "id": "1ea1f34e",
   "metadata": {
    "ExecuteTime": {
     "end_time": "2024-07-02T06:21:11.113164Z",
     "start_time": "2024-07-02T06:21:11.106793Z"
    }
   },
   "outputs": [
    {
     "data": {
      "text/plain": [
       "count    4889.000000\n",
       "mean        0.145348\n",
       "std         0.466521\n",
       "min        -1.387000\n",
       "25%        -0.086000\n",
       "50%         0.063200\n",
       "75%         0.316300\n",
       "max         4.885300\n",
       "Name: mobility_difference, dtype: float64"
      ]
     },
     "execution_count": 93,
     "metadata": {},
     "output_type": "execute_result"
    }
   ],
   "source": [
    "mobility_heat['mobility_difference'].describe()"
   ]
  },
  {
   "cell_type": "code",
   "execution_count": 96,
   "id": "58f4c0fb-03d0-41b4-aeb6-298b1f538c33",
   "metadata": {},
   "outputs": [
    {
     "data": {
      "text/plain": [
       "Index(['city', 'adm2', 'adm1', 'date_heat', 'mob_index_heat', 'dayofweek',\n",
       "       'holiday_heat', 'makeup_day_heat', 'location', 'control_day', 'thi',\n",
       "       't2m', 'datetime', 'heat_ID', 'date_control', 'mob_index_control',\n",
       "       'holiday_control', 'makeup_day_control', 'mobility_difference',\n",
       "       'day_of_week', 'weekend'],\n",
       "      dtype='object')"
      ]
     },
     "execution_count": 96,
     "metadata": {},
     "output_type": "execute_result"
    }
   ],
   "source": [
    "mobility_heat.columns"
   ]
  },
  {
   "cell_type": "code",
   "execution_count": 99,
   "id": "a4a1d0ef",
   "metadata": {
    "ExecuteTime": {
     "end_time": "2024-07-02T06:21:11.306229Z",
     "start_time": "2024-07-02T06:21:11.182975Z"
    }
   },
   "outputs": [],
   "source": [
    "mobility_heat.drop(columns=['city','dayofweek']).to_csv('THI_mobility_heat_clean_90.csv')"
   ]
  },
  {
   "cell_type": "code",
   "execution_count": null,
   "id": "c459c99e",
   "metadata": {},
   "outputs": [],
   "source": []
  },
  {
   "cell_type": "code",
   "execution_count": null,
   "id": "9a546727",
   "metadata": {},
   "outputs": [],
   "source": []
  },
  {
   "cell_type": "code",
   "execution_count": null,
   "id": "40ac6ef5",
   "metadata": {},
   "outputs": [],
   "source": []
  },
  {
   "cell_type": "code",
   "execution_count": null,
   "id": "ed9be1eb",
   "metadata": {},
   "outputs": [],
   "source": []
  },
  {
   "cell_type": "code",
   "execution_count": null,
   "id": "5fa9abf2",
   "metadata": {},
   "outputs": [],
   "source": []
  },
  {
   "cell_type": "code",
   "execution_count": null,
   "id": "71328f84",
   "metadata": {},
   "outputs": [],
   "source": []
  },
  {
   "cell_type": "code",
   "execution_count": null,
   "id": "b4de1686",
   "metadata": {},
   "outputs": [],
   "source": []
  },
  {
   "cell_type": "code",
   "execution_count": null,
   "id": "24ddd35b",
   "metadata": {},
   "outputs": [],
   "source": []
  },
  {
   "cell_type": "code",
   "execution_count": null,
   "id": "3e22627f",
   "metadata": {},
   "outputs": [],
   "source": []
  },
  {
   "cell_type": "code",
   "execution_count": null,
   "id": "1384371e",
   "metadata": {},
   "outputs": [],
   "source": []
  },
  {
   "cell_type": "code",
   "execution_count": null,
   "id": "0c0618ec",
   "metadata": {},
   "outputs": [],
   "source": []
  },
  {
   "cell_type": "code",
   "execution_count": null,
   "id": "fbb441cb",
   "metadata": {},
   "outputs": [],
   "source": []
  },
  {
   "cell_type": "code",
   "execution_count": null,
   "id": "d91170ae",
   "metadata": {},
   "outputs": [],
   "source": []
  },
  {
   "cell_type": "code",
   "execution_count": null,
   "id": "a4886cb3",
   "metadata": {},
   "outputs": [],
   "source": []
  },
  {
   "cell_type": "code",
   "execution_count": null,
   "id": "31648c5b",
   "metadata": {},
   "outputs": [],
   "source": []
  },
  {
   "cell_type": "code",
   "execution_count": null,
   "id": "9af46c00",
   "metadata": {},
   "outputs": [],
   "source": []
  },
  {
   "cell_type": "code",
   "execution_count": null,
   "id": "2994519f",
   "metadata": {},
   "outputs": [],
   "source": []
  },
  {
   "cell_type": "code",
   "execution_count": null,
   "id": "8524d9c0",
   "metadata": {},
   "outputs": [],
   "source": []
  },
  {
   "cell_type": "code",
   "execution_count": null,
   "id": "e51842ea",
   "metadata": {},
   "outputs": [],
   "source": []
  },
  {
   "cell_type": "code",
   "execution_count": null,
   "id": "bb893bba",
   "metadata": {},
   "outputs": [],
   "source": []
  },
  {
   "cell_type": "code",
   "execution_count": null,
   "id": "6905c1d3",
   "metadata": {},
   "outputs": [],
   "source": []
  },
  {
   "cell_type": "code",
   "execution_count": null,
   "id": "0379e6bf",
   "metadata": {},
   "outputs": [],
   "source": []
  },
  {
   "cell_type": "code",
   "execution_count": null,
   "id": "698a067d",
   "metadata": {},
   "outputs": [],
   "source": []
  },
  {
   "cell_type": "code",
   "execution_count": null,
   "id": "b9c319b1",
   "metadata": {},
   "outputs": [],
   "source": []
  }
 ],
 "metadata": {
  "kernelspec": {
   "display_name": "Python 3 (ipykernel)",
   "language": "python",
   "name": "python3"
  },
  "language_info": {
   "codemirror_mode": {
    "name": "ipython",
    "version": 3
   },
   "file_extension": ".py",
   "mimetype": "text/x-python",
   "name": "python",
   "nbconvert_exporter": "python",
   "pygments_lexer": "ipython3",
   "version": "3.12.2"
  },
  "varInspector": {
   "cols": {
    "lenName": 16,
    "lenType": 16,
    "lenVar": 40
   },
   "kernels_config": {
    "python": {
     "delete_cmd_postfix": "",
     "delete_cmd_prefix": "del ",
     "library": "var_list.py",
     "varRefreshCmd": "print(var_dic_list())"
    },
    "r": {
     "delete_cmd_postfix": ") ",
     "delete_cmd_prefix": "rm(",
     "library": "var_list.r",
     "varRefreshCmd": "cat(var_dic_list()) "
    }
   },
   "types_to_exclude": [
    "module",
    "function",
    "builtin_function_or_method",
    "instance",
    "_Feature"
   ],
   "window_display": false
  }
 },
 "nbformat": 4,
 "nbformat_minor": 5
}
